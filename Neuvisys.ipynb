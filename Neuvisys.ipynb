{
 "cells": [
  {
   "cell_type": "markdown",
   "metadata": {},
   "source": [
    "# Neuvisys notebook\n",
    "\n",
    "Display multiple information from a spiking neural network experiment."
   ]
  },
  {
   "cell_type": "code",
   "execution_count": null,
   "metadata": {
    "pycharm": {
     "name": "#%%\n",
     "is_executing": true
    }
   },
   "outputs": [],
   "source": [
    "%load_ext autoreload\n",
    "%autoreload 2\n",
    "\n",
    "import os\n",
    "import shutil\n",
    "import pprint\n",
    "import numpy as np\n",
    "import matplotlib.pyplot as plt\n",
    "import pandas as pd\n",
    "from pdf2image import convert_from_path\n",
    "from src.spiking_network.network.neuvisys import SpikingNetwork\n",
    "from src.spiking_network.analysis.network_display import (\n",
    "    display_network,\n",
    "    load_array_param,\n",
    "    complex_cells_directions,\n",
    "    complex_cell_disparities,\n",
    ")\n",
    "from src.spiking_network.analysis.network_statistics import (\n",
    "    rf_matching,\n",
    "    direction_norm_length,\n",
    "    orientation_norm_length,\n",
    "    direction_selectivity,\n",
    "    orientation_selectivity,\n",
    "    update_dataframe,\n",
    "    disparity_histogram,\n",
    "    inhibition_weight_against_orientation,\n",
    "    inhibition_weight_against_disparity,\n",
    "    lateral_inhibition_weight_sum,\n",
    ")\n",
    "from src.spiking_network.analysis.spike_train import (\n",
    "    spike_trains,\n",
    "    raster_plot,\n",
    "    event_plot,\n",
    "    time_histogram,\n",
    "    spike_rate_histogram,\n",
    "    isi_histogram,\n",
    "    instantaneous_rates,\n",
    "    correlation_coeficient_matrix,\n",
    "    time_histogram_comparison,\n",
    ")\n",
    "from src.spiking_network.gabor.gabbor_fitting import (\n",
    "    create_gabor_basis,\n",
    "    hists_preferred_orientations,\n",
    "    plot_preferred_orientations,\n",
    ")\n",
    "from src.spiking_network.analysis.parameter_analysis import (\n",
    "    correlation_matrix,\n",
    "    scatter_mat,\n",
    ")\n",
    "\n",
    "os.chdir(\"/home/thomas/neuvisys-analysis/src\")\n",
    "home = \"/home/thomas/\"\n",
    "\n",
    "SMALL_SIZE = 20\n",
    "MEDIUM_SIZE = 25\n",
    "BIGGER_SIZE = 30\n",
    "\n",
    "plt.rc('figure', figsize=(30, 8))\n",
    "plt.rc('font', size=SMALL_SIZE)  # controls default text sizes\n",
    "plt.rc('axes', titlesize=MEDIUM_SIZE,\n",
    "       labelsize=MEDIUM_SIZE)  # fontsize of the axes title, fontsize of the x and y labels\n",
    "plt.rc('xtick', labelsize=SMALL_SIZE)  # fontsize of the tick labels\n",
    "plt.rc('ytick', labelsize=SMALL_SIZE)  # fontsize of the tick labels\n",
    "plt.rc('legend', fontsize=SMALL_SIZE)  # legend fontsize"
   ]
  },
  {
   "cell_type": "markdown",
   "metadata": {
    "pycharm": {
     "name": "#%% md\n"
    }
   },
   "source": [
    "## Load Network\n",
    "\n",
    "loads various information of the spiking neural network into a SpikingNetwork instance."
   ]
  },
  {
   "cell_type": "code",
   "execution_count": 5,
   "metadata": {
    "pycharm": {
     "is_executing": true,
     "name": "#%%\n"
    }
   },
   "outputs": [],
   "source": [
    "network_path = \"/home/thomas/Desktop/Networks/RL/network_action/\"\n",
    "spinet = SpikingNetwork(network_path)"
   ]
  },
  {
   "cell_type": "markdown",
   "metadata": {
    "pycharm": {
     "name": "#%% md\n"
    }
   },
   "source": [
    "## Weights analysis\n",
    "\n",
    "Display of the learned receptive fields of the different neuronal layers"
   ]
  },
  {
   "cell_type": "code",
   "execution_count": null,
   "metadata": {
    "pycharm": {
     "name": "#%%\n"
    }
   },
   "outputs": [],
   "source": [
    "display_network([spinet])\n",
    "\n",
    "print(\"Simple cells weights\")\n",
    "if spinet.conf[\"nbCameras\"] == 2:\n",
    "    display(convert_from_path(network_path + \"figures/0/weight_sharing_combined.pdf\")[0])\n",
    "else:\n",
    "    display(convert_from_path(network_path + \"figures/0/weight_sharing_0.pdf\")[0])\n",
    "\n",
    "print(\"Complex cells weights (average over all simple cells)\")\n",
    "for i in range(spinet.l_shape[1, 2]):\n",
    "    display(convert_from_path(network_path + \"figures/1/complex_weights_depth_\" + str(i) + \".pdf\")[0])\n",
    "    break"
   ]
  },
  {
   "cell_type": "code",
   "execution_count": null,
   "metadata": {
    "pycharm": {
     "name": "#%%\n"
    }
   },
   "outputs": [],
   "source": [
    "network_path = \"/home/thomas/Desktop/Experiment/network_0/\"\n",
    "spinet = SpikingNetwork(network_path)\n",
    "ws = []\n",
    "cs = []\n",
    "for i in range(1000):\n",
    "    weights = []\n",
    "    confs = []\n",
    "    if os.path.exists(network_path + \"weights/intermediate_\" + str(i) + \"/0/0.npy\"):\n",
    "        for j in range(spinet.l_shape[0][2]):\n",
    "            w = np.load(network_path + \"weights/intermediate_\" + str(i) + \"/0/\" + str(j) + \".npy\")\n",
    "            # with open(network_path + \"weights/intermediate_\" + str(i) + \"/0/\" + str(j) + \".json\") as file:\n",
    "            #     confs.append(json.load(file)[\"count_spike\"])\n",
    "            weights.append(w)\n",
    "        ws.append(weights)\n",
    "        cs.append(confs)\n",
    "    else:\n",
    "        break\n",
    "\n",
    "    # spinet.weights[0] = np.array(weights)\n",
    "    # display_network([spinet])\n",
    "    # shutil.copy(network_path + \"figures/0/weight_sharing_combined.pdf\", \"/home/thomas/Bureau/weights/\" + str(i) + \".pdf\")\n",
    "\n",
    "    # disparities, residuals = rf_matching(spinet)\n",
    "    # plt.figure()\n",
    "    # plt.hist(disparities[:, 0], bins=np.arange(-8, 9), align=\"left\")\n",
    "    # plt.title(\"Histogram of simple cell disparities\")\n",
    "    # plt.xlabel(\"Disparity (px)\")\n",
    "    # plt.ylabel(\"Count\")\n",
    "    # plt.savefig(\"/home/thomas/Bureau/disparities/\" + str(i), bbox_inches=\"tight\")\n",
    "\n",
    "ws = np.array(ws)\n",
    "cs = np.array(cs)"
   ]
  },
  {
   "cell_type": "code",
   "execution_count": null,
   "metadata": {
    "pycharm": {
     "is_executing": true,
     "name": "#%%\n"
    }
   },
   "outputs": [],
   "source": [
    "total_sum = np.sum(ws, axis=tuple(np.arange(1, ws.ndim)))\n",
    "weight_diff = np.abs(np.diff(ws, axis=0))\n",
    "sum_diff = np.sum(weight_diff, axis=tuple(np.arange(1, weight_diff.ndim)))\n",
    "\n",
    "plt.figure()\n",
    "plt.title(\"Weight change percentage over time\")\n",
    "plt.ylabel(\"Weight change in %\")\n",
    "plt.xlabel(\"Time (s)\")\n",
    "plt.plot(100 * sum_diff / total_sum[:-1])"
   ]
  },
  {
   "cell_type": "code",
   "execution_count": null,
   "metadata": {},
   "outputs": [],
   "source": [
    "inhibition_weight_against_orientation(spinet)\n",
    "# inhibition_weight_against_disparity(spinet)\n",
    "lateral_inhibition_weight_sum(spinet)"
   ]
  },
  {
   "cell_type": "markdown",
   "metadata": {
    "pycharm": {
     "name": "#%% md\n"
    }
   },
   "source": [
    "## Direction and Orientation selectivity"
   ]
  },
  {
   "cell_type": "code",
   "execution_count": null,
   "metadata": {
    "pycharm": {
     "name": "#%%\n"
    }
   },
   "outputs": [],
   "source": [
    "rotations = np.array([0, 23, 45, 68, 90, 113, 135, 158, 180, 203, 225, 248, 270, 293, 315, 338])\n",
    "dir_vec, ori_vec = complex_cells_directions(spinet, rotations)\n",
    "\n",
    "angles = np.pi * rotations / 180\n",
    "\n",
    "dirs = []\n",
    "dis = []\n",
    "for i in range(len(spinet.neurons[1])):\n",
    "    dirs.append(direction_norm_length(spinet.directions[:, i], angles))\n",
    "    dis.append(direction_selectivity(spinet.directions[:, i]))\n",
    "oris = []\n",
    "ois = []\n",
    "for i in range(len(spinet.neurons[1])):\n",
    "    oris.append(orientation_norm_length(spinet.orientations[:, i], angles[0:8]))\n",
    "    ois.append(orientation_selectivity(spinet.orientations[:, i]))"
   ]
  },
  {
   "cell_type": "markdown",
   "metadata": {
    "pycharm": {
     "name": "#%% md\n"
    }
   },
   "source": [
    "## Disparity selectivity"
   ]
  },
  {
   "cell_type": "code",
   "execution_count": null,
   "metadata": {
    "pycharm": {
     "name": "#%%\n"
    }
   },
   "outputs": [],
   "source": [
    "plt.imshow(spinet.disparities)\n",
    "plt.colorbar(orientation='horizontal')\n",
    "\n",
    "plt.figure()\n",
    "mean = np.mean(spinet.disparities, axis=1)\n",
    "plt.plot(mean)"
   ]
  },
  {
   "cell_type": "code",
   "execution_count": null,
   "metadata": {
    "pycharm": {
     "name": "#%%\n"
    }
   },
   "outputs": [],
   "source": [
    "disparities = np.array([-8, -7, -6, -5, -4, -3, -2, -1, 0, 1, 2, 3, 4, 5, 6, 7, 8])\n",
    "\n",
    "dir_vec, ori_vec = complex_cell_disparities(spinet, spinet.disparities, disparities)\n",
    "\n",
    "# angles = np.pi * rotations / 180\n",
    "#\n",
    "# dirs = []\n",
    "# dis = []\n",
    "# for i in range(len(spinet.neurons[1])):\n",
    "#     dirs.append(direction_norm_length(spinet.directions[:, i], angles))\n",
    "#     dis.append(direction_selectivity(spinet.directions[:, i]))\n",
    "# oris = []\n",
    "# ois = []\n",
    "# for i in range(len(spinet.neurons[1])):\n",
    "#     oris.append(orientation_norm_length(spinet.orientations[:, i], angles[0:8]))\n",
    "#     ois.append(orientation_selectivity(spinet.orientations[:, i]))"
   ]
  },
  {
   "cell_type": "markdown",
   "metadata": {
    "pycharm": {
     "name": "#%% md\n"
    }
   },
   "source": [
    "## Spike analysis\n",
    "\n",
    "Displaying information related to spike timings in the network.\n",
    "\n",
    "This includes:\n",
    "- Eventplots\n",
    "- Time histograms\n",
    "- Inter-spike histograms\n",
    "- Raster plots\n",
    "- Instantaneous rates\n",
    "- Correlation coefficient matrices\n",
    "- spike rate histograms"
   ]
  },
  {
   "cell_type": "code",
   "execution_count": null,
   "metadata": {
    "pycharm": {
     "name": "#%%\n"
    }
   },
   "outputs": [],
   "source": [
    "for layer, layer_spike_train in enumerate(spinet.spikes):\n",
    "    subset = slice(0, len(layer_spike_train))\n",
    "    print(subset)\n",
    "    print(\"Layer \" + str(layer + 1) + \", nb neurons = \" + str(layer_spike_train[subset].shape[0]) + \":\")\n",
    "    sts = spike_trains(layer_spike_train[subset])\n",
    "    path = network_path + \"figures/\"\n",
    "    raster_plot(sts, layer, path)\n",
    "    event_plot(sts, layer, path)\n",
    "    time_histogram(sts, layer, path)\n",
    "    spike_rate_histogram(layer_spike_train, layer, path)\n",
    "    # isi_histogram(sts, layer, path)\n",
    "    instantaneous_rates(sts, layer, path)\n",
    "    # correlation_coeficient_matrix(sts, layer, path)"
   ]
  },
  {
   "cell_type": "markdown",
   "metadata": {
    "pycharm": {
     "name": "#%% md\n"
    }
   },
   "source": [
    "#### Compare activity between 2 networks"
   ]
  },
  {
   "cell_type": "code",
   "execution_count": null,
   "metadata": {
    "pycharm": {
     "name": "#%%\n"
    }
   },
   "outputs": [],
   "source": [
    "network_path1 = \"/home/thomas/Desktop/Experiment/network_control/\"\n",
    "network_path2 = \"/home/thomas/Desktop/Experiment/network_experiment/\"\n",
    "\n",
    "spinet = SpikingNetwork(network_path1)\n",
    "sts_s1 = spike_trains(spinet.spikes[0])\n",
    "sts_c1 = spike_trains(spinet.spikes[1])\n",
    "\n",
    "spinet = SpikingNetwork(network_path2)\n",
    "sts_s2 = spike_trains(spinet.spikes[0])\n",
    "sts_c2 = spike_trains(spinet.spikes[1])\n",
    "\n",
    "from scipy.stats import laplace\n",
    "\n",
    "draw = laplace(0, 1).rvs(size=50)\n",
    "draw = np.round(draw)\n",
    "\n",
    "time_histogram_comparison(spinet, sts_s1, sts_s2, 0, draw)\n",
    "time_histogram_comparison(spinet, sts_c1, sts_c2, 1, draw)"
   ]
  },
  {
   "cell_type": "markdown",
   "metadata": {
    "pycharm": {
     "name": "#%% md\n"
    }
   },
   "source": [
    "## Compute receptive field disparities"
   ]
  },
  {
   "cell_type": "code",
   "execution_count": null,
   "metadata": {
    "pycharm": {
     "name": "#%%\n"
    }
   },
   "outputs": [],
   "source": [
    "disparities, residuals = rf_matching(spinet)\n",
    "disparity_histogram(spinet, disparities)\n",
    "\n",
    "monocular_count = np.count_nonzero(np.isnan(disparities[:, 0]))\n",
    "print(\"There is : \", monocular_count, \"monocular cells (left right ratio imbalance of more than 90 %), which is \", 100 * monocular_count / disparities.shape[0], \"%\")"
   ]
  },
  {
   "cell_type": "markdown",
   "metadata": {},
   "source": [
    "## Network training information"
   ]
  },
  {
   "cell_type": "code",
   "execution_count": null,
   "metadata": {
    "pycharm": {
     "name": "#%%\n",
     "is_executing": true
    }
   },
   "outputs": [],
   "source": [
    "reward = np.array(spinet.state[\"learning_data\"][\"reward\"])\n",
    "value = np.array(spinet.state[\"learning_data\"][\"value\"])\n",
    "value_dot = np.array(spinet.state[\"learning_data\"][\"valueDot\"])\n",
    "td_error = np.array(spinet.state[\"learning_data\"][\"tdError\"])\n",
    "# score = np.array(spinet.state[\"learning_data\"][\"score\"])\n",
    "t = np.linspace(0, np.max(spinet.spikes[0]), reward.size) * 1e-6\n",
    "\n",
    "plt.figure(figsize=(40, 8))\n",
    "plt.title(\"Reward and value curves\")\n",
    "plt.xlabel(\"time (s)\")\n",
    "plt.plot(t, reward, label=\"reward\")\n",
    "plt.plot(t, value, label=\"value\")\n",
    "plt.hlines(0, 0, t[-1], linestyles=\"dashed\")\n",
    "plt.legend()\n",
    "plt.show()\n",
    "\n",
    "plt.figure(figsize=(40, 8))\n",
    "plt.title(\"Value derivative\")\n",
    "plt.xlabel(\"time (s)\")\n",
    "plt.plot(t, value_dot, color=\"green\", label=\"value_dot\")\n",
    "plt.hlines(0, 0, t[-1], linestyles=\"dashed\")\n",
    "plt.show()\n",
    "\n",
    "plt.figure(figsize=(40, 8))\n",
    "plt.title(\"TD error\")\n",
    "plt.xlabel(\"time (s)\")\n",
    "plt.plot(t, td_error, color=\"red\", label=\"td_error\")\n",
    "plt.hlines(0, 0, t[-1], linestyles=\"dashed\")\n",
    "plt.show()\n",
    "\n",
    "td_actions = []\n",
    "for i in range(0, td_error.shape[0], 10):\n",
    "    td_actions.append(np.mean(td_error[i:i + 10]))\n",
    "\n",
    "plt.figure(figsize=(40, 8))\n",
    "plt.title(\"mean TD error at action choice\")\n",
    "plt.xlabel(\"time (s)\")\n",
    "plt.plot(td_actions, color=\"cyan\", label=\"td_error\")\n",
    "plt.hlines(0, 0, i / 10, linestyles=\"dashed\")\n",
    "plt.show()\n",
    "\n",
    "# plt.figure(figsize=(40, 8))\n",
    "# plt.title(\"Score\")\n",
    "# plt.xlabel(\"time (s)\")\n",
    "# plt.plot(10 * np.arange(0, score.shape[0]), score, color=\"red\", label=\"td_error\")\n",
    "# plt.show()"
   ]
  },
  {
   "cell_type": "markdown",
   "metadata": {},
   "source": [
    "## Policy plot"
   ]
  },
  {
   "cell_type": "code",
   "execution_count": null,
   "metadata": {
    "pycharm": {
     "name": "#%%\n"
    }
   },
   "outputs": [],
   "source": [
    "actions = np.array(spinet.state[\"learning_data\"][\"action\"])\n",
    "exploration = np.array(spinet.state[\"learning_data\"][\"exploration\"])\n",
    "\n",
    "t = np.arange(0, 10 * actions.size, 10)\n",
    "\n",
    "classes = [\"Left\", \"None\", \"Right\"]\n",
    "markers = [\"s\", \"o\"]\n",
    "\n",
    "plt.figure(figsize=(40, 8))\n",
    "plt.title(\"Actions\")\n",
    "plt.xlabel(\"time (s)\")\n",
    "\n",
    "plt.scatter(t[exploration == 0], np.zeros_like(t)[exploration == 0], c=actions[exploration == 0], marker='1',\n",
    "            linewidths=15)\n",
    "plt.scatter(t[exploration == 1], np.zeros_like(t)[exploration == 1], c=actions[exploration == 1], marker='s',\n",
    "            linewidths=15)\n",
    "\n",
    "plt.legend(handles=plt.scatter.legend_elements()[0], labels=classes)\n",
    "plt.show()"
   ]
  },
  {
   "cell_type": "markdown",
   "metadata": {},
   "source": [
    "## Critic and Actor neurons weights"
   ]
  },
  {
   "cell_type": "code",
   "execution_count": null,
   "metadata": {
    "pycharm": {
     "name": "#%%\n"
    }
   },
   "outputs": [],
   "source": [
    "w = np.zeros((spinet.neurons[2][0].weights.shape[0], spinet.neurons[2][0].weights.shape[1]))\n",
    "for neuron in spinet.neurons[2]:\n",
    "    w += np.sum(neuron.weights, axis=2)\n",
    "plt.figure(figsize=(18, 8))\n",
    "plt.title(\"Critic neurons summed weights\")\n",
    "plt.imshow(w.T)\n",
    "plt.colorbar(orientation=\"horizontal\")\n",
    "plt.show()\n",
    "\n",
    "for i, neuron in enumerate(spinet.neurons[3]):\n",
    "    plt.figure(figsize=(18, 8))\n",
    "    if i == 0:\n",
    "        plt.title(\"Action: camera to the left\")\n",
    "    else:\n",
    "        plt.title(\"Action: camera to the right\")\n",
    "    plt.imshow(np.sum(neuron.weights, axis=2).T)\n",
    "    plt.colorbar(orientation=\"horizontal\")\n",
    "    plt.show()"
   ]
  },
  {
   "cell_type": "markdown",
   "metadata": {},
   "source": [
    "## Event rates"
   ]
  },
  {
   "cell_type": "code",
   "execution_count": null,
   "metadata": {
    "pycharm": {
     "name": "#%%\n"
    }
   },
   "outputs": [],
   "source": [
    "nb_events = np.array(spinet.state[\"learning_data\"][\"nbEvents\"])[:-1]\n",
    "t = np.linspace(0, np.max(spinet.spikes[0]), nb_events.size) * 1e-6\n",
    "plt.figure(figsize=(40, 8))\n",
    "plt.title(\"Number of events (every 10ms)\")\n",
    "plt.xlabel(\"time (s)\")\n",
    "plt.plot(t, nb_events)\n",
    "plt.show()"
   ]
  },
  {
   "cell_type": "markdown",
   "metadata": {},
   "source": [
    "## Network configuration parameters"
   ]
  },
  {
   "cell_type": "code",
   "execution_count": null,
   "metadata": {
    "pycharm": {
     "name": "#%%\n"
    }
   },
   "outputs": [],
   "source": [
    "print(\"Network config:\\n\")\n",
    "pprint.pprint(spinet.conf)\n",
    "for layer in range(len(spinet.neurons)):\n",
    "    print(\"\\nLayer \" + str(layer) + \":\\n\")\n",
    "    pprint.pprint(spinet.neurons[layer][0].conf)"
   ]
  },
  {
   "cell_type": "markdown",
   "metadata": {},
   "source": [
    "## Load various neuron informations"
   ]
  },
  {
   "cell_type": "code",
   "execution_count": null,
   "metadata": {
    "pycharm": {
     "name": "#%%\n"
    }
   },
   "outputs": [],
   "source": [
    "simpa_decay, compa_decay = load_array_param(spinet, \"learning_decay\")\n",
    "simpa_spike, compa_spike = load_array_param(spinet, \"count_spike\")\n",
    "\n",
    "# Plot correlations\n",
    "\n",
    "df = pd.read_csv(home + \"Desktop/test/df\")\n",
    "temp = df.drop(columns=[\"TRACKING\", \"SYNAPSE_DELAY\", \"STDP_LEARNING\", \"MIN_THRESH\"])\n",
    "\n",
    "correlation_matrix(temp.iloc[:, 25:])\n",
    "scatter_mat(temp.iloc[:, 25:])"
   ]
  },
  {
   "cell_type": "markdown",
   "metadata": {},
   "source": [
    "## Load and create gabor basis"
   ]
  },
  {
   "cell_type": "code",
   "execution_count": null,
   "metadata": {
    "pycharm": {
     "name": "#%%\n"
    }
   },
   "outputs": [],
   "source": [
    "basis = spinet.generate_weight_mat()\n",
    "spinet.generate_weight_images()\n",
    "gabor_params_l = create_gabor_basis(spinet, \"None\", nb_ticks=8)\n",
    "# gabor_params_l = create_gabor_basis(spinet, \"left/\", nb_ticks=8)\n",
    "# gabor_params_r = create_gabor_basis(spinet, \"right/\", nb_ticks=8)"
   ]
  },
  {
   "cell_type": "markdown",
   "metadata": {
    "pycharm": {
     "name": "#%% md\n"
    }
   },
   "source": [
    "#### Create plots for preferred orientations and directions"
   ]
  },
  {
   "cell_type": "code",
   "execution_count": null,
   "metadata": {
    "pycharm": {
     "name": "#%%\n"
    }
   },
   "outputs": [],
   "source": [
    "oris, oris_r = hists_preferred_orientations(spinet)\n",
    "plot_preferred_orientations(spinet, oris, oris_r)"
   ]
  }
 ],
 "metadata": {
  "kernelspec": {
   "display_name": "Python 3 (ipykernel)",
   "language": "python",
   "name": "python3"
  },
  "language_info": {
   "codemirror_mode": {
    "name": "ipython",
    "version": 3
   },
   "file_extension": ".py",
   "mimetype": "text/x-python",
   "name": "python",
   "nbconvert_exporter": "python",
   "pygments_lexer": "ipython3",
   "version": "3.8.12"
  }
 },
 "nbformat": 4,
 "nbformat_minor": 1
}