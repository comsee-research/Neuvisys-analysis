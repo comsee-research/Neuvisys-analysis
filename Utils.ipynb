{
 "cells": [
  {
   "cell_type": "markdown",
   "id": "532539b9",
   "metadata": {
    "pycharm": {
     "name": "#%% md\n"
    }
   },
   "source": [
    "# Network utility functions"
   ]
  },
  {
   "cell_type": "code",
   "execution_count": 1,
   "id": "5b26cddf",
   "metadata": {
    "pycharm": {
     "name": "#%%\n"
    }
   },
   "outputs": [],
   "source": [
    "%load_ext autoreload\n",
    "%autoreload 2\n",
    "\n",
    "import os\n",
    "import shutil\n",
    "\n",
    "import numpy as np\n",
    "from scipy.stats import laplace\n",
    "import matplotlib.pyplot as plt\n",
    "\n",
    "from src.events.Events import (\n",
    "    Events,\n",
    ")\n",
    "from src.events.tools.generation.pix2nvs import Pix2Eve\n",
    "from src.events.tools.generation.stimuli_gen import (\n",
    "    moving_lines,\n",
    "    disparity_bars\n",
    ")\n",
    "from src.events.tools.modification.event_modification import (\n",
    "    rectify_events,\n",
    "    concatenate_npz,\n",
    ")\n",
    "from src.frames.frame_analysis import (\n",
    "    load_frames,\n",
    "    rectify_frames,\n",
    "    write_frames,\n",
    "    stereo_matching,\n",
    ")\n",
    "import src.spiking_network.network.network_params as network_params\n",
    "from src.spiking_network.network.neuvisys import (\n",
    "    SpikingNetwork,\n",
    "    delete_files,\n",
    "    clean_network,\n",
    "    shuffle_weights,\n",
    ")\n",
    "from src.spiking_network.planning.network_planner import (\n",
    "    create_networks,\n",
    "    random_params,\n",
    "    launch_neuvisys_multi_pass,\n",
    "    change_param,\n",
    "    divide_visual_field,\n",
    ")\n",
    "\n",
    "os.chdir(\"/home/thomas/neuvisys-analysis/src\")\n",
    "home = \"/home/thomas/\"\n",
    "\n",
    "# network_path = home + \"neuvisys-dv/configuration/network_ref_vh/\"\n",
    "network_path = home + \"Desktop/Experiment/network_0/\"\n",
    "\n",
    "rotations = np.array([0, 23, 45, 68, 90, 113, 135, 158, 180, 203, 225, 248, 270, 293, 315, 338])\n",
    "disparities = np.array([-8, -7, -6, -5, -4, -3, -2, -1, 0, 1, 2, 3, 4, 5, 6, 7, 8])"
   ]
  },
  {
   "cell_type": "markdown",
   "id": "05302e79",
   "metadata": {
    "pycharm": {
     "name": "#%% md\n"
    }
   },
   "source": [
    "## CAUTION: Delete Weights"
   ]
  },
  {
   "cell_type": "code",
   "execution_count": null,
   "id": "5b4c3825",
   "metadata": {
    "pycharm": {
     "name": "#%%\n"
    }
   },
   "outputs": [],
   "source": [
    "clean_network(\"/home/thomas/Desktop/Experiment/network_0/\", [0, 1])"
   ]
  },
  {
   "cell_type": "markdown",
   "id": "469f4cb0",
   "metadata": {
    "pycharm": {
     "name": "#%% md\n"
    }
   },
   "source": [
    "## Network creation and launch"
   ]
  },
  {
   "cell_type": "code",
   "execution_count": null,
   "id": "49fc3f58",
   "metadata": {
    "pycharm": {
     "name": "#%%\n"
    }
   },
   "outputs": [],
   "source": [
    "# params = {\"simple_cell_config\" : {\"ETA_LTP\": [0.0077, 0.0077]}, \"complex_cell_config\" : {\"ETA_LTP\": [0.0077, 0.0077]}}\n",
    "# create_networks(home + \"neuvisys-dv/cmake-build-release\", home + \"Bureau\", 2, {})\n",
    "random_params(\"/home/thomas/neuvisys-dv/cmake-build-release\", \"/home/thomas/Desktop/Experiment\", 1)"
   ]
  },
  {
   "cell_type": "code",
   "execution_count": 9,
   "id": "0c9f45a4",
   "metadata": {
    "pycharm": {
     "name": "#%%\n"
    }
   },
   "outputs": [
    {
     "name": "stdout",
     "output_type": "stream",
     "text": [
      "Layer 0: weights loaded from file\n",
      "Layer 1: weights loaded from file\n",
      "Unpacking events...\n",
      "Feeding network: 9141600 events...\n",
      "Saving Network...\n",
      "Finished.\n"
     ]
    }
   ],
   "source": [
    "launch_neuvisys_multi_pass(\"/home/thomas/neuvisys-dv/cmake-build-release/neuvisys-exe\",\n",
    "                           \"/home/thomas/Desktop/Experiment/network_0/configs/network_config.json\",\n",
    "                           \"/home/thomas/Desktop/Events/left_e/vlines.npz\", 1)"
   ]
  },
  {
   "cell_type": "code",
   "execution_count": null,
   "id": "64c17430",
   "metadata": {
    "pycharm": {
     "name": "#%%\n"
    }
   },
   "outputs": [],
   "source": [
    "# Launch training of multiple networks\n",
    "\n",
    "n_networks = 100\n",
    "exec_path = home + \"neuvisys-dv/cmake-build-release/neuvisys-exe\"\n",
    "networks_path = home + \"Desktop/test/\"\n",
    "event_path = home + \"Desktop/shapes.npz\"\n",
    "\n",
    "params = {\"simple_cell_config\": {\"TARGET_SPIKE_RATE\": [0.1, 0.2, 0.3]}}\n",
    "\n",
    "create_networks(exec_path, networks_path, n_networks, params)\n",
    "nb_iterations = 5\n",
    "\n",
    "df = []\n",
    "\n",
    "for i in range(0, n_networks):\n",
    "    launch_neuvisys_multi_pass(\n",
    "        exec_path, networks_path + \"network_\" + str(i) + \"/configs/network_config.json\", event_path, nb_iterations,\n",
    "    )\n",
    "\n",
    "    spinet = SpikingNetwork(networks_path + \"network_\" + str(i) + \"/\")\n",
    "    # display_network([spinet], 0)\n",
    "    # update_dataframe(df, spinet)\n",
    "\n",
    "# df = pd.DataFrame(df)\n",
    "# df.to_csv(home + \"Desktop/test/df\")"
   ]
  },
  {
   "cell_type": "markdown",
   "id": "6e9888c0",
   "metadata": {
    "pycharm": {
     "name": "#%% md\n"
    }
   },
   "source": [
    "#### Orientation response"
   ]
  },
  {
   "cell_type": "code",
   "execution_count": 5,
   "id": "97460978",
   "metadata": {
    "pycharm": {
     "name": "#%%\n"
    }
   },
   "outputs": [
    {
     "name": "stdout",
     "output_type": "stream",
     "text": [
      "Layer 0: weights loaded from file\n",
      "Layer 1: weights loaded from file\n",
      "Unpacking events...\n",
      "Feeding network: 45708000 events...\n",
      "50%\n",
      "Saving Network...\n",
      "Finished.\n",
      "Layer 0: weights loaded from file\n",
      "Layer 1: weights loaded from file\n",
      "Unpacking events...\n",
      "Feeding network: 45688325 events...\n",
      "50%\n",
      "Saving Network...\n",
      "Finished.\n",
      "Layer 0: weights loaded from file\n",
      "Layer 1: weights loaded from file\n",
      "Unpacking events...\n",
      "Feeding network: 45674725 events...\n",
      "50%\n",
      "Saving Network...\n",
      "Finished.\n",
      "Layer 0: weights loaded from file\n",
      "Layer 1: weights loaded from file\n",
      "Unpacking events...\n",
      "Feeding network: 45679550 events...\n",
      "50%\n",
      "Saving Network...\n",
      "Finished.\n",
      "Layer 0: weights loaded from file\n",
      "Layer 1: weights loaded from file\n",
      "Unpacking events...\n",
      "Feeding network: 45723900 events...\n",
      "50%\n",
      "Saving Network...\n",
      "Finished.\n",
      "Layer 0: weights loaded from file\n",
      "Layer 1: weights loaded from file\n",
      "Unpacking events...\n",
      "Feeding network: 45679575 events...\n",
      "50%\n",
      "Saving Network...\n",
      "Finished.\n",
      "Layer 0: weights loaded from file\n",
      "Layer 1: weights loaded from file\n",
      "Unpacking events...\n",
      "Feeding network: 45674350 events...\n",
      "50%\n",
      "Saving Network...\n",
      "Finished.\n",
      "Layer 0: weights loaded from file\n",
      "Layer 1: weights loaded from file\n",
      "Unpacking events...\n",
      "Feeding network: 45690300 events...\n",
      "50%\n",
      "Saving Network...\n",
      "Finished.\n",
      "Layer 0: weights loaded from file\n",
      "Layer 1: weights loaded from file\n",
      "Unpacking events...\n",
      "Feeding network: 45708000 events...\n",
      "50%\n",
      "Saving Network...\n",
      "Finished.\n",
      "Layer 0: weights loaded from file\n",
      "Layer 1: weights loaded from file\n",
      "Unpacking events...\n",
      "Feeding network: 45688450 events...\n",
      "50%\n",
      "Saving Network...\n",
      "Finished.\n",
      "Layer 0: weights loaded from file\n",
      "Layer 1: weights loaded from file\n",
      "Unpacking events...\n",
      "Feeding network: 45674350 events...\n",
      "50%\n",
      "Saving Network...\n",
      "Finished.\n",
      "Layer 0: weights loaded from file\n",
      "Layer 1: weights loaded from file\n",
      "Unpacking events...\n",
      "Feeding network: 45679525 events...\n",
      "50%\n",
      "Saving Network...\n",
      "Finished.\n",
      "Layer 0: weights loaded from file\n",
      "Layer 1: weights loaded from file\n",
      "Unpacking events...\n",
      "Feeding network: 45723900 events...\n",
      "50%\n",
      "Saving Network...\n",
      "Finished.\n",
      "Layer 0: weights loaded from file\n",
      "Layer 1: weights loaded from file\n",
      "Unpacking events...\n",
      "Feeding network: 45679675 events...\n",
      "50%\n",
      "Saving Network...\n",
      "Finished.\n",
      "Layer 0: weights loaded from file\n",
      "Layer 1: weights loaded from file\n",
      "Unpacking events...\n",
      "Feeding network: 45674725 events...\n",
      "50%\n",
      "Saving Network...\n",
      "Finished.\n",
      "Layer 0: weights loaded from file\n",
      "Layer 1: weights loaded from file\n",
      "Unpacking events...\n",
      "Feeding network: 45689575 events...\n",
      "50%\n",
      "Saving Network...\n",
      "Finished.\n"
     ]
    }
   ],
   "source": [
    "exec_path = home + \"neuvisys-dv/cmake-build-release/neuvisys-exe\"\n",
    "network_path = \"/home/thomas/Desktop/Networks/lateral_weight_plot/network_0/\"\n",
    "event_rotation = home + \"Videos/lines/rotations/\"\n",
    "\n",
    "spikes = [[], []]\n",
    "for rot in rotations:\n",
    "    launch_neuvisys_multi_pass(exec_path, network_path + \"configs/network_config.json\",\n",
    "                               event_rotation + str(rot) + \".npz\", 5)\n",
    "    spinet = SpikingNetwork(network_path)\n",
    "    spikes[0].append(spinet.spikes[0])\n",
    "    spikes[1].append(spinet.spikes[1])\n",
    "spinet.save_rotation_response(spikes, rotations)"
   ]
  },
  {
   "cell_type": "markdown",
   "id": "3ceb06d7",
   "metadata": {
    "pycharm": {
     "name": "#%% md\n"
    }
   },
   "source": [
    "#### Disparity response"
   ]
  },
  {
   "cell_type": "code",
   "execution_count": null,
   "id": "7aa14122",
   "metadata": {
    "pycharm": {
     "name": "#%%\n"
    }
   },
   "outputs": [],
   "source": [
    "exec_path = home + \"neuvisys-dv/cmake-build-release/neuvisys-exe\"\n",
    "network_path = home + \"Desktop/network_experiment/\"\n",
    "event_disparity = home + \"Videos/disparity/base_disp/\"\n",
    "\n",
    "spikes = [[], []]\n",
    "for disp in disparities:\n",
    "    launch_neuvisys_multi_pass(exec_path, network_path + \"configs/network_config.json\",\n",
    "                               event_disparity + str(disp) + \".npz\", 5)\n",
    "    spinet = SpikingNetwork(network_path)\n",
    "    spikes[0].append(spinet.spikes[0])\n",
    "    spikes[1].append(spinet.spikes[1])\n",
    "spinet.save_complex_disparities(spikes[1], disparities)"
   ]
  },
  {
   "cell_type": "markdown",
   "id": "",
   "metadata": {
    "pycharm": {
     "name": "#%% md\n"
    }
   },
   "source": [
    "#### Inhibition weight learning"
   ]
  },
  {
   "cell_type": "code",
   "execution_count": 2,
   "id": "5a4a27e2",
   "metadata": {
    "pycharm": {
     "name": "#%%\n"
    }
   },
   "outputs": [],
   "source": [
    "exec_path = home + \"neuvisys-dv/cmake-build-release/neuvisys-exe\"\n",
    "networks_path = home + \"Desktop/Experiment/\"\n",
    "event_path = home + \"Videos/disparity/\"\n",
    "\n",
    "# orientations\n",
    "shapes = home + \"Videos/shapes.npz\"\n",
    "h_events = home + \"Videos/lines/hlines.npz\"\n",
    "v_events = home + \"Videos/lines/vlines.npz\"\n",
    "vh_events = home + \"Videos/lines/vhlines.npz\"\n",
    "sim_h = home + \"Videos/lines/sim_h.npz\"\n",
    "sim_v = home + \"Videos/lines/sim_v.npz\"\n",
    "sim_vh = home + \"Videos/lines/sim_vh.npz\"\n",
    "rot_events = home + \"Videos/lines/rotations.npz\"\n",
    "list_events_rot = [home + \"Videos/lines/rotations/\" + str(rotation) + \".npz\" for rotation in rotations]\n",
    "\n",
    "# disparity\n",
    "events_0 = home + \"Videos/disparity/disp_forward/0.npz\"\n",
    "list_disparities = [home + \"Videos/disparity/disp_forward/\" + str(disp) + \".npz\" for disp in\n",
    "                    [-5, -4, -3, -2, -1, 0, 1, 2, 3, 4, 5]]"
   ]
  },
  {
   "cell_type": "code",
   "execution_count": 4,
   "id": "8a7f9b9a",
   "metadata": {
    "pycharm": {
     "name": "#%%\n"
    }
   },
   "outputs": [
    {
     "name": "stderr",
     "output_type": "stream",
     "text": [
      "/home/thomas/neuvisys-dv/cmake-build-release/neuvisys-exe: /home/thomas/miniconda3/envs/neuvisys-analysis/lib/libhdf5_cpp.so.103: no version information available (required by /home/thomas/neuvisys-dv/cmake-build-release/neuvisys-exe)\n",
      "/home/thomas/neuvisys-dv/cmake-build-release/neuvisys-exe: /home/thomas/miniconda3/envs/neuvisys-analysis/lib/libhdf5_cpp.so.103: no version information available (required by /home/thomas/neuvisys-dv/cmake-build-release/neuvisys-exe)\n",
      "/home/thomas/neuvisys-dv/cmake-build-release/neuvisys-exe: /home/thomas/miniconda3/envs/neuvisys-analysis/lib/libhdf5_cpp.so.103: no version information available (required by /home/thomas/neuvisys-dv/cmake-build-release/neuvisys-exe)\n",
      "/home/thomas/neuvisys-dv/cmake-build-release/neuvisys-exe: /home/thomas/miniconda3/envs/neuvisys-analysis/lib/libhdf5_cpp.so.103: no version information available (required by /home/thomas/neuvisys-dv/cmake-build-release/neuvisys-exe)\n"
     ]
    }
   ],
   "source": [
    "create_networks(exec_path, networks_path, 1, network_params.disparity_9regions())"
   ]
  },
  {
   "cell_type": "markdown",
   "id": "11683855",
   "metadata": {
    "pycharm": {
     "name": "#%% md\n"
    }
   },
   "source": [
    "##### learning the base network"
   ]
  },
  {
   "cell_type": "code",
   "execution_count": 28,
   "id": "",
   "metadata": {
    "pycharm": {
     "name": "#%%\n"
    }
   },
   "outputs": [
    {
     "name": "stdout",
     "output_type": "stream",
     "text": [
      "Layer 0: new weights generated\n",
      "Layer 1: new weights generated\n",
      "Layer 2: new weights generated\n",
      "Layer 3: new weights generated\n",
      "Unpacking events...\n",
      "Feeding network: 83705735 events...\n",
      "19%\n",
      "39%\n",
      "59%\n",
      "79%\n",
      "98%\n",
      "Saving Network...\n",
      "Creating network state file\n",
      "Finished.\n",
      "Layer 0: weights loaded from file\n",
      "Layer 1: weights loaded from file\n",
      "Layer 2: weights loaded from file\n",
      "Layer 3: weights loaded from file\n",
      "Unpacking events...\n",
      "Feeding network: 83705735 events...\n"
     ]
    },
    {
     "ename": "KeyboardInterrupt",
     "evalue": "",
     "output_type": "error",
     "traceback": [
      "\u001B[0;31m---------------------------------------------------------------------------\u001B[0m",
      "\u001B[0;31mKeyboardInterrupt\u001B[0m                         Traceback (most recent call last)",
      "\u001B[0;32m/tmp/ipykernel_3571/3741524831.py\u001B[0m in \u001B[0;36m<module>\u001B[0;34m\u001B[0m\n\u001B[1;32m     10\u001B[0m \u001B[0;34m\u001B[0m\u001B[0m\n\u001B[1;32m     11\u001B[0m \u001B[0;32mfor\u001B[0m \u001B[0mi\u001B[0m \u001B[0;32min\u001B[0m \u001B[0mrange\u001B[0m\u001B[0;34m(\u001B[0m\u001B[0;36m3\u001B[0m\u001B[0;34m)\u001B[0m\u001B[0;34m:\u001B[0m\u001B[0;34m\u001B[0m\u001B[0;34m\u001B[0m\u001B[0m\n\u001B[0;32m---> 12\u001B[0;31m     \u001B[0mlaunch_neuvisys_multi_pass\u001B[0m\u001B[0;34m(\u001B[0m\u001B[0mexec_path\u001B[0m\u001B[0;34m,\u001B[0m \u001B[0mpath\u001B[0m \u001B[0;34m+\u001B[0m \u001B[0;34m\"configs/network_config.json\"\u001B[0m\u001B[0;34m,\u001B[0m \u001B[0msim_vh\u001B[0m\u001B[0;34m,\u001B[0m \u001B[0;36m5\u001B[0m\u001B[0;34m)\u001B[0m\u001B[0;34m\u001B[0m\u001B[0;34m\u001B[0m\u001B[0m\n\u001B[0m",
      "\u001B[0;32m~/neuvisys-analysis/src/spiking_network/planning/network_planner.py\u001B[0m in \u001B[0;36mlaunch_neuvisys_multi_pass\u001B[0;34m(exec_path, network_path, event_file, nb_pass)\u001B[0m\n\u001B[1;32m     87\u001B[0m \u001B[0;34m\u001B[0m\u001B[0m\n\u001B[1;32m     88\u001B[0m \u001B[0;32mdef\u001B[0m \u001B[0mlaunch_neuvisys_multi_pass\u001B[0m\u001B[0;34m(\u001B[0m\u001B[0mexec_path\u001B[0m\u001B[0;34m,\u001B[0m \u001B[0mnetwork_path\u001B[0m\u001B[0;34m,\u001B[0m \u001B[0mevent_file\u001B[0m\u001B[0;34m,\u001B[0m \u001B[0mnb_pass\u001B[0m\u001B[0;34m)\u001B[0m\u001B[0;34m:\u001B[0m\u001B[0;34m\u001B[0m\u001B[0;34m\u001B[0m\u001B[0m\n\u001B[0;32m---> 89\u001B[0;31m     \u001B[0;32mfor\u001B[0m \u001B[0mpath\u001B[0m \u001B[0;32min\u001B[0m \u001B[0mexecute\u001B[0m\u001B[0;34m(\u001B[0m\u001B[0;34m[\u001B[0m\u001B[0mexec_path\u001B[0m\u001B[0;34m,\u001B[0m \u001B[0mnetwork_path\u001B[0m\u001B[0;34m,\u001B[0m \u001B[0mevent_file\u001B[0m\u001B[0;34m,\u001B[0m \u001B[0mstr\u001B[0m\u001B[0;34m(\u001B[0m\u001B[0mnb_pass\u001B[0m\u001B[0;34m)\u001B[0m\u001B[0;34m]\u001B[0m\u001B[0;34m)\u001B[0m\u001B[0;34m:\u001B[0m\u001B[0;34m\u001B[0m\u001B[0;34m\u001B[0m\u001B[0m\n\u001B[0m\u001B[1;32m     90\u001B[0m         \u001B[0mprint\u001B[0m\u001B[0;34m(\u001B[0m\u001B[0mpath\u001B[0m\u001B[0;34m,\u001B[0m \u001B[0mend\u001B[0m\u001B[0;34m=\u001B[0m\u001B[0;34m\"\"\u001B[0m\u001B[0;34m)\u001B[0m\u001B[0;34m\u001B[0m\u001B[0;34m\u001B[0m\u001B[0m\n\u001B[1;32m     91\u001B[0m \u001B[0;34m\u001B[0m\u001B[0m\n",
      "\u001B[0;32m~/neuvisys-analysis/src/spiking_network/planning/network_planner.py\u001B[0m in \u001B[0;36mexecute\u001B[0;34m(cmd)\u001B[0m\n\u001B[1;32m     78\u001B[0m \u001B[0;32mdef\u001B[0m \u001B[0mexecute\u001B[0m\u001B[0;34m(\u001B[0m\u001B[0mcmd\u001B[0m\u001B[0;34m)\u001B[0m\u001B[0;34m:\u001B[0m\u001B[0;34m\u001B[0m\u001B[0;34m\u001B[0m\u001B[0m\n\u001B[1;32m     79\u001B[0m     \u001B[0mpopen\u001B[0m \u001B[0;34m=\u001B[0m \u001B[0msubprocess\u001B[0m\u001B[0;34m.\u001B[0m\u001B[0mPopen\u001B[0m\u001B[0;34m(\u001B[0m\u001B[0mcmd\u001B[0m\u001B[0;34m,\u001B[0m \u001B[0mstdout\u001B[0m\u001B[0;34m=\u001B[0m\u001B[0msubprocess\u001B[0m\u001B[0;34m.\u001B[0m\u001B[0mPIPE\u001B[0m\u001B[0;34m,\u001B[0m \u001B[0muniversal_newlines\u001B[0m\u001B[0;34m=\u001B[0m\u001B[0;32mTrue\u001B[0m\u001B[0;34m)\u001B[0m\u001B[0;34m\u001B[0m\u001B[0;34m\u001B[0m\u001B[0m\n\u001B[0;32m---> 80\u001B[0;31m     \u001B[0;32mfor\u001B[0m \u001B[0mstdout_line\u001B[0m \u001B[0;32min\u001B[0m \u001B[0miter\u001B[0m\u001B[0;34m(\u001B[0m\u001B[0mpopen\u001B[0m\u001B[0;34m.\u001B[0m\u001B[0mstdout\u001B[0m\u001B[0;34m.\u001B[0m\u001B[0mreadline\u001B[0m\u001B[0;34m,\u001B[0m \u001B[0;34m\"\"\u001B[0m\u001B[0;34m)\u001B[0m\u001B[0;34m:\u001B[0m\u001B[0;34m\u001B[0m\u001B[0;34m\u001B[0m\u001B[0m\n\u001B[0m\u001B[1;32m     81\u001B[0m         \u001B[0;32myield\u001B[0m \u001B[0mstdout_line\u001B[0m\u001B[0;34m\u001B[0m\u001B[0;34m\u001B[0m\u001B[0m\n\u001B[1;32m     82\u001B[0m     \u001B[0mpopen\u001B[0m\u001B[0;34m.\u001B[0m\u001B[0mstdout\u001B[0m\u001B[0;34m.\u001B[0m\u001B[0mclose\u001B[0m\u001B[0;34m(\u001B[0m\u001B[0;34m)\u001B[0m\u001B[0;34m\u001B[0m\u001B[0;34m\u001B[0m\u001B[0m\n",
      "\u001B[0;31mKeyboardInterrupt\u001B[0m: "
     ]
    }
   ],
   "source": [
    "## learning the base network\n",
    "path = networks_path + \"network_0/\"\n",
    "\n",
    "# draw = np.random.randint(-5, 6, size=300)\n",
    "# for ind in draw:\n",
    "#     launch_neuvisys_multi_pass(exec_path, path + \"configs/network_config.json\", list_disparities[ind], 1)\n",
    "\n",
    "# for i in range(100):\n",
    "#     launch_neuvisys_multi_pass(exec_path, path + \"configs/network_config.json\", \"/home/thomas/Videos/DSEC/car.npz\", 1)\n",
    "\n",
    "for i in range(3):\n",
    "    launch_neuvisys_multi_pass(exec_path, path + \"configs/network_config.json\", sim_vh, 5)"
   ]
  },
  {
   "cell_type": "markdown",
   "id": "0929b9d4",
   "metadata": {
    "pycharm": {
     "name": "#%% md\n"
    }
   },
   "source": [
    "##### learning inhibition weights"
   ]
  },
  {
   "cell_type": "code",
   "execution_count": 29,
   "id": "e6b56976",
   "metadata": {
    "pycharm": {
     "name": "#%%\n"
    }
   },
   "outputs": [
    {
     "data": {
      "text/plain": "(array([40., 23.,  7.,  5.,  3.,  4.,  1.,  0.,  1.,  0.,  0.,  4.,  7.,\n        16.]),\n array([  1. ,  23.5,  46. ,  68.5,  91. , 113.5, 136. , 158.5, 181. ,\n        203.5, 226. , 248.5, 271. , 293.5, 316. ]),\n <BarContainer object of 14 artists>)"
     },
     "execution_count": 29,
     "metadata": {},
     "output_type": "execute_result"
    },
    {
     "data": {
      "text/plain": "<Figure size 432x288 with 1 Axes>",
      "image/png": "[encoded data removed]"
     },
     "metadata": {
      "needs_background": "light"
     },
     "output_type": "display_data"
    }
   ],
   "source": [
    "## learning inhibition weights\n",
    "path = networks_path + \"network_0/\"\n",
    "\n",
    "draw = np.round(laplace(0, 1.5).rvs(size=200)).astype(np.int64)\n",
    "rotations_distribution = [list_events_rot[index] for index in draw if 16 > index > -17]\n",
    "\n",
    "shutil.copytree(path, networks_path + \"network_inhibition\")\n",
    "change_param(networks_path + \"network_inhibition/configs/simple_cell_config.json\", \"STDP_LEARNING\", \"inhibitory\")\n",
    "change_param(networks_path + \"network_inhibition/configs/complex_cell_config.json\", \"STDP_LEARNING\", \"none\")\n",
    "\n",
    "import re\n",
    "distribution = ([int(re.findall('[0-9]+', string)[0]) for string in rotations_distribution])\n",
    "plt.figure()\n",
    "plt.hist(distribution, bins=np.arange(np.min(distribution) + 1, np.max(distribution) - 1, 22.5), align=\"left\")"
   ]
  },
  {
   "cell_type": "code",
   "execution_count": null,
   "id": "d2cc03e3",
   "metadata": {
    "pycharm": {
     "name": "#%%\n"
    }
   },
   "outputs": [],
   "source": [
    "np.save(networks_path + \"network_inhibition/distribution\", draw)"
   ]
  },
  {
   "cell_type": "code",
   "execution_count": 30,
   "id": "4094940c",
   "metadata": {
    "pycharm": {
     "name": "#%%\n"
    }
   },
   "outputs": [
    {
     "name": "stdout",
     "output_type": "stream",
     "text": [
      "Layer 0: weights loaded from file\n",
      "Layer 1: weights loaded from file\n",
      "Layer 2: weights loaded from file\n",
      "Layer 3: weights loaded from file\n",
      "Unpacking events...\n",
      "Feeding network: 35839615 events...\n",
      "41%\n",
      "83%\n",
      "Saving Network...\n",
      "Finished.\n",
      "Layer 0: weights loaded from file\n",
      "Layer 1: weights loaded from file\n",
      "Layer 2: weights loaded from file\n",
      "Layer 3: weights loaded from file\n",
      "Unpacking events...\n",
      "Feeding network: 35839615 events...\n",
      "41%\n",
      "83%\n",
      "Saving Network...\n",
      "Finished.\n",
      "Layer 0: weights loaded from file\n",
      "Layer 1: weights loaded from file\n",
      "Layer 2: weights loaded from file\n",
      "Layer 3: weights loaded from file\n",
      "Unpacking events...\n",
      "Feeding network: 35839615 events...\n",
      "41%\n",
      "83%\n",
      "Saving Network...\n",
      "Finished.\n",
      "Layer 0: weights loaded from file\n",
      "Layer 1: weights loaded from file\n",
      "Layer 2: weights loaded from file\n",
      "Layer 3: weights loaded from file\n",
      "Unpacking events...\n",
      "Feeding network: 35839615 events...\n",
      "41%\n",
      "83%\n",
      "Saving Network...\n",
      "Finished.\n",
      "Layer 0: weights loaded from file\n",
      "Layer 1: weights loaded from file\n",
      "Layer 2: weights loaded from file\n",
      "Layer 3: weights loaded from file\n",
      "Unpacking events...\n",
      "Feeding network: 35839615 events...\n",
      "41%\n",
      "83%\n",
      "Saving Network...\n",
      "Finished.\n",
      "Layer 0: weights loaded from file\n",
      "Layer 1: weights loaded from file\n",
      "Layer 2: weights loaded from file\n",
      "Layer 3: weights loaded from file\n",
      "Unpacking events...\n",
      "Feeding network: 35839615 events...\n",
      "41%\n",
      "83%\n",
      "Saving Network...\n",
      "Finished.\n",
      "Layer 0: weights loaded from file\n",
      "Layer 1: weights loaded from file\n",
      "Layer 2: weights loaded from file\n",
      "Layer 3: weights loaded from file\n",
      "Unpacking events...\n",
      "Feeding network: 35839615 events...\n",
      "41%\n",
      "83%\n",
      "Saving Network...\n",
      "Finished.\n",
      "Layer 0: weights loaded from file\n",
      "Layer 1: weights loaded from file\n",
      "Layer 2: weights loaded from file\n",
      "Layer 3: weights loaded from file\n",
      "Unpacking events...\n",
      "Feeding network: 35839615 events...\n",
      "41%\n",
      "83%\n",
      "Saving Network...\n",
      "Finished.\n",
      "Layer 0: weights loaded from file\n",
      "Layer 1: weights loaded from file\n",
      "Layer 2: weights loaded from file\n",
      "Layer 3: weights loaded from file\n",
      "Unpacking events...\n",
      "Feeding network: 35839615 events...\n",
      "41%\n",
      "83%\n",
      "Saving Network...\n",
      "Finished.\n",
      "Layer 0: weights loaded from file\n",
      "Layer 1: weights loaded from file\n",
      "Layer 2: weights loaded from file\n",
      "Layer 3: weights loaded from file\n",
      "Unpacking events...\n",
      "Feeding network: 35839615 events...\n",
      "41%\n",
      "83%\n",
      "Saving Network...\n",
      "Finished.\n"
     ]
    }
   ],
   "source": [
    "# for eventfile in rotations_distribution:\n",
    "#     launch_neuvisys_multi_pass(exec_path, networks_path + \"network_inhibition/configs/network_config.json\", eventfile, 1)\n",
    "\n",
    "# for ind in draw:\n",
    "#     launch_neuvisys_multi_pass(exec_path, networks_path + \"network_inhibition/configs/network_config.json\", list_events_rot[int(ind)], 1)\n",
    "\n",
    "for i in range(10):\n",
    "    launch_neuvisys_multi_pass(exec_path, networks_path + \"network_inhibition/configs/network_config.json\", sim_h, 5)"
   ]
  },
  {
   "cell_type": "code",
   "execution_count": 31,
   "id": "0104564f",
   "metadata": {
    "pycharm": {
     "name": "#%%\n"
    }
   },
   "outputs": [],
   "source": [
    "shutil.copytree(networks_path + \"network_inhibition\", networks_path + \"network_control\")\n",
    "shutil.copytree(networks_path + \"network_inhibition\", networks_path + \"network_experiment\")\n",
    "\n",
    "change_param(networks_path + \"network_control/configs/simple_cell_config.json\", \"STDP_LEARNING\", \"none\")\n",
    "change_param(networks_path + \"network_control/configs/complex_cell_config.json\", \"STDP_LEARNING\", \"none\")\n",
    "change_param(networks_path + \"network_experiment/configs/simple_cell_config.json\", \"STDP_LEARNING\", \"none\")\n",
    "change_param(networks_path + \"network_experiment/configs/complex_cell_config.json\", \"STDP_LEARNING\", \"none\")"
   ]
  },
  {
   "cell_type": "markdown",
   "id": "be45c6ef",
   "metadata": {
    "pycharm": {
     "name": "#%% md\n"
    }
   },
   "source": [
    "##### experiment"
   ]
  },
  {
   "cell_type": "code",
   "execution_count": 34,
   "id": "",
   "metadata": {
    "pycharm": {
     "name": "#%%\n"
    }
   },
   "outputs": [
    {
     "name": "stdout",
     "output_type": "stream",
     "text": [
      "Layer 0: weights loaded from file\n",
      "Layer 1: weights loaded from file\n",
      "Layer 2: weights loaded from file\n",
      "Layer 3: weights loaded from file\n",
      "Unpacking events...\n",
      "Feeding network: 33482294 events...\n",
      "49%\n",
      "99%\n",
      "Saving Network...\n",
      "Finished.\n"
     ]
    }
   ],
   "source": [
    "launch_neuvisys_multi_pass(exec_path, networks_path + \"network_experiment/configs/network_config.json\", sim_vh, 2)"
   ]
  },
  {
   "cell_type": "markdown",
   "id": "8267d855",
   "metadata": {
    "pycharm": {
     "name": "#%% md\n"
    }
   },
   "source": [
    "##### control test"
   ]
  },
  {
   "cell_type": "code",
   "execution_count": 35,
   "id": "e733c4c8",
   "metadata": {
    "pycharm": {
     "name": "#%%\n"
    }
   },
   "outputs": [
    {
     "name": "stdout",
     "output_type": "stream",
     "text": [
      "Layer 0: weights loaded from file\n",
      "Layer 1: weights loaded from file\n",
      "Layer 2: weights loaded from file\n",
      "Layer 3: weights loaded from file\n",
      "Unpacking events...\n",
      "Feeding network: 33482294 events...\n",
      "49%\n",
      "99%\n",
      "Saving Network...\n",
      "Finished.\n"
     ]
    }
   ],
   "source": [
    "shuffle_weights(networks_path + \"network_control/weights/0/\")\n",
    "launch_neuvisys_multi_pass(exec_path, networks_path + \"network_control/configs/network_config.json\", sim_vh, 2)"
   ]
  },
  {
   "cell_type": "markdown",
   "id": "a9e0ae0b",
   "metadata": {
    "pycharm": {
     "name": "#%% md\n"
    }
   },
   "source": [
    "## Event manipulation:\n",
    "Functions for loading, writing or creating event files in the different formats (aedat4, npz, rosbag...)"
   ]
  },
  {
   "cell_type": "code",
   "execution_count": 3,
   "id": "bd6a9d99",
   "metadata": {
    "pycharm": {
     "name": "#%%\n"
    }
   },
   "outputs": [],
   "source": [
    "# Load events\n",
    "events = Events(\"/home/thomas/Videos/dsec/interlaken_00_c/events/left/events.h5\")"
   ]
  },
  {
   "cell_type": "code",
   "execution_count": null,
   "id": "",
   "metadata": {
    "pycharm": {
     "name": "#%%\n"
    }
   },
   "outputs": [],
   "source": [
    "list_events = [np.load(\"/home/thomas/Videos/disparity/0_disp.npz\"), np.load(\"/home/thomas/Videos/disparity/4_disp.npz\")]\n",
    "concat_events = concatenate_npz(list_events)"
   ]
  },
  {
   "cell_type": "code",
   "execution_count": null,
   "id": "09c0a7d7",
   "metadata": {
    "pycharm": {
     "name": "#%%\n"
    }
   },
   "outputs": [],
   "source": [
    "# Save aedat file as numpy npz file\n",
    "# write_npz(home + \"Desktop/shape_hovering_fast\", events)  # mono\n",
    "# write_npz(home + \"Desktop/shapes\", (left_events, right_events)) # stereo\n",
    "\n",
    "Events(\"/home/thomas/Videos/left.npz\", \"/home/thomas/Videos/right.npz\").save_file(\"/home/thomas/Videos/disparity/test\")"
   ]
  },
  {
   "cell_type": "code",
   "execution_count": null,
   "id": "19cda09e",
   "metadata": {
    "pycharm": {
     "name": "#%%\n"
    }
   },
   "outputs": [],
   "source": [
    "# Rectify events\n",
    "rect_events = rectify_events((events[0].copy(), events[1].copy()), -5, -16, 5, 16)"
   ]
  },
  {
   "cell_type": "code",
   "execution_count": null,
   "id": "",
   "metadata": {
    "pycharm": {
     "name": "#%%\n"
    }
   },
   "outputs": [],
   "source": [
    "list_events = []\n",
    "for rotation in [0, 23, 45, 68, 90, 113, 135, 158, 180, 203, 225, 248, 270, 293, 315, 338]:\n",
    "    list_events.append(np.load(\"/home/thomas/Videos/lines/rotations/\" + str(rotation) + \".npz\"))\n",
    "events = concatenate_npz(list_events)"
   ]
  },
  {
   "cell_type": "code",
   "execution_count": null,
   "id": "16bc8950",
   "metadata": {
    "pycharm": {
     "name": "#%%\n"
    }
   },
   "outputs": [],
   "source": [
    "# write_npz(\"/home/thomas/Videos/rotations\", events)"
   ]
  },
  {
   "cell_type": "code",
   "execution_count": null,
   "id": "81a0253e",
   "metadata": {
    "pycharm": {
     "name": "#%%\n"
    }
   },
   "outputs": [],
   "source": [
    "events.event_to_video(50, \"/home/thomas/Bureau/test.mp4\", 346, 260)"
   ]
  },
  {
   "cell_type": "code",
   "execution_count": 2,
   "outputs": [
    {
     "name": "stdout",
     "output_type": "stream",
     "text": [
      "zurich_city_05_b : \n",
      " loading left events...\n",
      "loading right events...\n",
      "sorting events...\n",
      "saving events...\n",
      "zurich_city_05_a : \n",
      " loading left events...\n",
      "loading right events...\n",
      "sorting events...\n",
      "saving events...\n",
      "zurich_city_04_c : \n",
      " loading left events...\n",
      "loading right events...\n",
      "sorting events...\n",
      "saving events...\n",
      "zurich_city_07_a : \n",
      " loading left events...\n",
      "loading right events...\n",
      "sorting events...\n",
      "saving events...\n",
      "zurich_city_04_a : \n",
      " loading left events...\n",
      "loading right events...\n",
      "sorting events...\n",
      "saving events...\n",
      "zurich_city_11_b : \n",
      " loading left events...\n",
      "loading right events...\n",
      "sorting events...\n",
      "saving events...\n",
      "zurich_city_01_b : \n",
      " loading left events...\n",
      "loading right events...\n",
      "sorting events...\n",
      "saving events...\n",
      "zurich_city_00_a : \n",
      " loading left events...\n",
      "loading right events...\n",
      "sorting events...\n",
      "saving events...\n",
      "zurich_city_08_a : \n",
      " loading left events...\n",
      "loading right events...\n",
      "sorting events...\n",
      "saving events...\n",
      "zurich_city_11_a : \n",
      " loading left events...\n",
      "loading right events...\n",
      "sorting events...\n",
      "saving events...\n",
      "zurich_city_09_b : \n",
      " loading left events...\n",
      "loading right events...\n",
      "sorting events...\n",
      "saving events...\n",
      "zurich_city_01_d : \n",
      " loading left events...\n",
      "loading right events...\n",
      "sorting events...\n",
      "saving events...\n",
      "zurich_city_04_d : \n",
      " loading left events...\n",
      "loading right events...\n",
      "sorting events...\n",
      "saving events...\n",
      "zurich_city_00_b : \n",
      " loading left events...\n",
      "loading right events...\n",
      "sorting events...\n",
      "saving events...\n",
      "zurich_city_03_a : \n",
      " loading left events...\n",
      "loading right events...\n",
      "sorting events...\n",
      "saving events...\n",
      "zurich_city_11_c : \n",
      " loading left events...\n",
      "loading right events...\n",
      "sorting events...\n",
      "saving events...\n",
      "zurich_city_04_e : \n",
      " loading left events...\n",
      "loading right events...\n",
      "sorting events...\n",
      "saving events...\n",
      "zurich_city_01_a : \n",
      " loading left events...\n",
      "loading right events...\n",
      "sorting events...\n",
      "saving events...\n",
      "zurich_city_02_a : \n",
      " loading left events...\n",
      "loading right events...\n",
      "sorting events...\n",
      "saving events...\n",
      "zurich_city_02_b : \n",
      " loading left events...\n",
      "loading right events...\n",
      "sorting events...\n",
      "saving events...\n",
      "thun_00_a : \n",
      " loading left events...\n",
      "loading right events...\n",
      "sorting events...\n",
      "saving events...\n",
      "zurich_city_09_c : \n",
      " loading left events...\n",
      "loading right events...\n",
      "sorting events...\n",
      "saving events...\n",
      "zurich_city_04_f : \n",
      " loading left events...\n",
      "loading right events...\n",
      "sorting events...\n",
      "saving events...\n",
      "zurich_city_09_d : \n",
      " loading left events...\n",
      "loading right events...\n",
      "sorting events...\n",
      "saving events...\n",
      "zurich_city_01_e : \n",
      " loading left events...\n",
      "loading right events...\n",
      "sorting events...\n",
      "saving events...\n",
      "zurich_city_09_e : \n",
      " loading left events...\n",
      "loading right events...\n",
      "sorting events...\n",
      "saving events...\n",
      "zurich_city_02_d : \n",
      " loading left events...\n",
      "loading right events...\n",
      "sorting events...\n",
      "saving events...\n",
      "zurich_city_01_c : \n",
      " loading left events...\n",
      "loading right events...\n",
      "sorting events...\n",
      "saving events...\n",
      "zurich_city_01_f : \n",
      " loading left events...\n",
      "loading right events...\n",
      "sorting events...\n",
      "saving events...\n",
      "zurich_city_04_b : \n",
      " loading left events...\n",
      "loading right events...\n",
      "sorting events...\n",
      "saving events...\n"
     ]
    }
   ],
   "source": [
    "for file in os.listdir(\"/home/thomas/Videos/dsec/\"):\n",
    "    print(file, \": \\n\", \"loading left events...\")\n",
    "    events = Events(\"/home/thomas/Videos/dsec/\"+file+\"/events/left/events.h5\")\n",
    "    print(\"loading right events...\")\n",
    "    events.add_events(\"/home/thomas/Videos/dsec/\"+file+\"/events/right/events.h5\", 1)\n",
    "    # print(\"resizing events...\")\n",
    "    # events.resize_events(147, 110, 346, 260)\n",
    "    print(\"sorting events...\")\n",
    "    events.sort_events()\n",
    "    print(\"saving events...\")\n",
    "    events.save_as_file(\"/home/thomas/Videos/DSEC/\"+file+\".h5\")"
   ],
   "metadata": {
    "collapsed": false,
    "pycharm": {
     "name": "#%%\n"
    }
   }
  },
  {
   "cell_type": "markdown",
   "id": "1df23232",
   "metadata": {
    "pycharm": {
     "name": "#%% md\n"
    }
   },
   "source": [
    "## Frame manipulation"
   ]
  },
  {
   "cell_type": "code",
   "execution_count": null,
   "id": "f2f5a4a2",
   "metadata": {
    "pycharm": {
     "name": "#%%\n"
    }
   },
   "outputs": [],
   "source": [
    "frames = load_frames(\"/media/alphat/DisqueDur/0_Thesis/pavin.aedat4\")"
   ]
  },
  {
   "cell_type": "code",
   "execution_count": null,
   "id": "e70e411f",
   "metadata": {
    "pycharm": {
     "name": "#%%\n"
    }
   },
   "outputs": [],
   "source": [
    "rect_frames = rectify_frames(frames, -4, 8, 4, -8)\n",
    "\n",
    "write_frames(\n",
    "    \"/home/alphat/Desktop/im1/\", rect_frames, ([10, 84, 158, 232, 306], [20, 83, 146, 209]),\n",
    ")"
   ]
  },
  {
   "cell_type": "code",
   "execution_count": null,
   "id": "5b1c271e",
   "metadata": {
    "pycharm": {
     "name": "#%%\n"
    }
   },
   "outputs": [],
   "source": [
    "# Stereo matching\n",
    "disp_frames, disp_nb_frames = stereo_matching(\n",
    "    \"/home/alphat/Desktop/pavin_images/im1/\", [10, 84, 158, 232], [20, 83, 146], range(0, 200),\n",
    ")"
   ]
  },
  {
   "cell_type": "markdown",
   "id": "a996571a",
   "metadata": {
    "pycharm": {
     "name": "#%% md\n"
    }
   },
   "source": [
    "## Create event videos\n",
    "\n",
    "Generate frames of the desired visual stimuli, then convert those frames into an event stream"
   ]
  },
  {
   "cell_type": "code",
   "execution_count": 4,
   "id": "a0f1d778",
   "metadata": {
    "pycharm": {
     "name": "#%%\n"
    }
   },
   "outputs": [],
   "source": [
    "framerate = 1000\n",
    "time_gap = 1e6 * 1 / framerate\n",
    "pix2eve = Pix2Eve(\n",
    "    time_gap=time_gap,\n",
    "    log_threshold=0,\n",
    "    map_threshold=0.4,\n",
    "    n_max=5,\n",
    "    adapt_thresh_coef_shift=0,\n",
    "    timestamp_noise=50\n",
    ")\n",
    "folder = home + \"Desktop/Events/left_f/\""
   ]
  },
  {
   "cell_type": "code",
   "execution_count": null,
   "id": "a0f8ac45",
   "metadata": {
    "pycharm": {
     "name": "#%%\n"
    }
   },
   "outputs": [],
   "source": [
    "disparity_bars(folder, disparities=[0, 0, 0, 0], framerate=framerate)\n",
    "disparity_bars(folder, disparities=[8, 6, 4, 2], framerate=framerate)"
   ]
  },
  {
   "cell_type": "code",
   "execution_count": null,
   "id": "e64b785e",
   "metadata": {
    "pycharm": {
     "name": "#%%\n"
    }
   },
   "outputs": [],
   "source": [
    "for rotation in [0, 23, 45, 68, 90, 113, 135, 158, 180, 203, 225, 248, 270, 293, 315, 338]:\n",
    "    os.mkdir(folder + str(rotation) + \"/\")\n",
    "    moving_lines(folder + str(rotation) + \"/\", time=2, rotation=rotation, framerate=framerate)"
   ]
  },
  {
   "cell_type": "code",
   "execution_count": 5,
   "id": "",
   "metadata": {
    "pycharm": {
     "name": "#%%\n"
    }
   },
   "outputs": [],
   "source": [
    "moving_lines(folder, time=2, framerate=framerate, rotation=0, disparity=0, frame_start=0)"
   ]
  },
  {
   "cell_type": "code",
   "execution_count": 6,
   "id": "0baedda4",
   "metadata": {
    "pycharm": {
     "name": "#%%\n"
    }
   },
   "outputs": [
    {
     "name": "stdout",
     "output_type": "stream",
     "text": [
      "Converting frames to event -> /home/thomas/Desktop/Events/left_f/\n",
      "0.0%...\n",
      "5.0%...\n",
      "10.0%...\n",
      "15.0%...\n",
      "20.0%...\n",
      "25.0%...\n",
      "30.0%...\n",
      "35.0%...\n",
      "40.0%...\n",
      "45.0%...\n",
      "50.0%...\n",
      "55.0%...\n",
      "60.0%...\n",
      "65.0%...\n",
      "70.0%...\n",
      "75.0%...\n",
      "80.0%...\n",
      "85.0%...\n",
      "90.0%...\n",
      "95.0%...\n",
      "Finished conversion\n"
     ]
    }
   ],
   "source": [
    "print(\"Converting frames to event -> \" + folder)\n",
    "\n",
    "events = pix2eve.run(\"/home/thomas/Desktop/Events/left_f/\")\n",
    "events = events[events[:, 0].argsort()]\n",
    "# write_npz(home + \"Desktop/Events/left_e/vlines\", events)"
   ]
  },
  {
   "cell_type": "code",
   "execution_count": null,
   "id": "8b86c896",
   "metadata": {
    "pycharm": {
     "name": "#%%\n"
    }
   },
   "outputs": [],
   "source": [
    "folder = home + \"Desktop/Events/\"\n",
    "\n",
    "moving_lines(folder + \"left_f/\", time=2, framerate=framerate, speed=-200, rotation=0, disparity=0, frame_start=0)\n",
    "events = pix2eve.run(folder + \"left_f/\")\n",
    "events = events[events[:, 0].argsort()]\n",
    "# write_npz(folder + \"/left_e/0\", events)\n",
    "\n",
    "for i in range(-8, 9):\n",
    "    moving_lines(folder + \"right_f/\", time=2, framerate=framerate, speed=-200, rotation=0, disparity=i, frame_start=0)\n",
    "    events = pix2eve.run(folder + \"right_f/\")\n",
    "    events = events[events[:, 0].argsort()]\n",
    "    # write_npz(folder + \"/right_e/\" + str(i), events)\n",
    "    delete_files(folder + \"right_f/\")\n",
    "    Events(folder + \"left_e/0.npz\", folder + \"right_e/\" + str(i) + \".npz\").save_file(folder + str(i))"
   ]
  },
  {
   "cell_type": "markdown",
   "id": "b559023e",
   "metadata": {
    "pycharm": {
     "name": "#%% md\n"
    }
   },
   "source": [
    "## Divide visual field"
   ]
  },
  {
   "cell_type": "code",
   "execution_count": 8,
   "id": "c873b8e1",
   "metadata": {
    "pycharm": {
     "name": "#%%\n"
    }
   },
   "outputs": [
    {
     "name": "stdout",
     "output_type": "stream",
     "text": [
      "([93.0], [50.0])\n"
     ]
    }
   ],
   "source": [
    "print(divide_visual_field(3, 3, 40, 40))"
   ]
  }
 ],
 "metadata": {
  "kernelspec": {
   "display_name": "Python 3 (ipykernel)",
   "language": "python",
   "name": "python3"
  },
  "language_info": {
   "codemirror_mode": {
    "name": "ipython",
    "version": 3
   },
   "file_extension": ".py",
   "mimetype": "text/x-python",
   "name": "python",
   "nbconvert_exporter": "python",
   "pygments_lexer": "ipython3",
   "version": "3.8.12"
  }
 },
 "nbformat": 4,
 "nbformat_minor": 5
}