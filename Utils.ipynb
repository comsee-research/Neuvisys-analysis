{
 "cells": [
  {
   "cell_type": "markdown",
   "id": "532539b9",
   "metadata": {
    "pycharm": {
     "name": "#%% md\n"
    }
   },
   "source": [
    "# Network utility functions"
   ]
  },
  {
   "cell_type": "code",
   "execution_count": 1,
   "outputs": [],
   "source": [
    "%load_ext autoreload\n",
    "%autoreload 2\n",
    "\n",
    "import os\n",
    "import shutil\n",
    "\n",
    "import numpy as np\n",
    "from scipy.stats import laplace\n",
    "import matplotlib.pyplot as plt\n",
    "\n",
    "from src.events.Events import (\n",
    "    Events,\n",
    ")\n",
    "from src.events.tools.generation.pix2nvs import Pix2Eve\n",
    "from src.events.tools.generation.stimuli_gen import (\n",
    "    moving_lines,\n",
    "    disparity_bars\n",
    ")\n",
    "from src.events.tools.modification.event_modification import (\n",
    "    concatenate_npz,\n",
    ")\n",
    "from src.frames.frame_analysis import (\n",
    "    load_frames,\n",
    "    rectify_frames,\n",
    "    write_frames,\n",
    "    stereo_matching,\n",
    ")\n",
    "import src.spiking_network.network.network_params as network_params\n",
    "from src.spiking_network.network.neuvisys import (\n",
    "    SpikingNetwork,\n",
    "    delete_files,\n",
    "    clean_network,\n",
    "    shuffle_weights,\n",
    ")\n",
    "from src.spiking_network.planning.network_planner import (\n",
    "    create_networks,\n",
    "    random_params,\n",
    "    launch_neuvisys_multi_pass,\n",
    "    change_param,\n",
    "    divide_visual_field,\n",
    ")\n",
    "\n",
    "os.chdir(\"/home/thomas/neuvisys-analysis/src\")\n",
    "home = \"/home/thomas/\"\n",
    "\n",
    "# network_path = home + \"neuvisys-dv/configuration/network_ref_vh/\"\n",
    "network_path = home + \"Desktop/Experiment/network_0/\"\n",
    "\n",
    "rotations = np.array([0, 23, 45, 68, 90, 113, 135, 158, 180, 203, 225, 248, 270, 293, 315, 338])\n",
    "disparities = np.array([-8, -7, -6, -5, -4, -3, -2, -1, 0, 1, 2, 3, 4, 5, 6, 7, 8])"
   ],
   "metadata": {
    "collapsed": false,
    "pycharm": {
     "name": "#%%\n"
    }
   }
  },
  {
   "cell_type": "markdown",
   "source": [
    "## CAUTION: Delete Weights"
   ],
   "metadata": {
    "collapsed": false,
    "pycharm": {
     "name": "#%% md\n"
    }
   }
  },
  {
   "cell_type": "code",
   "execution_count": null,
   "outputs": [],
   "source": [
    "clean_network(\"/home/thomas/Desktop/Experiment/network_0/\", [0, 1])"
   ],
   "metadata": {
    "collapsed": false,
    "pycharm": {
     "name": "#%%\n"
    }
   }
  },
  {
   "cell_type": "markdown",
   "source": [
    "## Network creation and launch"
   ],
   "metadata": {
    "collapsed": false,
    "pycharm": {
     "name": "#%% md\n"
    }
   }
  },
  {
   "cell_type": "code",
   "execution_count": null,
   "outputs": [],
   "source": [
    "# params = {\"simple_cell_config\" : {\"ETA_LTP\": [0.0077, 0.0077]}, \"complex_cell_config\" : {\"ETA_LTP\": [0.0077, 0.0077]}}\n",
    "# create_networks(home + \"neuvisys-dv/cmake-build-release\", home + \"Bureau\", 2, {})\n",
    "random_params(\"/home/thomas/neuvisys-dv/cmake-build-release\", \"/home/thomas/Desktop/Experiment\", 1)"
   ],
   "metadata": {
    "collapsed": false,
    "pycharm": {
     "name": "#%%\n"
    }
   }
  },
  {
   "cell_type": "code",
   "execution_count": null,
   "outputs": [],
   "source": [
    "launch_neuvisys_multi_pass(\"/home/thomas/neuvisys-dv/cmake-build-release/neuvisys-exe\",\n",
    "                           \"/home/thomas/Desktop/Experiment/network_0/configs/network_config.json\",\n",
    "                           \"/home/thomas/Desktop/Events/left_e/vlines.npz\", 1)"
   ],
   "metadata": {
    "collapsed": false,
    "pycharm": {
     "name": "#%%\n"
    }
   }
  },
  {
   "cell_type": "code",
   "execution_count": null,
   "outputs": [],
   "source": [
    "# Launch training of multiple networks\n",
    "\n",
    "n_networks = 100\n",
    "exec_path = home + \"neuvisys-dv/cmake-build-release/neuvisys-exe\"\n",
    "networks_path = home + \"Desktop/test/\"\n",
    "event_path = home + \"Desktop/shapes.npz\"\n",
    "\n",
    "params = {\"simple_cell_config\": {\"TARGET_SPIKE_RATE\": [0.1, 0.2, 0.3]}}\n",
    "\n",
    "create_networks(exec_path, networks_path, n_networks, params)\n",
    "nb_iterations = 5\n",
    "\n",
    "df = []\n",
    "\n",
    "for i in range(0, n_networks):\n",
    "    launch_neuvisys_multi_pass(\n",
    "        exec_path, networks_path + \"network_\" + str(i) + \"/configs/network_config.json\", event_path, nb_iterations,\n",
    "    )\n",
    "\n",
    "    spinet = SpikingNetwork(networks_path + \"network_\" + str(i) + \"/\")\n",
    "    # display_network([spinet], 0)\n",
    "    # update_dataframe(df, spinet)\n",
    "\n",
    "# df = pd.DataFrame(df)\n",
    "# df.to_csv(home + \"Desktop/test/df\")"
   ],
   "metadata": {
    "collapsed": false,
    "pycharm": {
     "name": "#%%\n"
    }
   }
  },
  {
   "cell_type": "markdown",
   "source": [
    "#### Orientation response"
   ],
   "metadata": {
    "collapsed": false,
    "pycharm": {
     "name": "#%% md\n"
    }
   }
  },
  {
   "cell_type": "code",
   "execution_count": null,
   "outputs": [],
   "source": [
    "exec_path = home + \"neuvisys-dv/cmake-build-release/neuvisys-exe\"\n",
    "network_path = \"/home/thomas/Desktop/Networks/lateral_weight_plot/network_0/\"\n",
    "event_rotation = home + \"Videos/lines/rotations/\"\n",
    "\n",
    "spikes = [[], []]\n",
    "for rot in rotations:\n",
    "    launch_neuvisys_multi_pass(exec_path, network_path + \"configs/network_config.json\",\n",
    "                               event_rotation + str(rot) + \".npz\", 5)\n",
    "    spinet = SpikingNetwork(network_path)\n",
    "    spikes[0].append(spinet.spikes[0])\n",
    "    spikes[1].append(spinet.spikes[1])\n",
    "spinet.save_rotation_response(spikes, rotations)"
   ],
   "metadata": {
    "collapsed": false,
    "pycharm": {
     "name": "#%%\n"
    }
   }
  },
  {
   "cell_type": "markdown",
   "source": [
    "#### Disparity response"
   ],
   "metadata": {
    "collapsed": false,
    "pycharm": {
     "name": "#%% md\n"
    }
   }
  },
  {
   "cell_type": "code",
   "execution_count": null,
   "outputs": [],
   "source": [
    "exec_path = home + \"neuvisys-dv/cmake-build-release/neuvisys-exe\"\n",
    "network_path = home + \"Desktop/network_experiment/\"\n",
    "event_disparity = home + \"Videos/disparity/base_disp/\"\n",
    "\n",
    "spikes = [[], []]\n",
    "for disp in disparities:\n",
    "    launch_neuvisys_multi_pass(exec_path, network_path + \"configs/network_config.json\",\n",
    "                               event_disparity + str(disp) + \".npz\", 5)\n",
    "    spinet = SpikingNetwork(network_path)\n",
    "    spikes[0].append(spinet.spikes[0])\n",
    "    spikes[1].append(spinet.spikes[1])\n",
    "spinet.save_complex_disparities(spikes[1], disparities)"
   ],
   "metadata": {
    "collapsed": false,
    "pycharm": {
     "name": "#%%\n"
    }
   }
  },
  {
   "cell_type": "markdown",
   "source": [
    "#### Inhibition weight learning"
   ],
   "metadata": {
    "collapsed": false,
    "pycharm": {
     "name": "#%% md\n"
    }
   }
  },
  {
   "cell_type": "code",
   "execution_count": null,
   "outputs": [],
   "source": [
    "exec_path = home + \"neuvisys-dv/cmake-build-release/neuvisys-exe\"\n",
    "networks_path = home + \"Desktop/Experiment/\"\n",
    "event_path = home + \"Videos/disparity/\"\n",
    "\n",
    "# orientations\n",
    "shapes = home + \"Videos/shapes.npz\"\n",
    "h_events = home + \"Videos/lines/hlines.npz\"\n",
    "v_events = home + \"Videos/lines/vlines.npz\"\n",
    "vh_events = home + \"Videos/lines/vhlines.npz\"\n",
    "sim_h = home + \"Videos/lines/sim_h.npz\"\n",
    "sim_v = home + \"Videos/lines/sim_v.npz\"\n",
    "sim_vh = home + \"Videos/lines/sim_vh.npz\"\n",
    "rot_events = home + \"Videos/lines/rotations.npz\"\n",
    "list_events_rot = [home + \"Videos/lines/rotations/\" + str(rotation) + \".npz\" for rotation in rotations]\n",
    "\n",
    "# disparity\n",
    "events_0 = home + \"Videos/disparity/disp_forward/0.npz\"\n",
    "list_disparities = [home + \"Videos/disparity/disp_forward/\" + str(disp) + \".npz\" for disp in\n",
    "                    [-5, -4, -3, -2, -1, 0, 1, 2, 3, 4, 5]]"
   ],
   "metadata": {
    "collapsed": false,
    "pycharm": {
     "name": "#%%\n"
    }
   }
  },
  {
   "cell_type": "code",
   "execution_count": null,
   "outputs": [],
   "source": [
    "create_networks(exec_path, networks_path, 1, network_params.disparity_9regions())"
   ],
   "metadata": {
    "collapsed": false,
    "pycharm": {
     "name": "#%%\n"
    }
   }
  },
  {
   "cell_type": "markdown",
   "source": [
    "##### learning the base network"
   ],
   "metadata": {
    "collapsed": false,
    "pycharm": {
     "name": "#%% md\n"
    }
   }
  },
  {
   "cell_type": "code",
   "execution_count": null,
   "outputs": [],
   "source": [
    "## learning the base network\n",
    "path = networks_path + \"network_0/\"\n",
    "\n",
    "# draw = np.random.randint(-5, 6, size=300)\n",
    "# for ind in draw:\n",
    "#     launch_neuvisys_multi_pass(exec_path, path + \"configs/network_config.json\", list_disparities[ind], 1)\n",
    "\n",
    "# for i in range(100):\n",
    "#     launch_neuvisys_multi_pass(exec_path, path + \"configs/network_config.json\", \"/home/thomas/Videos/DSEC/car.npz\", 1)\n",
    "\n",
    "for i in range(3):\n",
    "    launch_neuvisys_multi_pass(exec_path, path + \"configs/network_config.json\", sim_vh, 5)"
   ],
   "metadata": {
    "collapsed": false,
    "pycharm": {
     "name": "#%%\n"
    }
   }
  },
  {
   "cell_type": "markdown",
   "source": [
    "##### learning inhibition weights"
   ],
   "metadata": {
    "collapsed": false,
    "pycharm": {
     "name": "#%% md\n"
    }
   }
  },
  {
   "cell_type": "code",
   "execution_count": null,
   "outputs": [],
   "source": [
    "## learning inhibition weights\n",
    "path = networks_path + \"network_0/\"\n",
    "\n",
    "draw = np.round(laplace(0, 1.5).rvs(size=200)).astype(np.int64)\n",
    "rotations_distribution = [list_events_rot[index] for index in draw if 16 > index > -17]\n",
    "\n",
    "shutil.copytree(path, networks_path + \"network_inhibition\")\n",
    "change_param(networks_path + \"network_inhibition/configs/simple_cell_config.json\", \"STDP_LEARNING\", \"inhibitory\")\n",
    "change_param(networks_path + \"network_inhibition/configs/complex_cell_config.json\", \"STDP_LEARNING\", \"none\")\n",
    "\n",
    "import re\n",
    "distribution = ([int(re.findall('[0-9]+', string)[0]) for string in rotations_distribution])\n",
    "plt.figure()\n",
    "plt.hist(distribution, bins=np.arange(np.min(distribution) + 1, np.max(distribution) - 1, 22.5), align=\"left\")"
   ],
   "metadata": {
    "collapsed": false,
    "pycharm": {
     "name": "#%%\n"
    }
   }
  },
  {
   "cell_type": "code",
   "execution_count": null,
   "outputs": [],
   "source": [
    "np.save(networks_path + \"network_inhibition/distribution\", draw)"
   ],
   "metadata": {
    "collapsed": false,
    "pycharm": {
     "name": "#%%\n"
    }
   }
  },
  {
   "cell_type": "code",
   "execution_count": null,
   "outputs": [],
   "source": [
    "# for eventfile in rotations_distribution:\n",
    "#     launch_neuvisys_multi_pass(exec_path, networks_path + \"network_inhibition/configs/network_config.json\", eventfile, 1)\n",
    "\n",
    "# for ind in draw:\n",
    "#     launch_neuvisys_multi_pass(exec_path, networks_path + \"network_inhibition/configs/network_config.json\", list_events_rot[int(ind)], 1)\n",
    "\n",
    "for i in range(10):\n",
    "    launch_neuvisys_multi_pass(exec_path, networks_path + \"network_inhibition/configs/network_config.json\", sim_h, 5)"
   ],
   "metadata": {
    "collapsed": false,
    "pycharm": {
     "name": "#%%\n"
    }
   }
  },
  {
   "cell_type": "code",
   "execution_count": null,
   "outputs": [],
   "source": [
    "shutil.copytree(networks_path + \"network_inhibition\", networks_path + \"network_control\")\n",
    "shutil.copytree(networks_path + \"network_inhibition\", networks_path + \"network_experiment\")\n",
    "\n",
    "change_param(networks_path + \"network_control/configs/simple_cell_config.json\", \"STDP_LEARNING\", \"none\")\n",
    "change_param(networks_path + \"network_control/configs/complex_cell_config.json\", \"STDP_LEARNING\", \"none\")\n",
    "change_param(networks_path + \"network_experiment/configs/simple_cell_config.json\", \"STDP_LEARNING\", \"none\")\n",
    "change_param(networks_path + \"network_experiment/configs/complex_cell_config.json\", \"STDP_LEARNING\", \"none\")"
   ],
   "metadata": {
    "collapsed": false,
    "pycharm": {
     "name": "#%%\n"
    }
   }
  },
  {
   "cell_type": "markdown",
   "source": [
    "##### experiment"
   ],
   "metadata": {
    "collapsed": false,
    "pycharm": {
     "name": "#%% md\n"
    }
   }
  },
  {
   "cell_type": "code",
   "execution_count": null,
   "outputs": [],
   "source": [
    "launch_neuvisys_multi_pass(exec_path, networks_path + \"network_experiment/configs/network_config.json\", sim_vh, 2)"
   ],
   "metadata": {
    "collapsed": false,
    "pycharm": {
     "name": "#%%\n"
    }
   }
  },
  {
   "cell_type": "markdown",
   "source": [
    "##### control test"
   ],
   "metadata": {
    "collapsed": false,
    "pycharm": {
     "name": "#%% md\n"
    }
   }
  },
  {
   "cell_type": "code",
   "execution_count": null,
   "outputs": [],
   "source": [
    "shuffle_weights(networks_path + \"network_control/weights/0/\")\n",
    "launch_neuvisys_multi_pass(exec_path, networks_path + \"network_control/configs/network_config.json\", sim_vh, 2)"
   ],
   "metadata": {
    "collapsed": false,
    "pycharm": {
     "name": "#%%\n"
    }
   }
  },
  {
   "cell_type": "markdown",
   "source": [
    "## Event manipulation:\n",
    "Functions for loading, writing or creating event files in the different formats (aedat4, npz, rosbag...)"
   ],
   "metadata": {
    "collapsed": false,
    "pycharm": {
     "name": "#%% md\n"
    }
   }
  },
  {
   "cell_type": "code",
   "execution_count": 3,
   "outputs": [],
   "source": [
    "# Load events\n",
    "events = Events(\"/home/thomas/Videos/shapes.npz\")"
   ],
   "metadata": {
    "collapsed": false,
    "pycharm": {
     "name": "#%%\n"
    }
   }
  },
  {
   "cell_type": "code",
   "execution_count": 4,
   "outputs": [],
   "source": [
    "events.save_as_file(\"/home/thomas/Videos/shapes.h5\")"
   ],
   "metadata": {
    "collapsed": false,
    "pycharm": {
     "name": "#%%\n"
    }
   }
  },
  {
   "cell_type": "code",
   "execution_count": null,
   "outputs": [],
   "source": [
    "list_events = [np.load(\"/home/thomas/Videos/disparity/0_disp.npz\"), np.load(\"/home/thomas/Videos/disparity/4_disp.npz\")]\n",
    "concat_events = concatenate_npz(list_events)"
   ],
   "metadata": {
    "collapsed": false,
    "pycharm": {
     "name": "#%%\n"
    }
   }
  },
  {
   "cell_type": "code",
   "execution_count": null,
   "outputs": [],
   "source": [
    "# Save aedat file as numpy npz file\n",
    "# write_npz(home + \"Desktop/shape_hovering_fast\", events)  # mono\n",
    "# write_npz(home + \"Desktop/shapes\", (left_events, right_events)) # stereo\n",
    "\n",
    "Events(\"/home/thomas/Videos/left.npz\", \"/home/thomas/Videos/right.npz\").save_file(\"/home/thomas/Videos/disparity/test\")"
   ],
   "metadata": {
    "collapsed": false,
    "pycharm": {
     "name": "#%%\n"
    }
   }
  },
  {
   "cell_type": "code",
   "execution_count": null,
   "outputs": [],
   "source": [
    "# Rectify events\n",
    "rect_events = rectify_events((events[0].copy(), events[1].copy()), -5, -16, 5, 16)"
   ],
   "metadata": {
    "collapsed": false,
    "pycharm": {
     "name": "#%%\n"
    }
   }
  },
  {
   "cell_type": "code",
   "execution_count": null,
   "outputs": [],
   "source": [
    "list_events = []\n",
    "for rotation in [0, 23, 45, 68, 90, 113, 135, 158, 180, 203, 225, 248, 270, 293, 315, 338]:\n",
    "    list_events.append(np.load(\"/home/thomas/Videos/lines/rotations/\" + str(rotation) + \".npz\"))\n",
    "events = concatenate_npz(list_events)"
   ],
   "metadata": {
    "collapsed": false,
    "pycharm": {
     "name": "#%%\n"
    }
   }
  },
  {
   "cell_type": "code",
   "execution_count": null,
   "outputs": [],
   "source": [
    "events.event_to_video(50, \"/home/thomas/Bureau/test.mp4\", 346, 260)"
   ],
   "metadata": {
    "collapsed": false,
    "pycharm": {
     "name": "#%%\n"
    }
   }
  },
  {
   "cell_type": "code",
   "execution_count": null,
   "outputs": [],
   "source": [
    "for file in os.listdir(\"/home/thomas/Videos/dsec/\"):\n",
    "    print(file, \": \\n\", \"loading left events...\")\n",
    "    events = Events(\"/home/thomas/Videos/dsec/\"+file+\"/events/left/events.h5\")\n",
    "    print(\"loading right events...\")\n",
    "    events.add_events(\"/home/thomas/Videos/dsec/\"+file+\"/events/right/events.h5\", 1)\n",
    "    # print(\"resizing events...\")\n",
    "    # events.resize_events(147, 110, 346, 260)\n",
    "    print(\"sorting events...\")\n",
    "    events.sort_events()\n",
    "    print(\"saving events...\")\n",
    "    events.save_as_file(\"/home/thomas/Videos/DSEC/\"+file+\".h5\")"
   ],
   "metadata": {
    "collapsed": false,
    "pycharm": {
     "name": "#%%\n"
    }
   }
  },
  {
   "cell_type": "markdown",
   "source": [
    "## Frame manipulation"
   ],
   "metadata": {
    "collapsed": false,
    "pycharm": {
     "name": "#%% md\n"
    }
   }
  },
  {
   "cell_type": "code",
   "execution_count": null,
   "outputs": [],
   "source": [
    "frames = load_frames(\"/media/alphat/DisqueDur/0_Thesis/pavin.aedat4\")"
   ],
   "metadata": {
    "collapsed": false,
    "pycharm": {
     "name": "#%%\n"
    }
   }
  },
  {
   "cell_type": "code",
   "execution_count": null,
   "outputs": [],
   "source": [
    "rect_frames = rectify_frames(frames, -4, 8, 4, -8)\n",
    "\n",
    "write_frames(\n",
    "    \"/home/alphat/Desktop/im1/\", rect_frames, ([10, 84, 158, 232, 306], [20, 83, 146, 209]),\n",
    ")"
   ],
   "metadata": {
    "collapsed": false,
    "pycharm": {
     "name": "#%%\n"
    }
   }
  },
  {
   "cell_type": "code",
   "execution_count": null,
   "outputs": [],
   "source": [
    "# Stereo matching\n",
    "disp_frames, disp_nb_frames = stereo_matching(\n",
    "    \"/home/alphat/Desktop/pavin_images/im1/\", [10, 84, 158, 232], [20, 83, 146], range(0, 200),\n",
    ")"
   ],
   "metadata": {
    "collapsed": false,
    "pycharm": {
     "name": "#%%\n"
    }
   }
  },
  {
   "cell_type": "markdown",
   "source": [
    "## Create event videos\n",
    "\n",
    "Generate frames of the desired visual stimuli, then convert those frames into an event stream"
   ],
   "metadata": {
    "collapsed": false,
    "pycharm": {
     "name": "#%% md\n"
    }
   }
  },
  {
   "cell_type": "code",
   "execution_count": null,
   "outputs": [],
   "source": [
    "framerate = 1000\n",
    "time_gap = 1e6 * 1 / framerate\n",
    "pix2eve = Pix2Eve(\n",
    "    time_gap=time_gap,\n",
    "    log_threshold=0,\n",
    "    map_threshold=0.4,\n",
    "    n_max=5,\n",
    "    adapt_thresh_coef_shift=0,\n",
    "    timestamp_noise=50\n",
    ")\n",
    "folder = home + \"Desktop/Events/left_f/\""
   ],
   "metadata": {
    "collapsed": false,
    "pycharm": {
     "name": "#%%\n"
    }
   }
  },
  {
   "cell_type": "code",
   "execution_count": null,
   "outputs": [],
   "source": [
    "disparity_bars(folder, disparities=[0, 0, 0, 0], framerate=framerate)\n",
    "disparity_bars(folder, disparities=[8, 6, 4, 2], framerate=framerate)"
   ],
   "metadata": {
    "collapsed": false,
    "pycharm": {
     "name": "#%%\n"
    }
   }
  },
  {
   "cell_type": "code",
   "execution_count": null,
   "outputs": [],
   "source": [
    "for rotation in [0, 23, 45, 68, 90, 113, 135, 158, 180, 203, 225, 248, 270, 293, 315, 338]:\n",
    "    os.mkdir(folder + str(rotation) + \"/\")\n",
    "    moving_lines(folder + str(rotation) + \"/\", time=2, rotation=rotation, framerate=framerate)"
   ],
   "metadata": {
    "collapsed": false,
    "pycharm": {
     "name": "#%%\n"
    }
   }
  },
  {
   "cell_type": "code",
   "execution_count": null,
   "outputs": [],
   "source": [
    "moving_lines(folder, time=2, framerate=framerate, rotation=0, disparity=0, frame_start=0)"
   ],
   "metadata": {
    "collapsed": false,
    "pycharm": {
     "name": "#%%\n"
    }
   }
  },
  {
   "cell_type": "code",
   "execution_count": null,
   "outputs": [],
   "source": [
    "print(\"Converting frames to event -> \" + folder)\n",
    "\n",
    "events = pix2eve.run(\"/home/thomas/Desktop/Events/left_f/\")\n",
    "events = events[events[:, 0].argsort()]\n",
    "# write_npz(home + \"Desktop/Events/left_e/vlines\", events)"
   ],
   "metadata": {
    "collapsed": false,
    "pycharm": {
     "name": "#%%\n"
    }
   }
  },
  {
   "cell_type": "code",
   "execution_count": null,
   "outputs": [],
   "source": [
    "folder = home + \"Desktop/Events/\"\n",
    "\n",
    "moving_lines(folder + \"left_f/\", time=2, framerate=framerate, speed=-200, rotation=0, disparity=0, frame_start=0)\n",
    "events = pix2eve.run(folder + \"left_f/\")\n",
    "events = events[events[:, 0].argsort()]\n",
    "# write_npz(folder + \"/left_e/0\", events)\n",
    "\n",
    "for i in range(-8, 9):\n",
    "    moving_lines(folder + \"right_f/\", time=2, framerate=framerate, speed=-200, rotation=0, disparity=i, frame_start=0)\n",
    "    events = pix2eve.run(folder + \"right_f/\")\n",
    "    events = events[events[:, 0].argsort()]\n",
    "    # write_npz(folder + \"/right_e/\" + str(i), events)\n",
    "    delete_files(folder + \"right_f/\")\n",
    "    Events(folder + \"left_e/0.npz\", folder + \"right_e/\" + str(i) + \".npz\").save_file(folder + str(i))"
   ],
   "metadata": {
    "collapsed": false,
    "pycharm": {
     "name": "#%%\n"
    }
   }
  },
  {
   "cell_type": "code",
   "execution_count": null,
   "id": "8b86c896",
   "metadata": {
    "pycharm": {
     "name": "#%%\n"
    }
   },
   "outputs": [],
   "source": [
    "folder = home + \"Desktop/Events/\"\n",
    "\n",
    "moving_lines(folder + \"left_f/\", time=2, framerate=framerate, speed=-200, rotation=0, disparity=0, frame_start=0)\n",
    "events = pix2eve.run(folder + \"left_f/\")\n",
    "events = events[events[:, 0].argsort()]\n",
    "# write_npz(folder + \"/left_e/0\", events)\n",
    "\n",
    "for i in range(-8, 9):\n",
    "    moving_lines(folder + \"right_f/\", time=2, framerate=framerate, speed=-200, rotation=0, disparity=i, frame_start=0)\n",
    "    events = pix2eve.run(folder + \"right_f/\")\n",
    "    events = events[events[:, 0].argsort()]\n",
    "    # write_npz(folder + \"/right_e/\" + str(i), events)\n",
    "    delete_files(folder + \"right_f/\")\n",
    "    Events(folder + \"left_e/0.npz\", folder + \"right_e/\" + str(i) + \".npz\").save_file(folder + str(i))"
   ]
  },
  {
   "cell_type": "markdown",
   "id": "b559023e",
   "metadata": {
    "pycharm": {
     "name": "#%% md\n"
    }
   },
   "source": [
    "## Divide visual field"
   ]
  },
  {
   "cell_type": "code",
   "execution_count": null,
   "id": "c873b8e1",
   "metadata": {
    "pycharm": {
     "name": "#%%\n"
    }
   },
   "outputs": [],
   "source": [
    "print(divide_visual_field(3, 3, 40, 40))"
   ]
  }
 ],
 "metadata": {
  "kernelspec": {
   "display_name": "Python 3 (ipykernel)",
   "language": "python",
   "name": "python3"
  },
  "language_info": {
   "codemirror_mode": {
    "name": "ipython",
    "version": 3
   },
   "file_extension": ".py",
   "mimetype": "text/x-python",
   "name": "python",
   "nbconvert_exporter": "python",
   "pygments_lexer": "ipython3",
   "version": "3.8.12"
  }
 },
 "nbformat": 4,
 "nbformat_minor": 5
}