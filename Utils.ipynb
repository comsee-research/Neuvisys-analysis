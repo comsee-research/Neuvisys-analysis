{
 "cells": [
  {
   "cell_type": "markdown",
   "id": "532539b9",
   "metadata": {
    "pycharm": {
     "name": "#%% md\n"
    }
   },
   "source": [
    "# Network utility functions"
   ]
  },
  {
   "cell_type": "code",
   "execution_count": 29,
   "id": "5b26cddf",
   "metadata": {
    "pycharm": {
     "name": "#%%\n"
    }
   },
   "outputs": [
    {
     "name": "stdout",
     "output_type": "stream",
     "text": [
      "The autoreload extension is already loaded. To reload it, use:\n",
      "  %reload_ext autoreload\n"
     ]
    }
   ],
   "source": [
    "%load_ext autoreload\n",
    "%autoreload 2\n",
    "\n",
    "import os\n",
    "import shutil\n",
    "\n",
    "import numpy as np\n",
    "from scipy.stats import laplace\n",
    "import matplotlib.pyplot as plt\n",
    "\n",
    "from src.events.Events import (\n",
    "    Events,\n",
    ")\n",
    "from src.events.tools.generation.pix2nvs import Pix2Eve\n",
    "from src.events.tools.generation.stimuli_gen import (\n",
    "    moving_lines,\n",
    "    disparity_bars\n",
    ")\n",
    "from src.events.tools.modification.event_modification import (\n",
    "    rectify_events,\n",
    "    concatenate_npz,\n",
    ")\n",
    "from src.frames.frame_analysis import (\n",
    "    load_frames,\n",
    "    rectify_frames,\n",
    "    write_frames,\n",
    "    stereo_matching,\n",
    ")\n",
    "from src.spiking_network.network.network_params import (\n",
    "    reinforcement_learning,\n",
    "    inhibition_orientation,\n",
    "    inhibition_disparity,\n",
    ")\n",
    "from src.spiking_network.network.neuvisys import (\n",
    "    SpikingNetwork,\n",
    "    delete_files,\n",
    "    clean_network,\n",
    "    shuffle_weights,\n",
    ")\n",
    "from src.spiking_network.planning.network_planner import (\n",
    "    create_networks,\n",
    "    random_params,\n",
    "    launch_neuvisys_multi_pass,\n",
    "    change_param,\n",
    "    divide_visual_field,\n",
    ")\n",
    "\n",
    "os.chdir(\"/home/comsee/Internship_Antony/neuvisys/neuvisys-analysis/src\")\n",
    "home = \"/home/comsee/\"\n",
    "\n",
    "# network_path = home + \"neuvisys-dv/configuration/network_ref_vh/\"\n",
    "network_path = home + \"Internship_Antony/neuvisys/neuvisys-cpp/configuration/network_dir/\"\n",
    "\n",
    "rotations = np.array([0, 23, 45, 68, 90, 113, 135, 158, 180, 203, 225, 248, 270, 293, 315, 338])\n",
    "disparities = np.array([-8, -7, -6, -5, -4, -3, -2, -1, 0, 1, 2, 3, 4, 5, 6, 7, 8])"
   ]
  },
  {
   "cell_type": "markdown",
   "id": "05302e79",
   "metadata": {
    "pycharm": {
     "name": "#%% md\n"
    }
   },
   "source": [
    "## CAUTION: Delete Weights"
   ]
  },
  {
   "cell_type": "code",
   "execution_count": 3,
   "id": "5b4c3825",
   "metadata": {
    "pycharm": {
     "name": "#%%\n"
    }
   },
   "outputs": [],
   "source": [
    "clean_network(network_path, [0, 1])"
   ]
  },
  {
   "cell_type": "markdown",
   "id": "78e14ed3",
   "metadata": {},
   "source": [
    "## Network creation and launch"
   ]
  },
  {
   "cell_type": "code",
   "execution_count": 11,
   "id": "49fc3f58",
   "metadata": {
    "collapsed": true,
    "pycharm": {
     "name": "#%%\n"
    }
   },
   "outputs": [
    {
     "ename": "PermissionError",
     "evalue": "[Errno 13] Permission denied: '/home/comsee/Internship_Antony/neuvisys/neuvisys-cpp/build'",
     "output_type": "error",
     "traceback": [
      "\u001b[0;31m---------------------------------------------------------------------------\u001b[0m",
      "\u001b[0;31mPermissionError\u001b[0m                           Traceback (most recent call last)",
      "\u001b[0;32m/tmp/ipykernel_9014/3738602165.py\u001b[0m in \u001b[0;36m<module>\u001b[0;34m\u001b[0m\n\u001b[1;32m      1\u001b[0m \u001b[0;31m# params = {\"simple_cell_config\" : {\"ETA_LTP\": [0.0077, 0.0077]}, \"complex_cell_config\" : {\"ETA_LTP\": [0.0077, 0.0077]}}\u001b[0m\u001b[0;34m\u001b[0m\u001b[0;34m\u001b[0m\u001b[0;34m\u001b[0m\u001b[0m\n\u001b[1;32m      2\u001b[0m \u001b[0;31m# create_networks(home + \"neuvisys-dv/cmake-build-release\", home + \"Bureau\", 2, {})\u001b[0m\u001b[0;34m\u001b[0m\u001b[0;34m\u001b[0m\u001b[0;34m\u001b[0m\u001b[0m\n\u001b[0;32m----> 3\u001b[0;31m \u001b[0mrandom_params\u001b[0m\u001b[0;34m(\u001b[0m\u001b[0;34m\"/home/comsee/Internship_Antony/neuvisys/neuvisys-cpp/build\"\u001b[0m\u001b[0;34m,\u001b[0m \u001b[0;34m\"/home/comsee/Internship_Antony/neuvisys/neuvisys-cpp/configuration/network_dir\"\u001b[0m\u001b[0;34m,\u001b[0m \u001b[0;36m1\u001b[0m\u001b[0;34m)\u001b[0m\u001b[0;34m\u001b[0m\u001b[0;34m\u001b[0m\u001b[0m\n\u001b[0m",
      "\u001b[0;32m~/Internship_Antony/neuvisys/neuvisys-analysis/src/spiking_network/planning/network_planner.py\u001b[0m in \u001b[0;36mrandom_params\u001b[0;34m(exec_path, network_path, nb_networks)\u001b[0m\n\u001b[1;32m     52\u001b[0m                                     \"VTHRESH\": [1, 2, 3]}\n\u001b[1;32m     53\u001b[0m               }\n\u001b[0;32m---> 54\u001b[0;31m     \u001b[0mcreate_networks\u001b[0m\u001b[0;34m(\u001b[0m\u001b[0mexec_path\u001b[0m\u001b[0;34m,\u001b[0m \u001b[0mnetwork_path\u001b[0m\u001b[0;34m,\u001b[0m \u001b[0mnb_networks\u001b[0m\u001b[0;34m,\u001b[0m \u001b[0mparams\u001b[0m\u001b[0;34m)\u001b[0m\u001b[0;34m\u001b[0m\u001b[0;34m\u001b[0m\u001b[0m\n\u001b[0m\u001b[1;32m     55\u001b[0m \u001b[0;34m\u001b[0m\u001b[0m\n\u001b[1;32m     56\u001b[0m \u001b[0;34m\u001b[0m\u001b[0m\n",
      "\u001b[0;32m~/Internship_Antony/neuvisys/neuvisys-analysis/src/spiking_network/planning/network_planner.py\u001b[0m in \u001b[0;36mcreate_networks\u001b[0;34m(exec_path, network_path, n_iter, params)\u001b[0m\n\u001b[1;32m     17\u001b[0m     \u001b[0;32mfor\u001b[0m \u001b[0mi\u001b[0m \u001b[0;32min\u001b[0m \u001b[0mrange\u001b[0m\u001b[0;34m(\u001b[0m\u001b[0mn_iter\u001b[0m\u001b[0;34m)\u001b[0m\u001b[0;34m:\u001b[0m\u001b[0;34m\u001b[0m\u001b[0;34m\u001b[0m\u001b[0m\n\u001b[1;32m     18\u001b[0m         \u001b[0mn_path\u001b[0m \u001b[0;34m=\u001b[0m \u001b[0mnetwork_path\u001b[0m \u001b[0;34m+\u001b[0m \u001b[0;34m\"/network_\"\u001b[0m \u001b[0;34m+\u001b[0m \u001b[0mstr\u001b[0m\u001b[0;34m(\u001b[0m\u001b[0mi\u001b[0m\u001b[0;34m)\u001b[0m\u001b[0;34m\u001b[0m\u001b[0;34m\u001b[0m\u001b[0m\n\u001b[0;32m---> 19\u001b[0;31m         \u001b[0mcreate_network\u001b[0m\u001b[0;34m(\u001b[0m\u001b[0mexec_path\u001b[0m\u001b[0;34m,\u001b[0m \u001b[0mn_path\u001b[0m\u001b[0;34m)\u001b[0m\u001b[0;34m\u001b[0m\u001b[0;34m\u001b[0m\u001b[0m\n\u001b[0m\u001b[1;32m     20\u001b[0m \u001b[0;34m\u001b[0m\u001b[0m\n\u001b[1;32m     21\u001b[0m         \u001b[0mconf\u001b[0m \u001b[0;34m=\u001b[0m \u001b[0mopen_config_files\u001b[0m\u001b[0;34m(\u001b[0m\u001b[0mn_path\u001b[0m \u001b[0;34m+\u001b[0m \u001b[0;34m\"/configs/\"\u001b[0m\u001b[0;34m)\u001b[0m\u001b[0;34m\u001b[0m\u001b[0;34m\u001b[0m\u001b[0m\n",
      "\u001b[0;32m~/Internship_Antony/neuvisys/neuvisys-analysis/src/spiking_network/planning/network_planner.py\u001b[0m in \u001b[0;36mcreate_network\u001b[0;34m(exec_path, network_path)\u001b[0m\n\u001b[1;32m     97\u001b[0m \u001b[0;34m\u001b[0m\u001b[0m\n\u001b[1;32m     98\u001b[0m \u001b[0;32mdef\u001b[0m \u001b[0mcreate_network\u001b[0m\u001b[0;34m(\u001b[0m\u001b[0mexec_path\u001b[0m\u001b[0;34m,\u001b[0m \u001b[0mnetwork_path\u001b[0m\u001b[0;34m)\u001b[0m\u001b[0;34m:\u001b[0m\u001b[0;34m\u001b[0m\u001b[0;34m\u001b[0m\u001b[0m\n\u001b[0;32m---> 99\u001b[0;31m     \u001b[0;32mfor\u001b[0m \u001b[0mpath\u001b[0m \u001b[0;32min\u001b[0m \u001b[0mexecute\u001b[0m\u001b[0;34m(\u001b[0m\u001b[0;34m[\u001b[0m\u001b[0mexec_path\u001b[0m\u001b[0;34m,\u001b[0m \u001b[0mnetwork_path\u001b[0m\u001b[0;34m]\u001b[0m\u001b[0;34m)\u001b[0m\u001b[0;34m:\u001b[0m\u001b[0;34m\u001b[0m\u001b[0;34m\u001b[0m\u001b[0m\n\u001b[0m\u001b[1;32m    100\u001b[0m         \u001b[0mprint\u001b[0m\u001b[0;34m(\u001b[0m\u001b[0mpath\u001b[0m\u001b[0;34m,\u001b[0m \u001b[0mend\u001b[0m\u001b[0;34m=\u001b[0m\u001b[0;34m\"\"\u001b[0m\u001b[0;34m)\u001b[0m\u001b[0;34m\u001b[0m\u001b[0;34m\u001b[0m\u001b[0m\n\u001b[1;32m    101\u001b[0m \u001b[0;34m\u001b[0m\u001b[0m\n",
      "\u001b[0;32m~/Internship_Antony/neuvisys/neuvisys-analysis/src/spiking_network/planning/network_planner.py\u001b[0m in \u001b[0;36mexecute\u001b[0;34m(cmd)\u001b[0m\n\u001b[1;32m     77\u001b[0m \u001b[0;34m\u001b[0m\u001b[0m\n\u001b[1;32m     78\u001b[0m \u001b[0;32mdef\u001b[0m \u001b[0mexecute\u001b[0m\u001b[0;34m(\u001b[0m\u001b[0mcmd\u001b[0m\u001b[0;34m)\u001b[0m\u001b[0;34m:\u001b[0m\u001b[0;34m\u001b[0m\u001b[0;34m\u001b[0m\u001b[0m\n\u001b[0;32m---> 79\u001b[0;31m     \u001b[0mpopen\u001b[0m \u001b[0;34m=\u001b[0m \u001b[0msubprocess\u001b[0m\u001b[0;34m.\u001b[0m\u001b[0mPopen\u001b[0m\u001b[0;34m(\u001b[0m\u001b[0mcmd\u001b[0m\u001b[0;34m,\u001b[0m \u001b[0mstdout\u001b[0m\u001b[0;34m=\u001b[0m\u001b[0msubprocess\u001b[0m\u001b[0;34m.\u001b[0m\u001b[0mPIPE\u001b[0m\u001b[0;34m,\u001b[0m \u001b[0muniversal_newlines\u001b[0m\u001b[0;34m=\u001b[0m\u001b[0;32mTrue\u001b[0m\u001b[0;34m)\u001b[0m\u001b[0;34m\u001b[0m\u001b[0;34m\u001b[0m\u001b[0m\n\u001b[0m\u001b[1;32m     80\u001b[0m     \u001b[0;32mfor\u001b[0m \u001b[0mstdout_line\u001b[0m \u001b[0;32min\u001b[0m \u001b[0miter\u001b[0m\u001b[0;34m(\u001b[0m\u001b[0mpopen\u001b[0m\u001b[0;34m.\u001b[0m\u001b[0mstdout\u001b[0m\u001b[0;34m.\u001b[0m\u001b[0mreadline\u001b[0m\u001b[0;34m,\u001b[0m \u001b[0;34m\"\"\u001b[0m\u001b[0;34m)\u001b[0m\u001b[0;34m:\u001b[0m\u001b[0;34m\u001b[0m\u001b[0;34m\u001b[0m\u001b[0m\n\u001b[1;32m     81\u001b[0m         \u001b[0;32myield\u001b[0m \u001b[0mstdout_line\u001b[0m\u001b[0;34m\u001b[0m\u001b[0;34m\u001b[0m\u001b[0m\n",
      "\u001b[0;32m/usr/lib/python3.8/subprocess.py\u001b[0m in \u001b[0;36m__init__\u001b[0;34m(self, args, bufsize, executable, stdin, stdout, stderr, preexec_fn, close_fds, shell, cwd, env, universal_newlines, startupinfo, creationflags, restore_signals, start_new_session, pass_fds, encoding, errors, text)\u001b[0m\n\u001b[1;32m    856\u001b[0m                             encoding=encoding, errors=errors)\n\u001b[1;32m    857\u001b[0m \u001b[0;34m\u001b[0m\u001b[0m\n\u001b[0;32m--> 858\u001b[0;31m             self._execute_child(args, executable, preexec_fn, close_fds,\n\u001b[0m\u001b[1;32m    859\u001b[0m                                 \u001b[0mpass_fds\u001b[0m\u001b[0;34m,\u001b[0m \u001b[0mcwd\u001b[0m\u001b[0;34m,\u001b[0m \u001b[0menv\u001b[0m\u001b[0;34m,\u001b[0m\u001b[0;34m\u001b[0m\u001b[0;34m\u001b[0m\u001b[0m\n\u001b[1;32m    860\u001b[0m                                 \u001b[0mstartupinfo\u001b[0m\u001b[0;34m,\u001b[0m \u001b[0mcreationflags\u001b[0m\u001b[0;34m,\u001b[0m \u001b[0mshell\u001b[0m\u001b[0;34m,\u001b[0m\u001b[0;34m\u001b[0m\u001b[0;34m\u001b[0m\u001b[0m\n",
      "\u001b[0;32m/usr/lib/python3.8/subprocess.py\u001b[0m in \u001b[0;36m_execute_child\u001b[0;34m(self, args, executable, preexec_fn, close_fds, pass_fds, cwd, env, startupinfo, creationflags, shell, p2cread, p2cwrite, c2pread, c2pwrite, errread, errwrite, restore_signals, start_new_session)\u001b[0m\n\u001b[1;32m   1702\u001b[0m                     \u001b[0;32mif\u001b[0m \u001b[0merrno_num\u001b[0m \u001b[0;34m!=\u001b[0m \u001b[0;36m0\u001b[0m\u001b[0;34m:\u001b[0m\u001b[0;34m\u001b[0m\u001b[0;34m\u001b[0m\u001b[0m\n\u001b[1;32m   1703\u001b[0m                         \u001b[0merr_msg\u001b[0m \u001b[0;34m=\u001b[0m \u001b[0mos\u001b[0m\u001b[0;34m.\u001b[0m\u001b[0mstrerror\u001b[0m\u001b[0;34m(\u001b[0m\u001b[0merrno_num\u001b[0m\u001b[0;34m)\u001b[0m\u001b[0;34m\u001b[0m\u001b[0;34m\u001b[0m\u001b[0m\n\u001b[0;32m-> 1704\u001b[0;31m                     \u001b[0;32mraise\u001b[0m \u001b[0mchild_exception_type\u001b[0m\u001b[0;34m(\u001b[0m\u001b[0merrno_num\u001b[0m\u001b[0;34m,\u001b[0m \u001b[0merr_msg\u001b[0m\u001b[0;34m,\u001b[0m \u001b[0merr_filename\u001b[0m\u001b[0;34m)\u001b[0m\u001b[0;34m\u001b[0m\u001b[0;34m\u001b[0m\u001b[0m\n\u001b[0m\u001b[1;32m   1705\u001b[0m                 \u001b[0;32mraise\u001b[0m \u001b[0mchild_exception_type\u001b[0m\u001b[0;34m(\u001b[0m\u001b[0merr_msg\u001b[0m\u001b[0;34m)\u001b[0m\u001b[0;34m\u001b[0m\u001b[0;34m\u001b[0m\u001b[0m\n\u001b[1;32m   1706\u001b[0m \u001b[0;34m\u001b[0m\u001b[0m\n",
      "\u001b[0;31mPermissionError\u001b[0m: [Errno 13] Permission denied: '/home/comsee/Internship_Antony/neuvisys/neuvisys-cpp/build'"
     ]
    }
   ],
   "source": [
    "# params = {\"simple_cell_config\" : {\"ETA_LTP\": [0.0077, 0.0077]}, \"complex_cell_config\" : {\"ETA_LTP\": [0.0077, 0.0077]}}\n",
    "# create_networks(home + \"neuvisys-dv/cmake-build-release\", home + \"Bureau\", 2, {})\n",
    "random_params(\"/home/comsee/Internship_Antony/neuvisys/neuvisys-cpp/build\", \"/home/comsee/Internship_Antony/neuvisys/neuvisys-cpp/configuration/network_dir\", 1)"
   ]
  },
  {
   "cell_type": "code",
   "execution_count": 8,
   "id": "9d4749f2",
   "metadata": {
    "pycharm": {
     "is_executing": true,
     "name": "#%%\n"
    }
   },
   "outputs": [],
   "source": [
    "launch_neuvisys_multi_pass(\"/home/comsee/Internship_Antony/neuvisys/neuvisys-cpp/build/neuvisys-exe\",\n",
    "                           \"/home/comsee/Internship_Antony/neuvisys/neuvisys-cpp/configuration/network_dir/configs/network_config.json\",\n",
    "                           \"/home/comsee/Internship_Antony/datasets/shapes.npz\",\n",
    "                           5)"
   ]
  },
  {
   "cell_type": "code",
   "execution_count": 10,
   "id": "64c17430",
   "metadata": {
    "pycharm": {
     "name": "#%%\n"
    }
   },
   "outputs": [
    {
     "name": "stdout",
     "output_type": "stream",
     "text": [
      "[Errno 2] No such file or directory: '/home/comsee/Internship_Antony/neuvisys/neuvisys-cpp/configuration/network_dir/network_0/networkState.json'\n"
     ]
    },
    {
     "ename": "FileNotFoundError",
     "evalue": "[Errno 2] No such file or directory: '/home/comsee/Internship_Antony/neuvisys/neuvisys-cpp/configuration/network_dir/network_0/weights/layout_0.npy'",
     "output_type": "error",
     "traceback": [
      "\u001b[0;31m---------------------------------------------------------------------------\u001b[0m",
      "\u001b[0;31mFileNotFoundError\u001b[0m                         Traceback (most recent call last)",
      "\u001b[0;32m/tmp/ipykernel_9014/3233645944.py\u001b[0m in \u001b[0;36m<module>\u001b[0;34m\u001b[0m\n\u001b[1;32m     18\u001b[0m     )\n\u001b[1;32m     19\u001b[0m \u001b[0;34m\u001b[0m\u001b[0m\n\u001b[0;32m---> 20\u001b[0;31m     \u001b[0mspinet\u001b[0m \u001b[0;34m=\u001b[0m \u001b[0mSpikingNetwork\u001b[0m\u001b[0;34m(\u001b[0m\u001b[0mnetworks_path\u001b[0m \u001b[0;34m+\u001b[0m \u001b[0;34m\"network_\"\u001b[0m \u001b[0;34m+\u001b[0m \u001b[0mstr\u001b[0m\u001b[0;34m(\u001b[0m\u001b[0mi\u001b[0m\u001b[0;34m)\u001b[0m \u001b[0;34m+\u001b[0m \u001b[0;34m\"/\"\u001b[0m\u001b[0;34m)\u001b[0m\u001b[0;34m\u001b[0m\u001b[0;34m\u001b[0m\u001b[0m\n\u001b[0m\u001b[1;32m     21\u001b[0m     \u001b[0;31m# display_network([spinet], 0)\u001b[0m\u001b[0;34m\u001b[0m\u001b[0;34m\u001b[0m\u001b[0;34m\u001b[0m\u001b[0m\n\u001b[1;32m     22\u001b[0m     \u001b[0;31m# update_dataframe(df, spinet)\u001b[0m\u001b[0;34m\u001b[0m\u001b[0;34m\u001b[0m\u001b[0;34m\u001b[0m\u001b[0m\n",
      "\u001b[0;32m~/Internship_Antony/neuvisys/neuvisys-analysis/src/spiking_network/network/neuvisys.py\u001b[0m in \u001b[0;36m__init__\u001b[0;34m(self, path, loading)\u001b[0m\n\u001b[1;32m    100\u001b[0m                 \u001b[0mself\u001b[0m\u001b[0;34m.\u001b[0m\u001b[0mneurons\u001b[0m\u001b[0;34m.\u001b[0m\u001b[0mappend\u001b[0m\u001b[0;34m(\u001b[0m\u001b[0mneurons\u001b[0m\u001b[0;34m)\u001b[0m\u001b[0;34m\u001b[0m\u001b[0;34m\u001b[0m\u001b[0m\n\u001b[1;32m    101\u001b[0m                 \u001b[0mself\u001b[0m\u001b[0;34m.\u001b[0m\u001b[0mspikes\u001b[0m\u001b[0;34m.\u001b[0m\u001b[0mappend\u001b[0m\u001b[0;34m(\u001b[0m\u001b[0mspikes\u001b[0m\u001b[0;34m)\u001b[0m\u001b[0;34m\u001b[0m\u001b[0;34m\u001b[0m\u001b[0m\n\u001b[0;32m--> 102\u001b[0;31m                 \u001b[0mself\u001b[0m\u001b[0;34m.\u001b[0m\u001b[0mlayout\u001b[0m\u001b[0;34m.\u001b[0m\u001b[0mappend\u001b[0m\u001b[0;34m(\u001b[0m\u001b[0mnp\u001b[0m\u001b[0;34m.\u001b[0m\u001b[0mload\u001b[0m\u001b[0;34m(\u001b[0m\u001b[0mpath\u001b[0m \u001b[0;34m+\u001b[0m \u001b[0;34m\"weights/layout_\"\u001b[0m \u001b[0;34m+\u001b[0m \u001b[0mstr\u001b[0m\u001b[0;34m(\u001b[0m\u001b[0mlayer\u001b[0m\u001b[0;34m)\u001b[0m \u001b[0;34m+\u001b[0m \u001b[0;34m\".npy\"\u001b[0m\u001b[0;34m)\u001b[0m\u001b[0;34m)\u001b[0m\u001b[0;34m\u001b[0m\u001b[0;34m\u001b[0m\u001b[0m\n\u001b[0m\u001b[1;32m    103\u001b[0m                 \u001b[0mself\u001b[0m\u001b[0;34m.\u001b[0m\u001b[0mweights\u001b[0m\u001b[0;34m.\u001b[0m\u001b[0mappend\u001b[0m\u001b[0;34m(\u001b[0m\u001b[0mself\u001b[0m\u001b[0;34m.\u001b[0m\u001b[0mload_weights\u001b[0m\u001b[0;34m(\u001b[0m\u001b[0mlayer\u001b[0m\u001b[0;34m,\u001b[0m \u001b[0mneuron_type\u001b[0m\u001b[0;34m)\u001b[0m\u001b[0;34m)\u001b[0m\u001b[0;34m\u001b[0m\u001b[0;34m\u001b[0m\u001b[0m\n\u001b[1;32m    104\u001b[0m \u001b[0;34m\u001b[0m\u001b[0m\n",
      "\u001b[0;32m~/Internship_Antony/environments/deepl-snn/lib/python3.8/site-packages/numpy/lib/npyio.py\u001b[0m in \u001b[0;36mload\u001b[0;34m(file, mmap_mode, allow_pickle, fix_imports, encoding)\u001b[0m\n\u001b[1;32m    415\u001b[0m             \u001b[0mown_fid\u001b[0m \u001b[0;34m=\u001b[0m \u001b[0;32mFalse\u001b[0m\u001b[0;34m\u001b[0m\u001b[0;34m\u001b[0m\u001b[0m\n\u001b[1;32m    416\u001b[0m         \u001b[0;32melse\u001b[0m\u001b[0;34m:\u001b[0m\u001b[0;34m\u001b[0m\u001b[0;34m\u001b[0m\u001b[0m\n\u001b[0;32m--> 417\u001b[0;31m             \u001b[0mfid\u001b[0m \u001b[0;34m=\u001b[0m \u001b[0mstack\u001b[0m\u001b[0;34m.\u001b[0m\u001b[0menter_context\u001b[0m\u001b[0;34m(\u001b[0m\u001b[0mopen\u001b[0m\u001b[0;34m(\u001b[0m\u001b[0mos_fspath\u001b[0m\u001b[0;34m(\u001b[0m\u001b[0mfile\u001b[0m\u001b[0;34m)\u001b[0m\u001b[0;34m,\u001b[0m \u001b[0;34m\"rb\"\u001b[0m\u001b[0;34m)\u001b[0m\u001b[0;34m)\u001b[0m\u001b[0;34m\u001b[0m\u001b[0;34m\u001b[0m\u001b[0m\n\u001b[0m\u001b[1;32m    418\u001b[0m             \u001b[0mown_fid\u001b[0m \u001b[0;34m=\u001b[0m \u001b[0;32mTrue\u001b[0m\u001b[0;34m\u001b[0m\u001b[0;34m\u001b[0m\u001b[0m\n\u001b[1;32m    419\u001b[0m \u001b[0;34m\u001b[0m\u001b[0m\n",
      "\u001b[0;31mFileNotFoundError\u001b[0m: [Errno 2] No such file or directory: '/home/comsee/Internship_Antony/neuvisys/neuvisys-cpp/configuration/network_dir/network_0/weights/layout_0.npy'"
     ]
    }
   ],
   "source": [
    "# Launch training of multiple networks\n",
    "\n",
    "n_networks = 1\n",
    "exec_path = home + \"/Internship_Antony/neuvisys/neuvisys-cpp/build/neuvisys-exe\"\n",
    "networks_path = home + \"Internship_Antony/neuvisys/neuvisys-cpp/configuration/network_dir/\"\n",
    "event_path = home + \"Internship_Antony/datasets/shapes.npz\"\n",
    "\n",
    "params = {\"simple_cell_config\": {\"TARGET_SPIKE_RATE\": [0.1, 0.2, 0.3]}}\n",
    "\n",
    "create_networks(exec_path, networks_path, n_networks, params)\n",
    "nb_iterations = 5\n",
    "\n",
    "df = []\n",
    "\n",
    "for i in range(0, n_networks):\n",
    "    launch_neuvisys_multi_pass(\n",
    "        exec_path, networks_path + \"/configs/network_config.json\", event_path, nb_iterations,\n",
    "    )\n",
    "\n",
    "    spinet = SpikingNetwork(networks_path + \"network_\" + str(i) + \"/\")\n",
    "    # display_network([spinet], 0)\n",
    "    # update_dataframe(df, spinet)\n",
    "\n",
    "# df = pd.DataFrame(df)\n",
    "# df.to_csv(home + \"Desktop/test/df\")"
   ]
  },
  {
   "cell_type": "markdown",
   "id": "6e9888c0",
   "metadata": {
    "pycharm": {
     "name": "#%% md\n"
    }
   },
   "source": [
    "#### Orientation response"
   ]
  },
  {
   "cell_type": "code",
   "execution_count": null,
   "id": "97460978",
   "metadata": {
    "pycharm": {
     "is_executing": true,
     "name": "#%%\n"
    }
   },
   "outputs": [],
   "source": [
    "exec_path = home + \"neuvisys-dv/cmake-build-release/neuvisys-exe\"\n",
    "network_path = home + \"Desktop/network_experiment/\"\n",
    "event_rotation = home + \"Videos/lines/rotations/\"\n",
    "\n",
    "spikes = [[], []]\n",
    "for rot in rotations:\n",
    "    launch_neuvisys_multi_pass(exec_path, network_path + \"configs/network_config.json\",\n",
    "                               event_rotation + str(rot) + \".npz\", 5)\n",
    "    spinet = SpikingNetwork(network_path)\n",
    "    spikes[0].append(spinet.spikes[0])\n",
    "    spikes[1].append(spinet.spikes[1])\n",
    "spinet.save_complex_directions(spikes[1], rotations)"
   ]
  },
  {
   "cell_type": "markdown",
   "id": "3ceb06d7",
   "metadata": {
    "pycharm": {
     "name": "#%% md\n"
    }
   },
   "source": [
    "#### Disparity response"
   ]
  },
  {
   "cell_type": "code",
   "execution_count": null,
   "id": "7aa14122",
   "metadata": {
    "pycharm": {
     "is_executing": true,
     "name": "#%%\n"
    }
   },
   "outputs": [],
   "source": [
    "exec_path = home + \"neuvisys-dv/cmake-build-release/neuvisys-exe\"\n",
    "network_path = home + \"Desktop/network_experiment/\"\n",
    "event_disparity = home + \"Videos/disparity/base_disp/\"\n",
    "\n",
    "spikes = [[], []]\n",
    "for disp in disparities:\n",
    "    launch_neuvisys_multi_pass(exec_path, network_path + \"configs/network_config.json\",\n",
    "                               event_disparity + str(disp) + \".npz\", 5)\n",
    "    spinet = SpikingNetwork(network_path)\n",
    "    spikes[0].append(spinet.spikes[0])\n",
    "    spikes[1].append(spinet.spikes[1])\n",
    "spinet.save_complex_disparities(spikes[1], disparities)"
   ]
  },
  {
   "cell_type": "markdown",
   "id": "",
   "metadata": {
    "pycharm": {
     "name": "#%% md\n"
    }
   },
   "source": [
    "#### Inhibition weight learning"
   ]
  },
  {
   "cell_type": "code",
   "execution_count": 9,
   "id": "5a4a27e2",
   "metadata": {
    "pycharm": {
     "name": "#%%\n"
    }
   },
   "outputs": [],
   "source": [
    "exec_path = home + \"neuvisys-dv/cmake-build-release/neuvisys-exe\"\n",
    "networks_path = home + \"Desktop/Experiment/\"\n",
    "event_path = home + \"Videos/disparity/\"\n",
    "\n",
    "# orientations\n",
    "shapes = home + \"Videos/shapes.npz\"\n",
    "# h_events = home + \"Videos/lines/hlines.npz\"\n",
    "# v_events = home + \"Videos/lines/vlines.npz\"\n",
    "# vh_events = home + \"Videos/lines/vhlines.npz\"\n",
    "h_events = home + \"Videos/lines/sim_h.npz\"\n",
    "v_events = home + \"Videos/lines/sim_v.npz\"\n",
    "vh_events = home + \"Videos/lines/sim_vh.npz\"\n",
    "rot_events = home + \"Videos/lines/rotations.npz\"\n",
    "list_events_rot = [home + \"Videos/lines/rotations/\" + str(rotation) + \".npz\" for rotation in rotations]\n",
    "\n",
    "# disparity\n",
    "events_0 = home + \"Videos/disparity/disp_forward/0.npz\"\n",
    "list_disparities = [home + \"Videos/disparity/disp_forward/\" + str(disp) + \".npz\" for disp in [0, 1, 2, 3, 4, 5]] + [\n",
    "    home + \"Videos/disparity/disp_backward/\" + str(disp) + \".npz\" for disp in [0, 1, 2, 3, 4, 5]]"
   ]
  },
  {
   "cell_type": "code",
   "execution_count": 10,
   "id": "e21638a7",
   "metadata": {
    "pycharm": {
     "name": "#%%\n"
    }
   },
   "outputs": [],
   "source": [
    "create_networks(exec_path, networks_path, 1, inhibition_disparity())"
   ]
  },
  {
   "cell_type": "markdown",
   "id": "11683855",
   "metadata": {
    "pycharm": {
     "name": "#%% md\n"
    }
   },
   "source": [
    "##### learning the base network"
   ]
  },
  {
   "cell_type": "code",
   "execution_count": null,
   "id": "",
   "metadata": {
    "pycharm": {
     "is_executing": true,
     "name": "#%%\n"
    }
   },
   "outputs": [],
   "source": [
    "## learning the base network\n",
    "path = networks_path + \"network_0/\"\n",
    "\n",
    "disp = [list_disparities[index] for index in np.random.randint(0, 12, size=300)]\n",
    "for events in disp:\n",
    "    launch_neuvisys_multi_pass(exec_path, path + \"configs/network_config.json\", events, 1)\n",
    "\n",
    "# launch_neuvisys_multi_pass(exec_path, path + \"configs/network_config.json\", vh_events, 10)"
   ]
  },
  {
   "cell_type": "markdown",
   "id": "0929b9d4",
   "metadata": {
    "pycharm": {
     "name": "#%% md\n"
    }
   },
   "source": [
    "##### learning inhibition weights"
   ]
  },
  {
   "cell_type": "code",
   "execution_count": null,
   "id": "e6b56976",
   "metadata": {
    "pycharm": {
     "is_executing": true,
     "name": "#%%\n"
    }
   },
   "outputs": [],
   "source": [
    "## learning inhibition weights\n",
    "path = networks_path + \"network_0/\"\n",
    "\n",
    "draw = np.round(laplace(0, 1.5).rvs(size=200)).astype(np.int64)\n",
    "rotations_distribution = [list_events_rot[index] for index in draw if 16 > index > -17]\n",
    "\n",
    "shutil.copytree(path, networks_path + \"network_inhibition\")\n",
    "change_param(networks_path + \"network_inhibition/configs/simple_cell_config.json\", \"STDP_LEARNING\", \"inhibitory\")\n",
    "change_param(networks_path + \"network_inhibition/configs/complex_cell_config.json\", \"STDP_LEARNING\", \"none\")\n",
    "\n",
    "import re\n",
    "\n",
    "distribution = ([int(re.findall('[0-9]+', string)[0]) for string in rotations_distribution])\n",
    "plt.figure()\n",
    "plt.hist(distribution, bins=np.arange(np.min(distribution) + 1, np.max(distribution) - 1, 22.5), align=\"left\")"
   ]
  },
  {
   "cell_type": "code",
   "execution_count": 120,
   "id": "6f4e94a9",
   "metadata": {
    "pycharm": {
     "name": "#%%\n"
    }
   },
   "outputs": [],
   "source": [
    "np.save(networks_path + \"network_inhibition/distribution\", draw)"
   ]
  },
  {
   "cell_type": "code",
   "execution_count": null,
   "id": "4094940c",
   "metadata": {
    "pycharm": {
     "is_executing": true,
     "name": "#%%\n"
    }
   },
   "outputs": [],
   "source": [
    "# for eventfile in rotations_distribution:\n",
    "#     launch_neuvisys_multi_pass(exec_path, networks_path + \"network_inhibition/configs/network_config.json\", eventfile,\n",
    "#                                1)\n",
    "\n",
    "# for ind in draw:\n",
    "#     launch_neuvisys_multi_pass(exec_path, networks_path + \"network_inhibition/configs/network_config.json\", list_events_rot[int(ind)], 1)\n",
    "\n",
    "for i in range(10):\n",
    "    launch_neuvisys_multi_pass(exec_path, networks_path + \"network_inhibition/configs/network_config.json\", v_events, 5)"
   ]
  },
  {
   "cell_type": "code",
   "execution_count": 32,
   "id": "0104564f",
   "metadata": {
    "pycharm": {
     "name": "#%%\n"
    }
   },
   "outputs": [],
   "source": [
    "shutil.copytree(networks_path + \"network_inhibition\", networks_path + \"network_control\")\n",
    "shutil.copytree(networks_path + \"network_inhibition\", networks_path + \"network_experiment\")\n",
    "\n",
    "change_param(networks_path + \"network_control/configs/simple_cell_config.json\", \"STDP_LEARNING\", \"none\")\n",
    "change_param(networks_path + \"network_control/configs/complex_cell_config.json\", \"STDP_LEARNING\", \"none\")\n",
    "change_param(networks_path + \"network_experiment/configs/simple_cell_config.json\", \"STDP_LEARNING\", \"none\")\n",
    "change_param(networks_path + \"network_experiment/configs/complex_cell_config.json\", \"STDP_LEARNING\", \"none\")"
   ]
  },
  {
   "cell_type": "markdown",
   "id": "be45c6ef",
   "metadata": {},
   "source": [
    "##### experiment"
   ]
  },
  {
   "cell_type": "code",
   "execution_count": null,
   "id": "",
   "metadata": {
    "pycharm": {
     "is_executing": true,
     "name": "#%%\n"
    }
   },
   "outputs": [],
   "source": [
    "launch_neuvisys_multi_pass(exec_path, networks_path + \"network_experiment/configs/network_config.json\", vh_events, 2)"
   ]
  },
  {
   "cell_type": "markdown",
   "id": "8267d855",
   "metadata": {},
   "source": [
    "##### control test"
   ]
  },
  {
   "cell_type": "code",
   "execution_count": null,
   "id": "e733c4c8",
   "metadata": {
    "pycharm": {
     "is_executing": true,
     "name": "#%%\n"
    }
   },
   "outputs": [],
   "source": [
    "shuffle_weights(networks_path + \"network_control/weights/0/\")\n",
    "launch_neuvisys_multi_pass(exec_path, networks_path + \"network_control/configs/network_config.json\", vh_events, 2)"
   ]
  },
  {
   "cell_type": "markdown",
   "id": "a9e0ae0b",
   "metadata": {
    "pycharm": {
     "name": "#%% md\n"
    }
   },
   "source": [
    "## Event manipulation:\n",
    "Functions for loading, writing or creating event files in the different formats (aedat4, npz, rosbag...)"
   ]
  },
  {
   "cell_type": "code",
   "execution_count": 45,
   "id": "f5f937cd",
   "metadata": {},
   "outputs": [],
   "source": [
    "events = Events(\"/home/comsee/Internship_Antony/neuvisys/Events/nonsynthetic_dataset/1/158/0/54/1/1.npz\")"
   ]
  },
  {
   "cell_type": "code",
   "execution_count": 48,
   "id": "63b25515",
   "metadata": {},
   "outputs": [],
   "source": [
    "#events = Events(\"/home/comsee/Internship_Antony/neuvisys/Events/rotated_new_bars_test2/events/1/0/0/54/0/0.npz\")\n",
    "events = Events(\"/home/comsee/Internship_Antony/neuvisys/Events/rotated_new_bars9/events/0.npz\")"
   ]
  },
  {
   "cell_type": "code",
   "execution_count": 23,
   "id": "0fc8eeb9",
   "metadata": {},
   "outputs": [
    {
     "data": {
      "text/plain": [
       "(75150,)"
      ]
     },
     "execution_count": 23,
     "metadata": {},
     "output_type": "execute_result"
    }
   ],
   "source": [
    "events.event_array.shape"
   ]
  },
  {
   "cell_type": "code",
   "execution_count": 49,
   "id": "b89607c7",
   "metadata": {},
   "outputs": [
    {
     "name": "stderr",
     "output_type": "stream",
     "text": [
      "100%|███████████████████████████████████████| 169/169 [00:01<00:00, 132.20it/s]\n"
     ]
    }
   ],
   "source": [
    "events.to_video(10, \"/home/comsee/Internship_Antony/neuvisys/files/\"+\"vertical\", 346, 260)"
   ]
  },
  {
   "cell_type": "code",
   "execution_count": 3,
   "id": "bd6a9d99",
   "metadata": {
    "pycharm": {
     "name": "#%%\n"
    }
   },
   "outputs": [],
   "source": [
    "# Load events\n",
    "events = []\n",
    "for i in range(144):\n",
    "    events.append(Events(\"/home/comsee/Internship_Antony/neuvisys/Events/rotated_new_bars3/events/\" + str(i) + \".npz\"))"
   ]
  },
  {
   "cell_type": "code",
   "execution_count": 14,
   "id": "",
   "metadata": {
    "pycharm": {
     "name": "#%%\n"
    }
   },
   "outputs": [],
   "source": [
    "# Concatenate events\n",
    "list_events = [\"/home/thomas/Videos/lines/sim_v.npz\", \"/home/thomas/Videos/lines/sim_h.npz\"]\n",
    "events_c = concatenate_npz(list_events)"
   ]
  },
  {
   "cell_type": "code",
   "execution_count": 15,
   "id": "565deda9",
   "metadata": {
    "pycharm": {
     "name": "#%%\n"
    }
   },
   "outputs": [],
   "source": [
    "# Save event file\n",
    "events_c.save_file(\"/home/thomas/Videos/sim_vh\")"
   ]
  },
  {
   "cell_type": "code",
   "execution_count": 41,
   "id": "09c0a7d7",
   "metadata": {
    "pycharm": {
     "name": "#%%\n"
    }
   },
   "outputs": [],
   "source": [
    "# Merge left and right events\n",
    "Events(\"/home/thomas/Videos/left.npz\", \"/home/thomas/Videos/right.npz\").save_file(\"/home/thomas/Videos/disparity/test\")"
   ]
  },
  {
   "cell_type": "code",
   "execution_count": 5,
   "id": "7cd2ad52",
   "metadata": {
    "pycharm": {
     "is_executing": true,
     "name": "#%%\n"
    }
   },
   "outputs": [
    {
     "name": "stderr",
     "output_type": "stream",
     "text": [
      "100%|████████████████████████████████████████| 214/214 [00:01<00:00, 123.06it/s]\n",
      "100%|████████████████████████████████████████| 214/214 [00:01<00:00, 120.47it/s]\n",
      "100%|████████████████████████████████████████| 221/221 [00:01<00:00, 139.22it/s]\n",
      "100%|████████████████████████████████████████| 221/221 [00:01<00:00, 137.56it/s]\n",
      "100%|████████████████████████████████████████| 227/227 [00:01<00:00, 161.85it/s]\n",
      "100%|████████████████████████████████████████| 227/227 [00:01<00:00, 160.68it/s]\n",
      "100%|████████████████████████████████████████| 207/207 [00:01<00:00, 177.38it/s]\n",
      "100%|████████████████████████████████████████| 206/206 [00:01<00:00, 177.62it/s]\n",
      "100%|████████████████████████████████████████| 285/285 [00:01<00:00, 210.98it/s]\n",
      "100%|████████████████████████████████████████| 285/285 [00:01<00:00, 208.73it/s]\n",
      "100%|████████████████████████████████████████| 298/298 [00:01<00:00, 166.72it/s]\n",
      "100%|████████████████████████████████████████| 300/300 [00:01<00:00, 163.95it/s]\n",
      "100%|████████████████████████████████████████| 255/255 [00:01<00:00, 237.90it/s]\n",
      "100%|████████████████████████████████████████| 255/255 [00:01<00:00, 231.39it/s]\n",
      "100%|████████████████████████████████████████| 320/320 [00:02<00:00, 133.57it/s]\n",
      "100%|████████████████████████████████████████| 320/320 [00:02<00:00, 135.67it/s]\n",
      "100%|████████████████████████████████████████| 221/221 [00:01<00:00, 168.02it/s]\n",
      "100%|████████████████████████████████████████| 221/221 [00:01<00:00, 173.24it/s]\n",
      "100%|████████████████████████████████████████| 265/265 [00:01<00:00, 167.92it/s]\n",
      "100%|████████████████████████████████████████| 265/265 [00:01<00:00, 167.34it/s]\n",
      "100%|████████████████████████████████████████| 213/213 [00:01<00:00, 160.77it/s]\n",
      "100%|████████████████████████████████████████| 213/213 [00:01<00:00, 157.40it/s]\n",
      "100%|████████████████████████████████████████| 220/220 [00:01<00:00, 188.86it/s]\n",
      "100%|████████████████████████████████████████| 220/220 [00:01<00:00, 193.16it/s]\n",
      "100%|████████████████████████████████████████| 243/243 [00:01<00:00, 220.14it/s]\n",
      "100%|████████████████████████████████████████| 241/241 [00:01<00:00, 219.55it/s]\n",
      "100%|████████████████████████████████████████| 230/230 [00:01<00:00, 146.03it/s]\n",
      "100%|████████████████████████████████████████| 230/230 [00:01<00:00, 152.80it/s]\n",
      "100%|████████████████████████████████████████| 257/257 [00:01<00:00, 160.72it/s]\n",
      "100%|████████████████████████████████████████| 256/256 [00:01<00:00, 167.49it/s]\n",
      "100%|████████████████████████████████████████| 265/265 [00:01<00:00, 159.85it/s]\n",
      "100%|████████████████████████████████████████| 265/265 [00:01<00:00, 156.55it/s]\n",
      "100%|████████████████████████████████████████| 288/288 [00:01<00:00, 162.41it/s]\n",
      "100%|████████████████████████████████████████| 288/288 [00:01<00:00, 156.82it/s]\n",
      "100%|████████████████████████████████████████| 257/257 [00:01<00:00, 143.30it/s]\n",
      "100%|████████████████████████████████████████| 257/257 [00:01<00:00, 143.07it/s]\n",
      "100%|████████████████████████████████████████| 205/205 [00:01<00:00, 146.63it/s]\n",
      "100%|████████████████████████████████████████| 205/205 [00:01<00:00, 146.88it/s]\n",
      "100%|████████████████████████████████████████| 320/320 [00:02<00:00, 132.72it/s]\n",
      "100%|████████████████████████████████████████| 320/320 [00:02<00:00, 140.73it/s]\n",
      "100%|████████████████████████████████████████| 344/344 [00:03<00:00, 110.46it/s]\n",
      "100%|████████████████████████████████████████| 344/344 [00:02<00:00, 115.23it/s]\n",
      "100%|████████████████████████████████████████| 230/230 [00:01<00:00, 182.27it/s]\n",
      "100%|████████████████████████████████████████| 230/230 [00:01<00:00, 184.86it/s]\n",
      "100%|████████████████████████████████████████| 279/279 [00:02<00:00, 137.77it/s]\n",
      "100%|████████████████████████████████████████| 279/279 [00:01<00:00, 141.19it/s]\n",
      "100%|████████████████████████████████████████| 290/290 [00:01<00:00, 170.78it/s]\n",
      "100%|████████████████████████████████████████| 292/292 [00:01<00:00, 170.11it/s]\n",
      "100%|████████████████████████████████████████| 286/286 [00:02<00:00, 120.57it/s]\n",
      "100%|████████████████████████████████████████| 286/286 [00:02<00:00, 123.25it/s]\n",
      "100%|████████████████████████████████████████| 345/345 [00:03<00:00, 106.59it/s]\n",
      "100%|████████████████████████████████████████| 345/345 [00:03<00:00, 107.51it/s]\n",
      "100%|████████████████████████████████████████| 268/268 [00:00<00:00, 270.59it/s]\n",
      "100%|████████████████████████████████████████| 268/268 [00:00<00:00, 287.36it/s]\n",
      "100%|████████████████████████████████████████| 305/305 [00:02<00:00, 147.45it/s]\n",
      "100%|████████████████████████████████████████| 305/305 [00:02<00:00, 151.30it/s]\n",
      "100%|████████████████████████████████████████| 251/251 [00:01<00:00, 163.28it/s]\n",
      "100%|████████████████████████████████████████| 251/251 [00:01<00:00, 165.64it/s]\n",
      "100%|████████████████████████████████████████| 207/207 [00:01<00:00, 176.66it/s]\n",
      "100%|████████████████████████████████████████| 207/207 [00:01<00:00, 172.94it/s]\n",
      "100%|████████████████████████████████████████| 317/317 [00:02<00:00, 123.03it/s]\n",
      "100%|████████████████████████████████████████| 314/314 [00:02<00:00, 121.18it/s]\n",
      "100%|████████████████████████████████████████| 282/282 [00:01<00:00, 159.04it/s]\n",
      "100%|████████████████████████████████████████| 282/282 [00:01<00:00, 169.07it/s]\n",
      "100%|████████████████████████████████████████| 251/251 [00:01<00:00, 132.66it/s]\n",
      "100%|████████████████████████████████████████| 250/250 [00:01<00:00, 134.61it/s]\n",
      "100%|████████████████████████████████████████| 336/336 [00:02<00:00, 144.34it/s]\n",
      "100%|████████████████████████████████████████| 336/336 [00:02<00:00, 141.24it/s]\n",
      "100%|████████████████████████████████████████| 214/214 [00:00<00:00, 229.56it/s]\n",
      "100%|████████████████████████████████████████| 214/214 [00:01<00:00, 211.57it/s]\n",
      "100%|████████████████████████████████████████| 276/276 [00:01<00:00, 153.04it/s]\n",
      "100%|████████████████████████████████████████| 276/276 [00:01<00:00, 156.12it/s]\n",
      "100%|████████████████████████████████████████| 277/277 [00:01<00:00, 171.83it/s]\n",
      "100%|████████████████████████████████████████| 277/277 [00:01<00:00, 171.43it/s]\n",
      "100%|████████████████████████████████████████| 295/295 [00:02<00:00, 129.85it/s]\n",
      "100%|████████████████████████████████████████| 295/295 [00:02<00:00, 130.29it/s]\n",
      "100%|████████████████████████████████████████| 312/312 [00:02<00:00, 148.96it/s]\n",
      "100%|████████████████████████████████████████| 312/312 [00:02<00:00, 149.61it/s]\n",
      "100%|████████████████████████████████████████| 263/263 [00:02<00:00, 131.21it/s]\n",
      "100%|████████████████████████████████████████| 262/262 [00:02<00:00, 130.54it/s]\n",
      "100%|████████████████████████████████████████| 255/255 [00:01<00:00, 141.68it/s]\n",
      "100%|████████████████████████████████████████| 255/255 [00:01<00:00, 142.92it/s]\n",
      "100%|████████████████████████████████████████| 270/270 [00:01<00:00, 146.89it/s]\n",
      "100%|████████████████████████████████████████| 272/272 [00:01<00:00, 140.59it/s]\n",
      "100%|████████████████████████████████████████| 326/326 [00:01<00:00, 165.57it/s]\n",
      "100%|████████████████████████████████████████| 326/326 [00:01<00:00, 168.15it/s]\n",
      "100%|████████████████████████████████████████| 276/276 [00:01<00:00, 164.97it/s]\n",
      "100%|████████████████████████████████████████| 276/276 [00:01<00:00, 167.26it/s]\n",
      "100%|████████████████████████████████████████| 247/247 [00:02<00:00, 110.50it/s]\n",
      "100%|████████████████████████████████████████| 247/247 [00:02<00:00, 118.08it/s]\n",
      "100%|████████████████████████████████████████| 330/330 [00:02<00:00, 122.81it/s]\n",
      "100%|████████████████████████████████████████| 330/330 [00:02<00:00, 121.78it/s]\n",
      "100%|████████████████████████████████████████| 285/285 [00:02<00:00, 107.01it/s]\n",
      "100%|████████████████████████████████████████| 285/285 [00:02<00:00, 107.14it/s]\n",
      "100%|████████████████████████████████████████| 333/333 [00:02<00:00, 124.09it/s]\n",
      "100%|████████████████████████████████████████| 333/333 [00:02<00:00, 122.50it/s]\n",
      "100%|████████████████████████████████████████| 310/310 [00:01<00:00, 176.04it/s]\n",
      "100%|████████████████████████████████████████| 309/309 [00:01<00:00, 180.62it/s]\n",
      "100%|████████████████████████████████████████| 289/289 [00:01<00:00, 156.72it/s]\n",
      "100%|████████████████████████████████████████| 289/289 [00:01<00:00, 161.70it/s]\n",
      "100%|████████████████████████████████████████| 306/306 [00:01<00:00, 157.89it/s]\n",
      "100%|████████████████████████████████████████| 308/308 [00:02<00:00, 153.24it/s]\n",
      "100%|████████████████████████████████████████| 323/323 [00:01<00:00, 163.02it/s]\n",
      "100%|████████████████████████████████████████| 323/323 [00:01<00:00, 162.22it/s]\n",
      "100%|████████████████████████████████████████| 230/230 [00:01<00:00, 161.63it/s]\n",
      "100%|████████████████████████████████████████| 230/230 [00:01<00:00, 162.68it/s]\n",
      "100%|████████████████████████████████████████| 347/347 [00:01<00:00, 214.11it/s]\n",
      "100%|████████████████████████████████████████| 347/347 [00:01<00:00, 212.39it/s]\n",
      "100%|████████████████████████████████████████| 222/222 [00:01<00:00, 168.20it/s]\n",
      "100%|████████████████████████████████████████| 222/222 [00:01<00:00, 174.34it/s]\n",
      "100%|████████████████████████████████████████| 310/310 [00:02<00:00, 145.28it/s]\n",
      "100%|████████████████████████████████████████| 310/310 [00:02<00:00, 145.02it/s]\n",
      "100%|████████████████████████████████████████| 287/287 [00:02<00:00, 131.31it/s]\n",
      "100%|████████████████████████████████████████| 287/287 [00:02<00:00, 133.04it/s]\n",
      "100%|████████████████████████████████████████| 238/238 [00:01<00:00, 157.06it/s]\n",
      "100%|████████████████████████████████████████| 237/237 [00:01<00:00, 159.07it/s]\n",
      "100%|████████████████████████████████████████| 211/211 [00:00<00:00, 268.34it/s]\n",
      "100%|████████████████████████████████████████| 211/211 [00:00<00:00, 255.74it/s]\n",
      "100%|████████████████████████████████████████| 286/286 [00:01<00:00, 176.02it/s]\n",
      "100%|████████████████████████████████████████| 285/285 [00:01<00:00, 166.81it/s]\n",
      "100%|████████████████████████████████████████| 346/346 [00:02<00:00, 153.56it/s]\n",
      "100%|████████████████████████████████████████| 346/346 [00:02<00:00, 152.68it/s]\n",
      "100%|████████████████████████████████████████| 270/270 [00:01<00:00, 138.33it/s]\n",
      "100%|████████████████████████████████████████| 270/270 [00:01<00:00, 135.97it/s]\n",
      "100%|████████████████████████████████████████| 265/265 [00:01<00:00, 145.12it/s]\n",
      "100%|████████████████████████████████████████| 265/265 [00:01<00:00, 150.97it/s]\n",
      "100%|████████████████████████████████████████| 278/278 [00:02<00:00, 123.03it/s]\n",
      "100%|████████████████████████████████████████| 278/278 [00:02<00:00, 121.61it/s]\n",
      "100%|████████████████████████████████████████| 208/208 [00:01<00:00, 133.53it/s]\n",
      "100%|████████████████████████████████████████| 208/208 [00:01<00:00, 131.48it/s]\n",
      "100%|████████████████████████████████████████| 282/282 [00:02<00:00, 114.38it/s]\n",
      "100%|████████████████████████████████████████| 282/282 [00:02<00:00, 123.46it/s]\n",
      "100%|████████████████████████████████████████| 241/241 [00:01<00:00, 163.70it/s]\n",
      "100%|████████████████████████████████████████| 241/241 [00:01<00:00, 161.17it/s]\n",
      "100%|████████████████████████████████████████| 290/290 [00:01<00:00, 155.70it/s]\n",
      "100%|████████████████████████████████████████| 290/290 [00:01<00:00, 155.55it/s]\n",
      "100%|████████████████████████████████████████| 186/186 [00:00<00:00, 248.96it/s]\n",
      "100%|████████████████████████████████████████| 187/187 [00:00<00:00, 260.08it/s]\n",
      "100%|████████████████████████████████████████| 301/301 [00:01<00:00, 170.56it/s]\n",
      "100%|████████████████████████████████████████| 301/301 [00:01<00:00, 172.89it/s]\n",
      "100%|████████████████████████████████████████| 201/201 [00:01<00:00, 111.53it/s]\n",
      "100%|████████████████████████████████████████| 201/201 [00:01<00:00, 105.42it/s]\n",
      "100%|████████████████████████████████████████| 308/308 [00:01<00:00, 226.32it/s]\n",
      "100%|████████████████████████████████████████| 308/308 [00:01<00:00, 222.83it/s]\n"
     ]
    }
   ],
   "source": [
    "# Generate event video\n",
    "for i in range (144):\n",
    "    events[i].to_video(10, \"/home/comsee/Internship_Antony/neuvisys/Videos/\"+str(i), 346, 260)"
   ]
  },
  {
   "cell_type": "code",
   "execution_count": 11,
   "id": "1fe10342",
   "metadata": {},
   "outputs": [
    {
     "name": "stdout",
     "output_type": "stream",
     "text": [
      "2358863.1944444445\n"
     ]
    }
   ],
   "source": [
    "avg_ev = 0\n",
    "for i in range (144):\n",
    "    avg_ev += len(events[i].event_array)\n",
    "avg_ev/=144\n",
    "print(avg_ev)"
   ]
  },
  {
   "cell_type": "code",
   "execution_count": 12,
   "id": "72653b66",
   "metadata": {},
   "outputs": [
    {
     "data": {
      "text/plain": [
       "array([(   2040,   2, 122, 1, 0), (   2040,   2, 118, 1, 0),\n",
       "       (   2040,   2, 151, 1, 0), ..., (3087025, 316, 130, 0, 0),\n",
       "       (3087025, 319, 130, 1, 0), (3087025, 316, 132, 0, 0)],\n",
       "      dtype=[('t', '<u4'), ('x', '<u2'), ('y', '<u2'), ('p', 'u1'), ('c', 'u1')])"
      ]
     },
     "execution_count": 12,
     "metadata": {},
     "output_type": "execute_result"
    }
   ],
   "source": [
    "events[i].event_array"
   ]
  },
  {
   "cell_type": "code",
   "execution_count": null,
   "id": "19cda09e",
   "metadata": {
    "pycharm": {
     "name": "#%%\n"
    }
   },
   "outputs": [],
   "source": [
    "# Rectify events\n",
    "rect_events = rectify_events((events[0].copy(), events[1].copy()), -5, -16, 5, 16)"
   ]
  },
  {
   "cell_type": "code",
   "execution_count": 8,
   "id": "",
   "metadata": {
    "pycharm": {
     "name": "#%%\n"
    }
   },
   "outputs": [],
   "source": [
    "list_events = []\n",
    "for rotation in [0, 23, 45, 68, 90, 113, 135, 158, 180, 203, 225, 248, 270, 293, 315, 338]:\n",
    "    list_events.append(np.load(\"/home/thomas/Videos/lines/rotations/\" + str(rotation) + \".npz\"))\n",
    "events = concatenate_npz(list_events)"
   ]
  },
  {
   "cell_type": "markdown",
   "id": "1df23232",
   "metadata": {
    "pycharm": {
     "name": "#%% md\n"
    }
   },
   "source": [
    "## Frame manipulation"
   ]
  },
  {
   "cell_type": "code",
   "execution_count": null,
   "id": "f2f5a4a2",
   "metadata": {
    "pycharm": {
     "name": "#%%\n"
    }
   },
   "outputs": [],
   "source": [
    "frames = load_frames(\"/media/alphat/DisqueDur/0_Thesis/pavin.aedat4\")"
   ]
  },
  {
   "cell_type": "code",
   "execution_count": null,
   "id": "e70e411f",
   "metadata": {
    "pycharm": {
     "name": "#%%\n"
    }
   },
   "outputs": [],
   "source": [
    "rect_frames = rectify_frames(frames, -4, 8, 4, -8)\n",
    "\n",
    "write_frames(\n",
    "    \"/home/alphat/Desktop/im1/\", rect_frames, ([10, 84, 158, 232, 306], [20, 83, 146, 209]),\n",
    ")"
   ]
  },
  {
   "cell_type": "code",
   "execution_count": null,
   "id": "5b1c271e",
   "metadata": {
    "pycharm": {
     "name": "#%%\n"
    }
   },
   "outputs": [],
   "source": [
    "# Stereo matching\n",
    "disp_frames, disp_nb_frames = stereo_matching(\n",
    "    \"/home/alphat/Desktop/pavin_images/im1/\", [10, 84, 158, 232], [20, 83, 146], range(0, 200),\n",
    ")"
   ]
  },
  {
   "cell_type": "markdown",
   "id": "a996571a",
   "metadata": {
    "pycharm": {
     "name": "#%% md\n"
    }
   },
   "source": [
    "## Create event videos\n",
    "\n",
    "Generate frames of the desired visual stimuli, then convert those frames into an event stream"
   ]
  },
  {
   "cell_type": "code",
   "execution_count": 22,
   "id": "a0f1d778",
   "metadata": {
    "pycharm": {
     "name": "#%%\n"
    }
   },
   "outputs": [],
   "source": [
    "framerate = 1000\n",
    "time_gap = 1e6 * 1 / framerate\n",
    "pix2eve = Pix2Eve(\n",
    "    time_gap=time_gap,\n",
    "    log_threshold=0,\n",
    "    map_threshold=0.4,\n",
    "    n_max=5,\n",
    "    adapt_thresh_coef_shift=0.05,\n",
    "    timestamp_noise=50\n",
    ")\n",
    "folder = home + \"Desktop/Events/right/\""
   ]
  },
  {
   "cell_type": "code",
   "execution_count": null,
   "id": "a0f8ac45",
   "metadata": {
    "pycharm": {
     "name": "#%%\n"
    }
   },
   "outputs": [],
   "source": [
    "disparity_bars(folder, disparities=[0, 0, 0, 0], framerate=framerate)\n",
    "disparity_bars(folder, disparities=[8, 6, 4, 2], framerate=framerate)"
   ]
  },
  {
   "cell_type": "code",
   "execution_count": 21,
   "id": "e64b785e",
   "metadata": {
    "pycharm": {
     "name": "#%%\n"
    }
   },
   "outputs": [],
   "source": [
    "for rotation in [0, 23, 45, 68, 90, 113, 135, 158, 180, 203, 225, 248, 270, 293, 315, 338]:\n",
    "    os.mkdir(folder + str(rotation) + \"/\")\n",
    "    moving_lines(folder + str(rotation) + \"/\", time=2, rotation=rotation, framerate=framerate)"
   ]
  },
  {
   "cell_type": "code",
   "execution_count": 34,
   "id": "",
   "metadata": {
    "pycharm": {
     "name": "#%%\n"
    }
   },
   "outputs": [],
   "source": [
    "moving_lines(folder, time=2, framerate=framerate, rotation=0, disparity=0, frame_start=0)"
   ]
  },
  {
   "cell_type": "code",
   "execution_count": null,
   "id": "0baedda4",
   "metadata": {
    "pycharm": {
     "is_executing": true,
     "name": "#%%\n"
    }
   },
   "outputs": [],
   "source": [
    "print(\"Converting frames to event -> \" + folder)\n",
    "\n",
    "events = Events(pix2eve.run(\"/home/thomas/Desktop/Events/left_f/\"))\n",
    "events.sort_events()\n",
    "events.save_as_file(home + \"Videos/test.npz\")"
   ]
  },
  {
   "cell_type": "code",
   "execution_count": null,
   "id": "784850e7",
   "metadata": {
    "pycharm": {
     "is_executing": true,
     "name": "#%%\n"
    }
   },
   "outputs": [],
   "source": [
    "folder = home + \"Desktop/Events/\"\n",
    "\n",
    "moving_lines(folder + \"left_f/\", time=2, framerate=framerate, speed=-200, rotation=0, disparity=0, frame_start=0)\n",
    "events = Events(pix2eve.run(folder + \"left_f/\"))\n",
    "events.sort_events()\n",
    "events.save_as_file(folder + \"/left_e/0.npz\")\n",
    "\n",
    "for i in range(-8, 9):\n",
    "    moving_lines(folder + \"right_f/\", time=2, framerate=framerate, speed=-200, rotation=0, disparity=i, frame_start=0)\n",
    "    events = Events(pix2eve.run(folder + \"right_f/\"))\n",
    "    events.sort_events()\n",
    "    events.save_as_file(folder + \"/right_e/\" + str(i) + \".npz\")\n",
    "    delete_files(folder + \"right_f/\")\n",
    "    events = Events([folder + \"left_e/0.npz\", folder + \"right_e/\" + str(i) + \".npz\"])\n",
    "    events.sort_events()\n",
    "    events.save_as_file(folder + str(i) + \".npz\")"
   ]
  },
  {
   "cell_type": "markdown",
   "id": "b559023e",
   "metadata": {
    "pycharm": {
     "name": "#%% md\n"
    }
   },
   "source": [
    "## Divide visual field"
   ]
  },
  {
   "cell_type": "code",
   "execution_count": 9,
   "id": "c873b8e1",
   "metadata": {
    "pycharm": {
     "is_executing": true,
     "name": "#%%\n"
    }
   },
   "outputs": [
    {
     "name": "stdout",
     "output_type": "stream",
     "text": [
      "([0.0, 153.0, 306.0], [0.0, 110.0, 220.0])\n"
     ]
    }
   ],
   "source": [
    "print(divide_visual_field(3, 3, 40, 40))"
   ]
  }
 ],
 "metadata": {
  "kernelspec": {
   "display_name": "Python 3 (ipykernel)",
   "language": "python",
   "name": "python3"
  },
  "language_info": {
   "codemirror_mode": {
    "name": "ipython",
    "version": 3
   },
   "file_extension": ".py",
   "mimetype": "text/x-python",
   "name": "python",
   "nbconvert_exporter": "python",
   "pygments_lexer": "ipython3",
   "version": "3.8.10"
  }
 },
 "nbformat": 4,
 "nbformat_minor": 5
}
