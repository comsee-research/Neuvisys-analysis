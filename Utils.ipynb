{
 "cells": [
  {
   "cell_type": "markdown",
   "id": "532539b9",
   "metadata": {
    "pycharm": {
     "name": "#%% md\n"
    }
   },
   "source": [
    "# Network utility functions"
   ]
  },
  {
   "cell_type": "code",
   "execution_count": 1,
   "id": "5b26cddf",
   "metadata": {
    "pycharm": {
     "name": "#%%\n"
    }
   },
   "outputs": [],
   "source": [
    "import os\n",
    "import shutil\n",
    "from src.spiking_network.network.neuvisys import SpikingNetwork, clean_network\n",
    "from src.spiking_network.network.network_params import (\n",
    "    inhibition_learning_params,\n",
    ")\n",
    "from src.events.tools.read_write.aedat_tools import (\n",
    "    load_aedat4,\n",
    ")\n",
    "from src.events.tools.read_write.events_tools import (\n",
    "    write_npz,\n",
    "    npaedat_to_np,\n",
    "    ros_to_npy,\n",
    ")\n",
    "from src.events.tools.modification.event_modification import (\n",
    "    show_event_images,\n",
    "    rectify_events,\n",
    "    remove_events,\n",
    ")\n",
    "from src.events.tools.generation.stimuli_gen import (\n",
    "    moving_bars,\n",
    "    moving_lines,\n",
    "    disparity_bars\n",
    ")\n",
    "from src.events.tools.generation.pix2nvs import Pix2Eve\n",
    "from src.frames.frame_analysis import (\n",
    "    load_frames,\n",
    "    rectify_frames,\n",
    "    write_frames,\n",
    "    stereo_matching,\n",
    ")\n",
    "from src.spiking_network.planning.network_planner import (\n",
    "    create_networks,\n",
    "    random_params,\n",
    "    launch_neuvisys_multi_pass,\n",
    "    change_param,\n",
    "    divide_visual_field,\n",
    ")\n",
    "\n",
    "os.chdir(\"/home/thomas/neuvisys-analysis/src\")\n",
    "home = \"/home/thomas/\"\n",
    "\n",
    "network_path = home + \"neuvisys-dv/configuration/network_ref_vh/\""
   ]
  },
  {
   "cell_type": "markdown",
   "id": "05302e79",
   "metadata": {
    "pycharm": {
     "name": "#%% md\n"
    }
   },
   "source": [
    "## CAUTION: Delete Weights"
   ]
  },
  {
   "cell_type": "code",
   "execution_count": null,
   "id": "5b4c3825",
   "metadata": {
    "pycharm": {
     "name": "#%%\n"
    }
   },
   "outputs": [],
   "source": [
    "clean_network(network_path, [0, 1])"
   ]
  },
  {
   "cell_type": "markdown",
   "id": "3df2fe30",
   "metadata": {
    "pycharm": {
     "name": "#%% md\n"
    }
   },
   "source": [
    "## Network creation and launch"
   ]
  },
  {
   "cell_type": "code",
   "execution_count": 5,
   "id": "49fc3f58",
   "metadata": {
    "pycharm": {
     "name": "#%%\n"
    }
   },
   "outputs": [],
   "source": [
    "# params = {\"simple_cell_config\" : {\"ETA_LTP\": [0.0077, 0.0077]}, \"complex_cell_config\" : {\"ETA_LTP\": [0.0077, 0.0077]}}\n",
    "# create_networks(home + \"neuvisys-dv/cmake-build-release\", home + \"Bureau\", 2, {})\n",
    "random_params(\"/home/thomas/neuvisys-dv/cmake-build-release\", \"/home/thomas/Desktop/Experiment\", 1)"
   ]
  },
  {
   "cell_type": "code",
   "execution_count": null,
   "id": "64c17430",
   "metadata": {
    "pycharm": {
     "name": "#%%\n"
    }
   },
   "outputs": [],
   "source": [
    "# Launch training of multiple networks\n",
    "\n",
    "n_networks = 100\n",
    "exec_path = home + \"neuvisys-dv/build/neuvisys-exe\"\n",
    "networks_path = home + \"Desktop/test/\"\n",
    "event_path = home + \"Desktop/shapes.npz\"\n",
    "\n",
    "params = {\"simple_cell_config\": {\"TARGET_SPIKE_RATE\": [0.1, 0.2, 0.3]}}\n",
    "\n",
    "create_networks(exec_path, networks_path, n_networks, params)\n",
    "nb_iterations = 5\n",
    "\n",
    "df = []\n",
    "\n",
    "for i in range(0, n_networks):\n",
    "    launch_neuvisys_multi_pass(\n",
    "        exec_path, networks_path + \"network_\" + str(i) + \"/configs/network_config.json\", event_path, nb_iterations,\n",
    "    )\n",
    "\n",
    "    spinet = SpikingNetwork(networks_path + \"network_\" + str(i) + \"/\")\n",
    "    # display_network([spinet], 0)\n",
    "    # update_dataframe(df, spinet)\n",
    "\n",
    "# df = pd.DataFrame(df)\n",
    "# df.to_csv(home + \"Desktop/test/df\")"
   ]
  },
  {
   "cell_type": "markdown",
   "source": [
    "#### Inhibition weight learning"
   ],
   "metadata": {
    "collapsed": false,
    "pycharm": {
     "name": "#%% md\n"
    }
   }
  },
  {
   "cell_type": "code",
   "execution_count": 8,
   "id": "5a4a27e2",
   "metadata": {
    "pycharm": {
     "name": "#%%\n"
    }
   },
   "outputs": [],
   "source": [
    "exec_path = home + \"neuvisys-dv/cmake-build-release/neuvisys-exe\"\n",
    "networks_path = home + \"Desktop/Experiment/\"\n",
    "h_events = home + \"Videos/lines/hlines.npz\"\n",
    "v_events = home + \"Videos/lines/vlines.npz\"\n",
    "hv_events = home + \"Videos/lines/vhlines.npz\"\n",
    "\n",
    "params = inhibition_learning_params()\n",
    "create_networks(exec_path, networks_path, 1, params)"
   ]
  },
  {
   "cell_type": "code",
   "execution_count": 9,
   "outputs": [
    {
     "name": "stdout",
     "output_type": "stream",
     "text": [
      "Layer 0: new weights generated\n",
      "Layer 1: new weights generated\n",
      "25%\n",
      "50%\n",
      "75%\n",
      "Saving Network...\n",
      "Finished.\n"
     ]
    },
    {
     "data": {
      "text/plain": "'/home/thomas/Desktop/Experiment/network_inhibition'"
     },
     "execution_count": 9,
     "metadata": {},
     "output_type": "execute_result"
    }
   ],
   "source": [
    "## learning the base network\n",
    "path = networks_path + \"network_0/\"\n",
    "launch_neuvisys_multi_pass(exec_path, path + \"configs/network_config.json\", hv_events, 10)\n",
    "\n",
    "change_param(networks_path + \"network_0/configs/simple_cell_config.json\", \"STDP_LEARNING\", \"none\")\n",
    "change_param(networks_path + \"network_0/configs/complex_cell_config.json\", \"STDP_LEARNING\", \"none\")\n",
    "shutil.copytree(path, networks_path + \"network_control\")\n",
    "shutil.copytree(path, networks_path + \"network_inhibition\")"
   ],
   "metadata": {
    "collapsed": false,
    "pycharm": {
     "name": "#%%\n"
    }
   }
  },
  {
   "cell_type": "code",
<<<<<<< HEAD
   "execution_count": 16,
   "outputs": [
    {
     "data": {
      "text/plain": "<Figure size 1152x432 with 1 Axes>",
      "image/png": "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\n"
     },
     "metadata": {},
     "output_type": "display_data"
    },
    {
     "data": {
      "text/plain": "<Figure size 1152x432 with 1 Axes>",
      "image/png": "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\n"
     },
     "metadata": {},
     "output_type": "display_data"
=======
   "execution_count": 10,
   "outputs": [
    {
     "name": "stdout",
     "output_type": "stream",
     "text": [
      "Layer 0: weights loaded from file\n",
      "Layer 1: weights loaded from file\n",
      "25%\n",
      "50%\n",
      "75%\n",
      "Saving Network...\n",
      "Finished.\n"
     ]
>>>>>>> cf2a5a701d872dccbf4177d9e230a18394fd623c
    }
   ],
   "source": [
    "## control test\n",
    "launch_neuvisys_multi_pass(exec_path, networks_path + \"network_control/configs/network_config.json\", hv_events, 10)"
   ],
   "metadata": {
    "collapsed": false,
    "pycharm": {
     "name": "#%%\n"
    }
   }
  },
  {
   "cell_type": "code",
   "execution_count": 12,
   "outputs": [
    {
     "name": "stdout",
     "output_type": "stream",
     "text": [
      "Layer 0: weights loaded from file\n",
      "Layer 1: weights loaded from file\n",
      "2%\n",
      "5%\n",
      "8%\n",
      "11%\n",
      "14%\n",
      "17%\n",
      "20%\n",
      "22%\n",
      "25%\n",
      "28%\n",
      "31%\n",
      "34%\n",
      "37%\n",
      "40%\n",
      "42%\n",
      "45%\n",
      "48%\n",
      "51%\n",
      "54%\n",
      "57%\n",
      "60%\n",
      "63%\n",
      "65%\n",
      "68%\n",
      "71%\n",
      "74%\n",
      "77%\n",
      "80%\n",
      "83%\n",
      "85%\n",
      "88%\n",
      "91%\n",
      "94%\n",
      "97%\n",
      "Saving Network...\n",
      "Finished.\n"
     ]
    }
   ],
   "source": [
    "## learning inhibition weights\n",
    "change_param(networks_path + \"network_inhibition/configs/simple_cell_config.json\", \"STDP_LEARNING\", \"inhibitory\")\n",
    "launch_neuvisys_multi_pass(exec_path, networks_path + \"network_inhibition/configs/network_config.json\", h_events, 35)"
   ],
   "metadata": {
    "collapsed": false,
    "pycharm": {
     "name": "#%%\n"
    }
   }
  },
  {
   "cell_type": "code",
   "execution_count": 13,
   "outputs": [
    {
     "name": "stdout",
     "output_type": "stream",
     "text": [
      "Layer 0: weights loaded from file\n",
      "Layer 1: weights loaded from file\n",
      "25%\n",
      "50%\n",
      "75%\n",
      "Saving Network...\n",
      "Finished.\n"
     ]
    }
   ],
   "source": [
    "## experiment\n",
    "shutil.copytree(networks_path + \"network_inhibition\", networks_path + \"network_experiment\")\n",
    "change_param(networks_path + \"network_inhibition/configs/simple_cell_config.json\", \"STDP_LEARNING\", \"none\")\n",
    "launch_neuvisys_multi_pass(exec_path, networks_path + \"network_experiment/configs/network_config.json\", hv_events, 10)"
   ],
   "metadata": {
    "collapsed": false,
    "pycharm": {
     "name": "#%%\n"
    }
   }
  },
  {
   "cell_type": "markdown",
   "id": "a9e0ae0b",
   "metadata": {
    "pycharm": {
     "name": "#%% md\n"
    }
   },
   "source": [
    "## Event manipulation:\n",
    "Functions for loading, writing or creating event files in the different formats (aedat4, npz, rosbag...)"
   ]
  },
  {
   "cell_type": "code",
   "execution_count": null,
   "id": "bd6a9d99",
   "metadata": {
    "pycharm": {
     "name": "#%%\n"
    }
   },
   "outputs": [],
   "source": [
    "# Load events\n",
    "events = load_aedat4(home + \"Desktop/shape_hovering_fast.aedat4\")"
   ]
  },
  {
   "cell_type": "code",
   "execution_count": null,
   "id": "09c0a7d7",
   "metadata": {
    "pycharm": {
     "name": "#%%\n"
    }
   },
   "outputs": [],
   "source": [
    "# Save aedat file as numpy npz file\n",
    "write_npz(home + \"Desktop/shape_hovering_fast\", events)  # mono\n",
    "# write_npz(home + \"Desktop/shapes\", (left_events, right_events)) # stereo"
   ]
  },
  {
   "cell_type": "code",
   "execution_count": null,
   "id": "adbd00f7",
   "metadata": {
    "pycharm": {
     "name": "#%%\n"
    }
   },
   "outputs": [],
   "source": [
    "# Load rosbag and convert it to npdat\n",
    "left_events = ros_to_npy(home + \"Downloads/outdoor_night1_data.bag\", topic=\"/davis/left/events\")\n",
    "right_events = ros_to_npy(home + \"Downloads/outdoor_night1_data.bag\", topic=\"/davis/right/events\")"
   ]
  },
  {
   "cell_type": "code",
   "execution_count": null,
   "id": "19cda09e",
   "metadata": {
    "pycharm": {
     "name": "#%%\n"
    }
   },
   "outputs": [],
   "source": [
    "# Rectify and plot event images\n",
    "rect_events = rectify_events((events[0].copy(), events[1].copy()), -5, -16, 5, 16)\n",
    "\n",
    "for i in range(2):\n",
    "    show_event_images(\n",
    "        npaedat_to_np(rect_events[0]),\n",
    "        100000,\n",
    "        346,\n",
    "        260,\n",
    "        \"/media/alphat/DisqueDur/0_Thesis/short_pavin2_img/\",\n",
    "        ([10, 84, 158, 232, 306], [20, 83, 146, 209]),\n",
    "        \"_\" + str(i),\n",
    "    )"
   ]
  },
  {
   "cell_type": "code",
   "execution_count": null,
   "id": "d62e95f1",
   "metadata": {
    "pycharm": {
     "name": "#%%\n"
    }
   },
   "outputs": [],
   "source": [
    "# remove events from specific intervals\n",
    "tss = [\n",
    "    1615820915344885,\n",
    "    1615820923944885,\n",
    "    1615820925444885,\n",
    "    1615820944844885,\n",
    "    1615820947944885,\n",
    "]\n",
    "tse = [\n",
    "    1615820916544885,\n",
    "    1615820924344885,\n",
    "    1615820925544885,\n",
    "    1615820945244885,\n",
    "    1615820948144885,\n",
    "]\n",
    "\n",
    "l_events, r_events = remove_events(rect_events, tss, tse)"
   ]
  },
  {
   "cell_type": "markdown",
   "id": "1df23232",
   "metadata": {
    "pycharm": {
     "name": "#%% md\n"
    }
   },
   "source": [
    "## Frame manipulation"
   ]
  },
  {
   "cell_type": "code",
   "execution_count": null,
   "id": "f2f5a4a2",
   "metadata": {
    "pycharm": {
     "name": "#%%\n"
    }
   },
   "outputs": [],
   "source": [
    "frames = load_frames(\"/media/alphat/DisqueDur/0_Thesis/pavin.aedat4\")"
   ]
  },
  {
   "cell_type": "code",
   "execution_count": null,
   "id": "e70e411f",
   "metadata": {
    "pycharm": {
     "name": "#%%\n"
    }
   },
   "outputs": [],
   "source": [
    "rect_frames = rectify_frames(frames, -4, 8, 4, -8)\n",
    "\n",
    "write_frames(\n",
    "    \"/home/alphat/Desktop/im1/\", rect_frames, ([10, 84, 158, 232, 306], [20, 83, 146, 209]),\n",
    ")"
   ]
  },
  {
   "cell_type": "code",
   "execution_count": null,
   "id": "5b1c271e",
   "metadata": {
    "pycharm": {
     "name": "#%%\n"
    }
   },
   "outputs": [],
   "source": [
    "# Stereo matching\n",
    "disp_frames, disp_nb_frames = stereo_matching(\n",
    "    \"/home/alphat/Desktop/pavin_images/im1/\", [10, 84, 158, 232], [20, 83, 146], range(0, 200),\n",
    ")"
   ]
  },
  {
   "cell_type": "markdown",
   "id": "a996571a",
   "metadata": {
    "pycharm": {
     "name": "#%% md\n"
    }
   },
   "source": [
    "## Create event videos\n",
    "\n",
    "Generate frames of the desired visual stimuli, then convert those frames into an event stream"
   ]
  },
  {
   "cell_type": "code",
   "execution_count": null,
   "id": "a0f1d778",
   "metadata": {
    "pycharm": {
     "name": "#%%\n"
    }
   },
   "outputs": [],
   "source": [
    "framerate = 1000\n",
    "time_gap = 1e6 * 1 / framerate\n",
    "folder = home + \"Bureau/Events/\""
   ]
  },
  {
   "cell_type": "code",
   "execution_count": null,
   "id": "8058d32f",
   "metadata": {
    "pycharm": {
     "name": "#%%\n"
    }
   },
   "outputs": [],
   "source": [
    "moving_lines(folder, time=1, framerate=framerate, rotation=90, frame_start=1000)"
   ]
  },
  {
   "cell_type": "code",
   "execution_count": null,
   "id": "a0f8ac45",
   "metadata": {
    "pycharm": {
     "name": "#%%\n"
    }
   },
   "outputs": [],
   "source": [
    "disparity_bars(folder, disparities=[0, 0, 0, 0], framerate=framerate)\n",
    "disparity_bars(folder, disparities=[8, 6, 4, 2], framerate=framerate)"
   ]
  },
  {
   "cell_type": "code",
   "execution_count": null,
   "id": "e64b785e",
   "metadata": {
    "pycharm": {
     "name": "#%%\n"
    }
   },
   "outputs": [],
   "source": [
    "for rotation in [0, 23, 45, 68, 90, 113, 135, 158, 180, 203, 225, 248, 270, 293, 315, 338]:\n",
    "    moving_lines(folder + str(rotation) + \"/\", rotation=rotation, framerate=framerate)"
   ]
  },
  {
   "cell_type": "code",
   "execution_count": null,
   "id": "0baedda4",
   "metadata": {
    "pycharm": {
     "name": "#%%\n"
    }
   },
   "outputs": [],
   "source": [
    "pix2eve = Pix2Eve(\n",
    "    folder,\n",
    "    time_gap=time_gap,\n",
    "    log_threshold=0,\n",
    "    map_threshold=0.4,\n",
    "    n_max=5,\n",
    "    adapt_thresh_coef_shift=0.05,\n",
    ")\n",
    "events = pix2eve.run()\n",
    "events = events[events[:, 0].argsort()]"
   ]
  },
  {
   "cell_type": "code",
   "execution_count": null,
   "id": "3cc55782",
   "metadata": {
    "pycharm": {
     "name": "#%%\n"
    }
   },
   "outputs": [],
   "source": [
    "write_npz(home + \"Vidéos/vhlines\", events)"
   ]
  },
  {
   "cell_type": "markdown",
   "id": "b559023e",
   "metadata": {
    "pycharm": {
     "name": "#%% md\n"
    }
   },
   "source": [
    "## Divide visual field"
   ]
  },
  {
   "cell_type": "code",
   "execution_count": null,
   "id": "c873b8e1",
   "metadata": {
    "pycharm": {
     "name": "#%%\n"
    }
   },
   "outputs": [],
   "source": [
    "X, Y = divide_visual_field(5, 1, 40, 40)"
   ]
  }
 ],
 "metadata": {
  "kernelspec": {
   "display_name": "Python 3",
   "language": "python",
   "name": "python3"
  },
  "language_info": {
   "codemirror_mode": {
    "name": "ipython",
    "version": 3
   },
   "file_extension": ".py",
   "mimetype": "text/x-python",
   "name": "python",
   "nbconvert_exporter": "python",
   "pygments_lexer": "ipython3",
   "version": "3.8.12"
  }
 },
 "nbformat": 4,
 "nbformat_minor": 5
}