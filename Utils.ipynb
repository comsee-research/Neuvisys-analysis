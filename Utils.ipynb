{
 "cells": [
  {
   "cell_type": "markdown",
   "id": "532539b9",
   "metadata": {
    "pycharm": {
     "name": "#%% md\n"
    }
   },
   "source": [
    "# Network utility functions"
   ]
  },
  {
   "cell_type": "code",
   "execution_count": 1,
   "id": "5b26cddf",
   "metadata": {
    "pycharm": {
     "name": "#%%\n"
    }
   },
   "outputs": [],
   "source": [
    "%load_ext autoreload\n",
    "%autoreload 2\n",
    "\n",
    "import os\n",
    "import shutil\n",
    "from src.spiking_network.network.neuvisys import SpikingNetwork, clean_network\n",
    "from src.spiking_network.network.network_params import (\n",
    "    inhibition_learning_params,\n",
    ")\n",
    "from src.events.tools.read_write.aedat_tools import (\n",
    "    load_aedat4,\n",
    ")\n",
    "from src.events.tools.read_write.events_tools import (\n",
    "    write_npz,\n",
    "    npaedat_to_np,\n",
    "    ros_to_npy,\n",
    ")\n",
    "from src.events.tools.modification.event_modification import (\n",
    "    show_event_images,\n",
    "    rectify_events,\n",
    "    remove_events,\n",
    ")\n",
    "from src.events.tools.generation.stimuli_gen import (\n",
    "    moving_bars,\n",
    "    moving_lines,\n",
    "    disparity_bars\n",
    ")\n",
    "from src.events.tools.generation.pix2nvs import Pix2Eve\n",
    "from src.frames.frame_analysis import (\n",
    "    load_frames,\n",
    "    rectify_frames,\n",
    "    write_frames,\n",
    "    stereo_matching,\n",
    ")\n",
    "from src.spiking_network.planning.network_planner import (\n",
    "    create_networks,\n",
    "    random_params,\n",
    "    launch_neuvisys_multi_pass,\n",
    "    change_param,\n",
    "    divide_visual_field,\n",
    ")\n",
    "\n",
    "os.chdir(\"/home/thomas/neuvisys-analysis/src\")\n",
    "home = \"/home/thomas/\"\n",
    "\n",
    "network_path = home + \"neuvisys-dv/configuration/network_ref_vh/\""
   ]
  },
  {
   "cell_type": "markdown",
   "id": "05302e79",
   "metadata": {
    "pycharm": {
     "name": "#%% md\n"
    }
   },
   "source": [
    "## CAUTION: Delete Weights"
   ]
  },
  {
   "cell_type": "code",
   "execution_count": null,
   "id": "5b4c3825",
   "metadata": {
    "pycharm": {
     "name": "#%%\n"
    }
   },
   "outputs": [],
   "source": [
    "clean_network(network_path, [0, 1])"
   ]
  },
  {
   "cell_type": "markdown",
   "id": "3df2fe30",
   "metadata": {
    "pycharm": {
     "name": "#%% md\n"
    }
   },
   "source": [
    "## Network creation and launch"
   ]
  },
  {
   "cell_type": "code",
   "execution_count": 5,
   "id": "49fc3f58",
   "metadata": {
    "pycharm": {
     "name": "#%%\n"
    }
   },
   "outputs": [],
   "source": [
    "# params = {\"simple_cell_config\" : {\"ETA_LTP\": [0.0077, 0.0077]}, \"complex_cell_config\" : {\"ETA_LTP\": [0.0077, 0.0077]}}\n",
    "# create_networks(home + \"neuvisys-dv/cmake-build-release\", home + \"Bureau\", 2, {})\n",
    "random_params(\"/home/thomas/neuvisys-dv/cmake-build-release\", \"/home/thomas/Desktop/Experiment\", 1)"
   ]
  },
  {
   "cell_type": "code",
   "execution_count": null,
   "id": "64c17430",
   "metadata": {
    "pycharm": {
     "name": "#%%\n"
    }
   },
   "outputs": [],
   "source": [
    "# Launch training of multiple networks\n",
    "\n",
    "n_networks = 100\n",
    "exec_path = home + \"neuvisys-dv/build/neuvisys-exe\"\n",
    "networks_path = home + \"Desktop/test/\"\n",
    "event_path = home + \"Desktop/shapes.npz\"\n",
    "\n",
    "params = {\"simple_cell_config\": {\"TARGET_SPIKE_RATE\": [0.1, 0.2, 0.3]}}\n",
    "\n",
    "create_networks(exec_path, networks_path, n_networks, params)\n",
    "nb_iterations = 5\n",
    "\n",
    "df = []\n",
    "\n",
    "for i in range(0, n_networks):\n",
    "    launch_neuvisys_multi_pass(\n",
    "        exec_path, networks_path + \"network_\" + str(i) + \"/configs/network_config.json\", event_path, nb_iterations,\n",
    "    )\n",
    "\n",
    "    spinet = SpikingNetwork(networks_path + \"network_\" + str(i) + \"/\")\n",
    "    # display_network([spinet], 0)\n",
    "    # update_dataframe(df, spinet)\n",
    "\n",
    "# df = pd.DataFrame(df)\n",
    "# df.to_csv(home + \"Desktop/test/df\")"
   ]
  },
  {
   "cell_type": "markdown",
   "source": [
    "#### Inhibition weight learning"
   ],
   "metadata": {
    "collapsed": false,
    "pycharm": {
     "name": "#%% md\n"
    }
   }
  },
  {
   "cell_type": "code",
   "execution_count": 12,
   "id": "5a4a27e2",
   "metadata": {
    "pycharm": {
     "name": "#%%\n"
    }
   },
   "outputs": [],
   "source": [
    "exec_path = home + \"neuvisys-dv/cmake-build-release/neuvisys-exe\"\n",
    "networks_path = home + \"Desktop/Experiment/\"\n",
    "h_events = home + \"Videos/lines/hlines.npz\"\n",
    "v_events = home + \"Videos/lines/vlines.npz\"\n",
    "hv_events = home + \"Videos/lines/vhlines.npz\"\n",
    "\n",
    "events_disp = home + \"Videos/disparity/disparity_lines.npz\"\n",
    "events0 = home + \"Videos/disparity/0_lines.npz\"\n",
    "events5 = home + \"Videos/disparity/5_lines.npz\"\n",
    "\n",
    "disparities = home + \"Videos/disparity/disparities.npz\"\n",
    "\n",
    "params = inhibition_learning_params({\"network_config\": {\"nbCameras\": 2}})\n",
    "create_networks(exec_path, networks_path, 1, params)"
   ]
  },
  {
   "cell_type": "code",
   "execution_count": 13,
   "outputs": [
    {
     "name": "stdout",
     "output_type": "stream",
     "text": [
      "Layer 0: new weights generated\n",
      "Layer 1: new weights generated\n",
      "Unpacking events...\n",
      "23%\n",
      "47%\n",
      "71%\n",
      "95%\n",
      "Saving Network...\n",
      "Finished.\n"
     ]
    },
    {
     "data": {
      "text/plain": "'/home/thomas/Desktop/Experiment/network_inhibition'"
     },
     "execution_count": 13,
     "metadata": {},
     "output_type": "execute_result"
    }
   ],
   "source": [
    "## learning the base network\n",
    "path = networks_path + \"network_0/\"\n",
    "launch_neuvisys_multi_pass(exec_path, path + \"configs/network_config.json\", disparities, 3)\n",
    "\n",
    "change_param(networks_path + \"network_0/configs/simple_cell_config.json\", \"STDP_LEARNING\", \"none\")\n",
    "change_param(networks_path + \"network_0/configs/complex_cell_config.json\", \"STDP_LEARNING\", \"none\")\n",
    "shutil.copytree(path, networks_path + \"network_control\")\n",
    "shutil.copytree(path, networks_path + \"network_inhibition\")"
   ],
   "metadata": {
    "collapsed": false,
    "pycharm": {
     "name": "#%%\n"
    }
   }
  },
  {
   "cell_type": "code",
   "execution_count": 11,
   "outputs": [
    {
     "name": "stdout",
     "output_type": "stream",
     "text": [
      "Layer 0: weights loaded from file\n",
      "Layer 1: weights loaded from file\n",
      "Unpacking events...\n",
      "25%\n",
      "50%\n",
      "75%\n",
      "Saving Network...\n",
      "Finished.\n"
     ]
    }
   ],
   "source": [
    "## control test\n",
    "launch_neuvisys_multi_pass(exec_path, networks_path + \"network_control/configs/network_config.json\", events_disp, 10)"
   ],
   "metadata": {
    "collapsed": false,
    "pycharm": {
     "name": "#%%\n"
    }
   }
  },
  {
   "cell_type": "code",
   "execution_count": 12,
   "outputs": [
    {
     "name": "stdout",
     "output_type": "stream",
     "text": [
      "Layer 0: weights loaded from file\n",
      "Layer 1: weights loaded from file\n",
      "Unpacking events...\n",
      "5%\n",
      "10%\n",
      "15%\n",
      "20%\n",
      "25%\n",
      "30%\n",
      "35%\n",
      "40%\n",
      "45%\n",
      "50%\n",
      "55%\n",
      "60%\n",
      "65%\n",
      "70%\n",
      "75%\n",
      "80%\n",
      "85%\n",
      "90%\n",
      "95%\n",
      "Saving Network...\n",
      "Finished.\n"
     ]
    }
   ],
   "source": [
    "## learning inhibition weights\n",
    "change_param(networks_path + \"network_inhibition/configs/simple_cell_config.json\", \"STDP_LEARNING\", \"inhibitory\")\n",
    "launch_neuvisys_multi_pass(exec_path, networks_path + \"network_inhibition/configs/network_config.json\", events0, 10)"
   ],
   "metadata": {
    "collapsed": false,
    "pycharm": {
     "name": "#%%\n"
    }
   }
  },
  {
   "cell_type": "code",
   "execution_count": 13,
   "outputs": [
    {
     "name": "stdout",
     "output_type": "stream",
     "text": [
      "Layer 0: weights loaded from file\n",
      "Layer 1: weights loaded from file\n",
      "Unpacking events...\n",
      "25%\n",
      "50%\n",
      "75%\n",
      "Saving Network...\n",
      "Finished.\n"
     ]
    }
   ],
   "source": [
    "## experiment\n",
    "shutil.copytree(networks_path + \"network_inhibition\", networks_path + \"network_experiment\")\n",
    "change_param(networks_path + \"network_inhibition/configs/simple_cell_config.json\", \"STDP_LEARNING\", \"none\")\n",
    "launch_neuvisys_multi_pass(exec_path, networks_path + \"network_experiment/configs/network_config.json\", events_disp, 10)"
   ],
   "metadata": {
    "collapsed": false,
    "pycharm": {
     "name": "#%%\n"
    }
   }
  },
  {
   "cell_type": "markdown",
   "id": "a9e0ae0b",
   "metadata": {
    "pycharm": {
     "name": "#%% md\n"
    }
   },
   "source": [
    "## Event manipulation:\n",
    "Functions for loading, writing or creating event files in the different formats (aedat4, npz, rosbag...)"
   ]
  },
  {
   "cell_type": "code",
   "execution_count": null,
   "id": "bd6a9d99",
   "metadata": {
    "pycharm": {
     "name": "#%%\n"
    }
   },
   "outputs": [],
   "source": [
    "# Load events\n",
    "events = load_aedat4(home + \"Desktop/shape_hovering_fast.aedat4\")"
   ]
  },
  {
   "cell_type": "code",
   "execution_count": 11,
   "id": "09c0a7d7",
   "metadata": {
    "pycharm": {
     "name": "#%%\n"
    }
   },
   "outputs": [],
   "source": [
    "# Save aedat file as numpy npz file\n",
    "# write_npz(home + \"Desktop/shape_hovering_fast\", events)  # mono\n",
    "# write_npz(home + \"Desktop/shapes\", (left_events, right_events)) # stereo\n",
    "import numpy as np\n",
    "left_events = np.load(\"/home/thomas/Videos/left_disparities.npz\")\n",
    "right_events = np.load(\"/home/thomas/Videos/right_disparities.npz\")\n",
    "write_npz(\"/home/thomas/Videos/disparity/disparities\", (left_events, right_events))"
   ]
  },
  {
   "cell_type": "code",
   "execution_count": null,
   "id": "adbd00f7",
   "metadata": {
    "pycharm": {
     "name": "#%%\n"
    }
   },
   "outputs": [],
   "source": [
    "# Load rosbag and convert it to npdat\n",
    "left_events = ros_to_npy(home + \"Downloads/outdoor_night1_data.bag\", topic=\"/davis/left/events\")\n",
    "right_events = ros_to_npy(home + \"Downloads/outdoor_night1_data.bag\", topic=\"/davis/right/events\")"
   ]
  },
  {
   "cell_type": "code",
   "execution_count": null,
   "id": "19cda09e",
   "metadata": {
    "pycharm": {
     "name": "#%%\n"
    }
   },
   "outputs": [],
   "source": [
    "# Rectify and plot event images\n",
    "rect_events = rectify_events((events[0].copy(), events[1].copy()), -5, -16, 5, 16)\n",
    "\n",
    "for i in range(2):\n",
    "    show_event_images(\n",
    "        npaedat_to_np(rect_events[0]),\n",
    "        100000,\n",
    "        346,\n",
    "        260,\n",
    "        \"/media/alphat/DisqueDur/0_Thesis/short_pavin2_img/\",\n",
    "        ([10, 84, 158, 232, 306], [20, 83, 146, 209]),\n",
    "        \"_\" + str(i),\n",
    "    )"
   ]
  },
  {
   "cell_type": "code",
   "execution_count": null,
   "id": "d62e95f1",
   "metadata": {
    "pycharm": {
     "name": "#%%\n"
    }
   },
   "outputs": [],
   "source": [
    "# remove events from specific intervals\n",
    "tss = [\n",
    "    1615820915344885,\n",
    "    1615820923944885,\n",
    "    1615820925444885,\n",
    "    1615820944844885,\n",
    "    1615820947944885,\n",
    "]\n",
    "tse = [\n",
    "    1615820916544885,\n",
    "    1615820924344885,\n",
    "    1615820925544885,\n",
    "    1615820945244885,\n",
    "    1615820948144885,\n",
    "]\n",
    "\n",
    "l_events, r_events = remove_events(rect_events, tss, tse)"
   ]
  },
  {
   "cell_type": "markdown",
   "id": "1df23232",
   "metadata": {
    "pycharm": {
     "name": "#%% md\n"
    }
   },
   "source": [
    "## Frame manipulation"
   ]
  },
  {
   "cell_type": "code",
   "execution_count": null,
   "id": "f2f5a4a2",
   "metadata": {
    "pycharm": {
     "name": "#%%\n"
    }
   },
   "outputs": [],
   "source": [
    "frames = load_frames(\"/media/alphat/DisqueDur/0_Thesis/pavin.aedat4\")"
   ]
  },
  {
   "cell_type": "code",
   "execution_count": null,
   "id": "e70e411f",
   "metadata": {
    "pycharm": {
     "name": "#%%\n"
    }
   },
   "outputs": [],
   "source": [
    "rect_frames = rectify_frames(frames, -4, 8, 4, -8)\n",
    "\n",
    "write_frames(\n",
    "    \"/home/alphat/Desktop/im1/\", rect_frames, ([10, 84, 158, 232, 306], [20, 83, 146, 209]),\n",
    ")"
   ]
  },
  {
   "cell_type": "code",
   "execution_count": null,
   "id": "5b1c271e",
   "metadata": {
    "pycharm": {
     "name": "#%%\n"
    }
   },
   "outputs": [],
   "source": [
    "# Stereo matching\n",
    "disp_frames, disp_nb_frames = stereo_matching(\n",
    "    \"/home/alphat/Desktop/pavin_images/im1/\", [10, 84, 158, 232], [20, 83, 146], range(0, 200),\n",
    ")"
   ]
  },
  {
   "cell_type": "markdown",
   "id": "a996571a",
   "metadata": {
    "pycharm": {
     "name": "#%% md\n"
    }
   },
   "source": [
    "## Create event videos\n",
    "\n",
    "Generate frames of the desired visual stimuli, then convert those frames into an event stream"
   ]
  },
  {
   "cell_type": "code",
   "execution_count": 3,
   "id": "a0f1d778",
   "metadata": {
    "pycharm": {
     "name": "#%%\n"
    }
   },
   "outputs": [],
   "source": [
    "framerate = 1000\n",
    "time_gap = 1e6 * 1 / framerate\n",
    "folder = home + \"Desktop/Events/\""
   ]
  },
  {
   "cell_type": "code",
   "execution_count": 7,
   "id": "8058d32f",
   "metadata": {
    "pycharm": {
     "name": "#%%\n"
    }
   },
   "outputs": [],
   "source": [
    "moving_lines(folder, time=1, framerate=framerate, rotation=0, disparity=0, frame_start=0)"
   ]
  },
  {
   "cell_type": "code",
   "execution_count": null,
   "id": "a0f8ac45",
   "metadata": {
    "pycharm": {
     "name": "#%%\n"
    }
   },
   "outputs": [],
   "source": [
    "disparity_bars(folder, disparities=[0, 0, 0, 0], framerate=framerate)\n",
    "disparity_bars(folder, disparities=[8, 6, 4, 2], framerate=framerate)"
   ]
  },
  {
   "cell_type": "code",
   "execution_count": null,
   "id": "e64b785e",
   "metadata": {
    "pycharm": {
     "name": "#%%\n"
    }
   },
   "outputs": [],
   "source": [
    "for rotation in [0, 23, 45, 68, 90, 113, 135, 158, 180, 203, 225, 248, 270, 293, 315, 338]:\n",
    "    moving_lines(folder + str(rotation) + \"/\", rotation=rotation, framerate=framerate)"
   ]
  },
  {
   "cell_type": "code",
   "execution_count": 8,
   "id": "0baedda4",
   "metadata": {
    "pycharm": {
     "name": "#%%\n"
    }
   },
   "outputs": [
    {
     "name": "stdout",
     "output_type": "stream",
     "text": [
      "0.0%...\n",
      "5.0%...\n",
      "10.0%...\n",
      "15.0%...\n",
      "20.0%...\n",
      "25.0%...\n",
      "30.0%...\n",
      "35.0%...\n",
      "40.0%...\n",
      "45.0%...\n",
      "50.0%...\n",
      "55.0%...\n",
      "60.0%...\n",
      "65.0%...\n",
      "70.0%...\n",
      "75.0%...\n",
      "80.0%...\n",
      "85.0%...\n",
      "90.0%...\n",
      "95.0%...\n",
      "Finished conversion\n"
     ]
    }
   ],
   "source": [
    "pix2eve = Pix2Eve(\n",
    "    folder,\n",
    "    time_gap=time_gap,\n",
    "    log_threshold=0,\n",
    "    map_threshold=0.4,\n",
    "    n_max=5,\n",
    "    adapt_thresh_coef_shift=0.05,\n",
    ")\n",
    "events = pix2eve.run()\n",
    "events = events[events[:, 0].argsort()]"
   ]
  },
  {
   "cell_type": "code",
   "execution_count": 9,
   "id": "3cc55782",
   "metadata": {
    "pycharm": {
     "name": "#%%\n"
    }
   },
   "outputs": [],
   "source": [
    "write_npz(home + \"Videos/left_disparities\", events)"
   ]
  },
  {
   "cell_type": "markdown",
   "id": "b559023e",
   "metadata": {
    "pycharm": {
     "name": "#%% md\n"
    }
   },
   "source": [
    "## Divide visual field"
   ]
  },
  {
   "cell_type": "code",
   "execution_count": null,
   "id": "c873b8e1",
   "metadata": {
    "pycharm": {
     "name": "#%%\n"
    }
   },
   "outputs": [],
   "source": [
    "X, Y = divide_visual_field(5, 1, 40, 40)"
   ]
  },
  {
   "cell_type": "code",
   "execution_count": 36,
   "outputs": [
    {
     "data": {
      "text/plain": "(array([3945., 2387., 1435.,  902.,  546.,  329.,  180.,  102.,   71.,\n          37.]),\n array([7.80458100e-05, 9.99377224e-01, 1.99867640e+00, 2.99797558e+00,\n        3.99727476e+00, 4.99657394e+00, 5.99587311e+00, 6.99517229e+00,\n        7.99447147e+00, 8.99377065e+00, 9.99306983e+00]),\n <BarContainer object of 10 artists>)"
     },
     "execution_count": 36,
     "metadata": {},
     "output_type": "execute_result"
    },
    {
     "data": {
      "text/plain": "<Figure size 432x288 with 1 Axes>",
      "image/png": "[encoded data removed]"
     },
     "metadata": {
      "needs_background": "light"
     },
     "output_type": "display_data"
    }
   ],
   "source": [
    "from scipy.stats import expon\n",
    "import matplotlib.pyplot as plt\n",
    "\n",
    "dist = expon(0, 2).rvs(size=10000)\n",
    "dist = dist[dist < 10]\n",
    "plt.hist(dist)"
   ],
   "metadata": {
    "collapsed": false,
    "pycharm": {
     "name": "#%%\n"
    }
   }
  }
 ],
 "metadata": {
  "kernelspec": {
   "display_name": "Python 3",
   "language": "python",
   "name": "python3"
  },
  "language_info": {
   "codemirror_mode": {
    "name": "ipython",
    "version": 3
   },
   "file_extension": ".py",
   "mimetype": "text/x-python",
   "name": "python",
   "nbconvert_exporter": "python",
   "pygments_lexer": "ipython3",
   "version": "3.8.12"
  }
 },
 "nbformat": 4,
 "nbformat_minor": 5
}